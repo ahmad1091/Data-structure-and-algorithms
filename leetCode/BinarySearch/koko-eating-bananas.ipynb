{
 "cells": [
  {
   "cell_type": "markdown",
   "metadata": {},
   "source": [
    "# 875. Koko Eating Bananas\n",
    "\n",
    "Koko loves to eat bananas. There are `n` piles of bananas, the `ith` pile has `piles[i]` bananas. The guards have gone and will come back in `h` hours.\n",
    "\n",
    "Koko can decide her bananas-per-hour eating speed of `k`. Each hour, she chooses some pile of bananas and eats `k` bananas from that pile. If the pile has less than `k` bananas, she eats all of them instead and will not eat any more bananas during this hour.\n",
    "\n",
    "Koko likes to eat slowly but still wants to finish eating all the bananas before the guards return.\n",
    "\n",
    "Return the minimum integer `k` such that she can eat all the bananas within `h` hours.\n",
    "\n",
    " \n",
    "\n",
    "**Example 1:**\n",
    "```\n",
    "Input: piles = [3,6,7,11], h = 8\n",
    "Output: 4\n",
    "```\n",
    "---\n",
    "**Example 2:**\n",
    "```\n",
    "Input: piles = [30,11,23,4,20], h = 5\n",
    "Output: 30\n",
    "```\n",
    "---\n",
    "**Example 3:**\n",
    "```\n",
    "Input: piles = [30,11,23,4,20], h = 6\n",
    "Output: 23\n",
    "```\n",
    "---\n",
    "\n",
    "**Constraints:**\n",
    "\n",
    "- `1 <= piles.length <= 10^4`\n",
    "- `piles.length <= h <= 10^9`\n",
    "- `1 <= piles[i] <= 10^9`"
   ]
  }
 ],
 "metadata": {
  "language_info": {
   "name": "python"
  },
  "orig_nbformat": 4
 },
 "nbformat": 4,
 "nbformat_minor": 2
}
