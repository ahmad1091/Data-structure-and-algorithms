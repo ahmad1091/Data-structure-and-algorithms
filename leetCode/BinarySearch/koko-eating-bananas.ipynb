{
 "cells": [
  {
   "cell_type": "markdown",
   "metadata": {},
   "source": [
    "# 875. Koko Eating Bananas\n",
    "\n",
    "Koko loves to eat bananas. There are `n` piles of bananas, the `ith` pile has `piles[i]` bananas. The guards have gone and will come back in `h` hours.\n",
    "\n",
    "Koko can decide her bananas-per-hour eating speed of `k`. Each hour, she chooses some pile of bananas and eats `k` bananas from that pile. If the pile has less than `k` bananas, she eats all of them instead and will not eat any more bananas during this hour.\n",
    "\n",
    "Koko likes to eat slowly but still wants to finish eating all the bananas before the guards return.\n",
    "\n",
    "Return the minimum integer `k` such that she can eat all the bananas within `h` hours.\n",
    "\n",
    " \n",
    "\n",
    "**Example 1:**\n",
    "```\n",
    "Input: piles = [3,6,7,11], h = 8\n",
    "Output: 4\n",
    "```\n",
    "---\n",
    "**Example 2:**\n",
    "```\n",
    "Input: piles = [30,11,23,4,20], h = 5\n",
    "Output: 30\n",
    "```\n",
    "---\n",
    "**Example 3:**\n",
    "```\n",
    "Input: piles = [30,11,23,4,20], h = 6\n",
    "Output: 23\n",
    "```\n",
    "---\n",
    "\n",
    "**Constraints:**\n",
    "\n",
    "- `1 <= piles.length <= 10^4`\n",
    "- `piles.length <= h <= 10^9`\n",
    "- `1 <= piles[i] <= 10^9`"
   ]
  },
  {
   "cell_type": "code",
   "execution_count": null,
   "metadata": {},
   "outputs": [],
   "source": [
    "class Solution:\n",
    "    def minEatingSpeed(self, piles: List[int], h: int) -> int:\n",
    "        l, r = 1, max(piles)\n",
    "        res =  r\n",
    "\n",
    "        while l <= r:\n",
    "            m = (l + r) // 2\n",
    "            time = 0\n",
    "            for n in piles:\n",
    "                time += ceil(n / m)\n",
    "            if time <= h:\n",
    "                r = m - 1\n",
    "            else:\n",
    "                l = m + 1\n",
    "            \n",
    "        return l\n",
    "            \n"
   ]
  }
 ],
 "metadata": {
  "kernelspec": {
   "display_name": "Python 3.8.10 64-bit",
   "language": "python",
   "name": "python3"
  },
  "language_info": {
   "name": "python",
   "version": "3.8.10"
  },
  "orig_nbformat": 4,
  "vscode": {
   "interpreter": {
    "hash": "916dbcbb3f70747c44a77c7bcd40155683ae19c65e1c03b4aa3499c5328201f1"
   }
  }
 },
 "nbformat": 4,
 "nbformat_minor": 2
}
