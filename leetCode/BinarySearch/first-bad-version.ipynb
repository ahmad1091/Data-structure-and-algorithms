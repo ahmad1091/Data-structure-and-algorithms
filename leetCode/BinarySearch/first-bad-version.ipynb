{
 "cells": [
  {
   "cell_type": "markdown",
   "metadata": {},
   "source": [
    "# 278. First Bad Version\n",
    "\n",
    "You are a product manager and currently leading a team to develop a new product. Unfortunately, the latest version of your product fails the quality check. Since each version is developed based on the previous version, all the versions after a bad version are also bad.\n",
    "\n",
    "Suppose you have `n` versions `[1, 2, ..., n]` and you want to find out the first bad one, which causes all the following ones to be bad.\n",
    "\n",
    "You are given an API `bool isBadVersion(version)` which returns whether `version` is bad. Implement a function to find the first bad version. You should minimize the number of calls to the API.\n",
    "\n",
    "--- \n",
    "\n",
    "**Example 1:**\n",
    "\n",
    "**Input:** `n = 5, bad = 4`\n",
    "\n",
    "**Output:** `4`\n",
    "\n",
    "**Explanation:**\n",
    "`call isBadVersion(3) -> false`\n",
    "\n",
    "`call isBadVersion(5) -> true`\n",
    "\n",
    "`call isBadVersion(4) -> true`\n",
    "\n",
    "`Then 4 is the first bad version.`\n",
    "\n",
    "---\n",
    "\n",
    "**Example 2:**\n",
    "\n",
    "**Input:** `n = 1, bad = 1`\n",
    "**Output:** `1`\n",
    "\n",
    " ---\n",
    "\n",
    "**Constraints:**\n",
    "\n",
    "- `1 <= bad <= n <= 231 - 1`"
   ]
  },
  {
   "cell_type": "code",
   "execution_count": null,
   "metadata": {},
   "outputs": [],
   "source": [
    "# The isBadVersion API is already defined for you.\n",
    "# @param version, an integer\n",
    "# @return a bool\n",
    "# def isBadVersion(version):\n",
    "\n",
    "class Solution(object):\n",
    "    def firstBadVersion(self, n):\n",
    "        l, r = 1, n\n",
    "\n",
    "        while l < r:\n",
    "            mid = (l + r) >> 1\n",
    "            if isBadVersion(mid):\n",
    "                r = mid \n",
    "            else:\n",
    "                l = mid + 1\n",
    "\n",
    "        return l"
   ]
  }
 ],
 "metadata": {
  "language_info": {
   "name": "python"
  },
  "orig_nbformat": 4
 },
 "nbformat": 4,
 "nbformat_minor": 2
}
