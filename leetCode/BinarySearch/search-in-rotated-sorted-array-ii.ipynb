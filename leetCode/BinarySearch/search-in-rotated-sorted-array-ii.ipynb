{
 "cells": [
  {
   "cell_type": "markdown",
   "metadata": {},
   "source": [
    "# 81. Search in Rotated Sorted Array II\n",
    "\n",
    "There is an integer array `nums` sorted in non-decreasing order (not necessarily with **distinct** values).\n",
    "\n",
    "Before being passed to your function, `nums` is **rotated** at an unknown pivot index `k` (`0 <= k < nums.length`) such that the resulting array is `[nums[k], nums[k+1], ..., nums[n-1], nums[0], nums[1], ..., nums[k-1]]` (**0-indexed**). For example, `[0,1,2,4,4,4,5,6,6,7]` might be rotated at pivot index 5 and become `[4,5,6,6,7,0,1,2,4,4]`.\n",
    "\n",
    "Given the array `nums` **after** the rotation and an integer `target`, return `true` if `target` is in `nums`, or `false` if it is not in `nums`.\n",
    "\n",
    "You must decrease the overall operation steps as much as possible.\n",
    "\n",
    " ---\n",
    "\n",
    "**Example 1:**\n",
    "\n",
    "**Input:** `nums = [2,5,6,0,0,1,2], target = 0`\n",
    "\n",
    "**Output:** `true`\n",
    "\n",
    "---\n",
    "Example 2:\n",
    "\n",
    "**Input:** `nums = [2,5,6,0,0,1,2], target = 3`\n",
    "\n",
    "**Output:** `false`\n",
    " \n",
    "---\n",
    "\n",
    "**Constraints:**\n",
    "\n",
    "- `1 <= nums.length <= 5000`\n",
    "- `-104 <= nums[i] <= 104`\n",
    "- `nums is guaranteed to be rotated at some pivot.`\n",
    "- `-104 <= target <= 104`\n",
    " \n",
    "\n",
    "**Follow up:** This problem is similar to Search in [Rotated Sorted Array](leetCode/BinarySearch/search-in-rotated-sorted-array.py), but `nums` may contain **duplicates**. Would this affect the runtime complexity? How and why?"
   ]
  },
  {
   "cell_type": "code",
   "execution_count": null,
   "metadata": {},
   "outputs": [],
   "source": [
    "class Solution:\n",
    "    def search(self, nums: List[int], target: int) -> int:\n",
    "        return target in nums"
   ]
  },
  {
   "cell_type": "code",
   "execution_count": null,
   "metadata": {},
   "outputs": [],
   "source": [
    "class Solution:\n",
    "    def search(self, nums: List[int], target: int) -> int:\n",
    "        l, r = 0, len(nums) - 1\n",
    "\n",
    "        while l <= r:\n",
    "            mid = (l + r) >> 1\n",
    "            if target == nums[mid]:\n",
    "                return True\n",
    "            # right sorted portion\n",
    "            if nums[mid] < nums[r] or nums[mid] < nums[l]:\n",
    "                if target > nums[mid] and target <= nums[r]:\n",
    "                    l = mid + 1\n",
    "                else:\n",
    "                    r = mid - 1\n",
    "            #left sorted portion\n",
    "            elif nums[mid] > nums[l] or nums[mid] > nums[r]:\n",
    "                if target < nums[mid] and target >= nums[l]:\n",
    "                    r = mid - 1\n",
    "                else:\n",
    "                    l = mid + 1\n",
    "            else:\n",
    "                r -= 1\n",
    "\n",
    "        return False "
   ]
  }
 ],
 "metadata": {
  "kernelspec": {
   "display_name": "Python 3.8.10 64-bit",
   "language": "python",
   "name": "python3"
  },
  "language_info": {
   "name": "python",
   "version": "3.8.10"
  },
  "orig_nbformat": 4,
  "vscode": {
   "interpreter": {
    "hash": "916dbcbb3f70747c44a77c7bcd40155683ae19c65e1c03b4aa3499c5328201f1"
   }
  }
 },
 "nbformat": 4,
 "nbformat_minor": 2
}
