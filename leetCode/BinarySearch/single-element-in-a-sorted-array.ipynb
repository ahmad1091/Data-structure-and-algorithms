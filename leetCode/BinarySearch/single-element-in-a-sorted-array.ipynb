{
 "cells": [
  {
   "cell_type": "markdown",
   "metadata": {},
   "source": [
    "# 540. Single Element in a Sorted Array\n",
    "\n",
    "You are given a sorted array consisting of only integers where every element appears exactly twice, except for one element which appears exactly once.\n",
    "\n",
    "Return the single element that appears only once.\n",
    "\n",
    "Your solution must run in `O(log n)` time and `O(1)` space.\n",
    "\n",
    " ---\n",
    "\n",
    "**Example 1:**\n",
    "\n",
    "**Input:** `nums = [1,1,2,3,3,4,4,8,8]`\n",
    "\n",
    "**Output:** `2`\n",
    "\n",
    "---\n",
    "\n",
    "**Example 2:**\n",
    "\n",
    "**Input:** `nums = [3,3,7,7,10,11,11]`\n",
    "\n",
    "**Output:** `10`\n",
    " \n",
    "---\n",
    "**Constraints:**\n",
    "\n",
    "- `1 <= nums.length <= 105`\n",
    "- `0 <= nums[i] <= 105`"
   ]
  },
  {
   "cell_type": "code",
   "execution_count": null,
   "metadata": {},
   "outputs": [],
   "source": [
    "# sol 1:\n",
    "class Solution:\n",
    "    def singleNonDuplicate(self, nums: List[int]) -> int:\n",
    "        counter = Counter(nums)\n",
    "\n",
    "        for key, val in counter.items():\n",
    "            if val == 1:\n",
    "                return key\n"
   ]
  }
 ],
 "metadata": {
  "kernelspec": {
   "display_name": "Python 3.8.10 64-bit",
   "language": "python",
   "name": "python3"
  },
  "language_info": {
   "name": "python",
   "version": "3.8.10"
  },
  "orig_nbformat": 4,
  "vscode": {
   "interpreter": {
    "hash": "916dbcbb3f70747c44a77c7bcd40155683ae19c65e1c03b4aa3499c5328201f1"
   }
  }
 },
 "nbformat": 4,
 "nbformat_minor": 2
}
