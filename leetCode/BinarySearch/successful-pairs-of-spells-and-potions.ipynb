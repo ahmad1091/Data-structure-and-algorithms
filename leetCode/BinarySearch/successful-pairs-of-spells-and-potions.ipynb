{
 "cells": [
  {
   "cell_type": "markdown",
   "metadata": {},
   "source": [
    "# 2300. Successful Pairs of Spells and Potions\n",
    "\n",
    "You are given two positive integer arrays `spells` and potions, of length `n` and `m` respectively, where `spells[i]` represents the strength of the `ith` spell and `potions[j]` represents the strength of the `jth` potion.\n",
    "\n",
    "You are also given an integer `success`. A spell and potion pair is considered **successful** if the product of their strengths is at least `success`.\n",
    "\n",
    "Return *an integer array `pairs` of length n where `pairs[i]` is the number of potions that will form a successful pair with the `ith` spell*.\n",
    "\n",
    " \n",
    "\n",
    "**Example 1:**\n",
    "```\n",
    "Input: spells = [5,1,3], potions = [1,2,3,4,5], success = 7\n",
    "Output: [4,0,3]\n",
    "Explanation:\n",
    "- 0th spell: 5 * [1,2,3,4,5] = [5,10,15,20,25]. 4 pairs are successful.\n",
    "- 1st spell: 1 * [1,2,3,4,5] = [1,2,3,4,5]. 0 pairs are successful.\n",
    "- 2nd spell: 3 * [1,2,3,4,5] = [3,6,9,12,15]. 3 pairs are successful.\n",
    "Thus, [4,0,3] is returned.\n",
    "```\n",
    "---\n",
    "**Example 2:**\n",
    "```\n",
    "Input: spells = [3,1,2], potions = [8,5,8], success = 16\n",
    "Output: [2,0,2]\n",
    "Explanation:\n",
    "- 0th spell: 3 * [8,5,8] = [24,15,24]. 2 pairs are successful.\n",
    "- 1st spell: 1 * [8,5,8] = [8,5,8]. 0 pairs are successful. \n",
    "- 2nd spell: 2 * [8,5,8] = [16,10,16]. 2 pairs are successful. \n",
    "Thus, [2,0,2] is returned.\n",
    "```\n",
    "--- \n",
    "\n",
    "**Constraints:**\n",
    "\n",
    "- `n == spells.length`\n",
    "- `m == potions.length`\n",
    "- `1 <= n, m <= 105`\n",
    "- `1 <= spells[i], potions[i] <= 105`\n",
    "- `1 <= success <= 1010`"
   ]
  },
  {
   "cell_type": "code",
   "execution_count": null,
   "metadata": {},
   "outputs": [],
   "source": [
    "class Solution:\n",
    "    def successfulPairs(self, spells: List[int], potions: List[int], success: int) -> List[int]:\n",
    "        n, m = len(spells), len(potions)\n",
    "        pairs = [0] * n\n",
    "        \n",
    "        for i in range(n):\n",
    "            for j in range(m):\n",
    "                if spells[i] * potions[j] >= success:\n",
    "                    pairs[i] += 1\n",
    "\n",
    "        return pairs\n",
    "       \n"
   ]
  }
 ],
 "metadata": {
  "language_info": {
   "name": "python"
  },
  "orig_nbformat": 4
 },
 "nbformat": 4,
 "nbformat_minor": 2
}
