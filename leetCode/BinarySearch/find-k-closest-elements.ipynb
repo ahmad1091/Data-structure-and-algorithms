{
 "cells": [
  {
   "cell_type": "markdown",
   "metadata": {},
   "source": [
    "# 658. Find K Closest Elements\n",
    "Given a **sorted** integer array `arr`, two integers `k` and `x`, return the `k` closest integers to `x` in the array. The result should also be sorted in ascending order.\n",
    "\n",
    "An integer `a` is closer to `x` than an integer `b` if:\n",
    "\n",
    "- `|a - x| < |b - x|`, or\n",
    "- `|a - x| == |b - x|` and `a < b`\n",
    " \n",
    "---\n",
    "**Example 1:**\n",
    "\n",
    "**Input:** `arr = [1,2,3,4,5], k = 4, x = 3`\n",
    "\n",
    "**Output:** `[1,2,3,4]`\n",
    "\n",
    "---\n",
    "**Example 2:**\n",
    "\n",
    "**Input:** `arr = [1,2,3,4,5], k = 4, x = -1`\n",
    "\n",
    "**Output:** `[1,2,3,4]`\n",
    " \n",
    "---\n",
    "\n",
    "**Constraints:**\n",
    "\n",
    "- `1 <= k <= arr.length`\n",
    "- `1 <= arr.length <= 104`\n",
    "- `arr is sorted in ascending order.`\n",
    "- `-104 <= arr[i], x <= 104`"
   ]
  },
  {
   "cell_type": "code",
   "execution_count": null,
   "metadata": {},
   "outputs": [],
   "source": [
    "# sol 1:\n",
    "class Solution:\n",
    "    def findClosestElements(self, arr: List[int], k: int, x: int) -> List[int]:\n",
    "        arr.sort(key = lambda a : abs(a - x))\n",
    "        return sorted(arr[:k])"
   ]
  },
  {
   "cell_type": "code",
   "execution_count": null,
   "metadata": {},
   "outputs": [],
   "source": [
    "class Solution:\n",
    "    def findClosestElements(self, arr: List[int], k: int, x: int) -> List[int]:\n",
    "        if x < arr[0]:\n",
    "            return arr[:k]\n",
    "\n",
    "        elif x > arr[-1]:\n",
    "            return arr[-k:]\n",
    "        \n",
    "        l, r = 0, len(arr) - 1\n",
    "        val , idx = arr[0], 0\n",
    "\n",
    "        while l <= r:\n",
    "            m = (l + r) >> 1\n",
    "            curDiff, resDiff = abs( arr[m] - x), abs(val - x)\n",
    "            if curDiff < resDiff or curDiff == resDiff and arr[m] < val:\n",
    "                val, idx = arr[m], m\n",
    "\n",
    "            if x < arr[m]:\n",
    "                r = m - 1\n",
    "            elif x > arr[m]:\n",
    "                l = m + 1\n",
    "            else:\n",
    "                break\n",
    "                \n",
    "        l = r = idx\n",
    "        for i in range( k - 1):\n",
    "            if l == 0:\n",
    "                r += 1\n",
    "            elif r == len(arr) -1 or x - arr[l - 1] <= arr[r + 1] - x:\n",
    "                l -= 1\n",
    "            else:\n",
    "                r += 1\n",
    "                \n",
    "        return arr[l:r + 1]"
   ]
  },
  {
   "cell_type": "code",
   "execution_count": null,
   "metadata": {},
   "outputs": [],
   "source": [
    "class Solution:\n",
    "    def findClosestElements(self, arr: List[int], k: int, x: int) -> List[int]:\n",
    "        if len(arr) == k:\n",
    "            return arr\n",
    "\n",
    "        left = self.binary_search(arr, x) - 1\n",
    "        right = left + 1\n",
    "\n",
    "        while right - left - 1 < k:\n",
    "            if left == -1:\n",
    "                right += 1\n",
    "                continue\n",
    "\n",
    "            if right == len(arr) or \\\n",
    "                    abs(arr[left] - x) <= abs(arr[right] - x):\n",
    "                left -= 1\n",
    "            else:\n",
    "                right += 1\n",
    "\n",
    "        return arr[left + 1:right]\n",
    "\n",
    "    def binary_search(self, array: List[int], target: int) -> int:\n",
    "        left = 0\n",
    "        right = len(array) - 1\n",
    "        while left <= right:\n",
    "            mid = (left + right) // 2\n",
    "            if array[mid] == target:\n",
    "                return mid\n",
    "            if array[mid] < target:\n",
    "                left = mid + 1\n",
    "            else:\n",
    "                right = mid - 1\n",
    "\n",
    "        return left"
   ]
  }
 ],
 "metadata": {
  "kernelspec": {
   "display_name": "Python 3.8.10 64-bit",
   "language": "python",
   "name": "python3"
  },
  "language_info": {
   "name": "python",
   "version": "3.8.10"
  },
  "orig_nbformat": 4,
  "vscode": {
   "interpreter": {
    "hash": "916dbcbb3f70747c44a77c7bcd40155683ae19c65e1c03b4aa3499c5328201f1"
   }
  }
 },
 "nbformat": 4,
 "nbformat_minor": 2
}
