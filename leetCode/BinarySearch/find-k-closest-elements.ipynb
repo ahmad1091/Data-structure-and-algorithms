{
 "cells": [
  {
   "cell_type": "markdown",
   "metadata": {},
   "source": [
    "# 658. Find K Closest Elements\n",
    "Given a **sorted** integer array `arr`, two integers `k` and `x`, return the `k` closest integers to `x` in the array. The result should also be sorted in ascending order.\n",
    "\n",
    "An integer `a` is closer to `x` than an integer `b` if:\n",
    "\n",
    "- `|a - x| < |b - x|`, or\n",
    "- `|a - x| == |b - x|` and `a < b`\n",
    " \n",
    "---\n",
    "**Example 1:**\n",
    "\n",
    "**Input:** `arr = [1,2,3,4,5], k = 4, x = 3`\n",
    "\n",
    "**Output:** `[1,2,3,4]`\n",
    "\n",
    "---\n",
    "**Example 2:**\n",
    "\n",
    "**Input:** `arr = [1,2,3,4,5], k = 4, x = -1`\n",
    "\n",
    "**Output:** `[1,2,3,4]`\n",
    " \n",
    "---\n",
    "\n",
    "**Constraints:**\n",
    "\n",
    "- `1 <= k <= arr.length`\n",
    "- `1 <= arr.length <= 104`\n",
    "- `arr is sorted in ascending order.`\n",
    "- `-104 <= arr[i], x <= 104`"
   ]
  },
  {
   "cell_type": "code",
   "execution_count": null,
   "metadata": {},
   "outputs": [],
   "source": [
    "# sol 1:\n",
    "class Solution:\n",
    "    def findClosestElements(self, arr: List[int], k: int, x: int) -> List[int]:\n",
    "        arr.sort(key = lambda a : abs(a - x))\n",
    "        return sorted(arr[:k])"
   ]
  }
 ],
 "metadata": {
  "language_info": {
   "name": "python"
  },
  "orig_nbformat": 4
 },
 "nbformat": 4,
 "nbformat_minor": 2
}
