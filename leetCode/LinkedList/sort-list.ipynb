{
 "cells": [
  {
   "cell_type": "markdown",
   "metadata": {},
   "source": [
    "# 148. Sort List\n",
    "\n",
    "Given the `head` of a linked list, return the list after sorting it in **ascending order**.\n",
    "\n",
    "\n",
    " \n",
    "\n",
    "**Example 1:**\n",
    "\n",
    "![image](https://assets.leetcode.com/uploads/2020/09/14/sort_list_1.jpg)\n",
    "\n",
    "```\n",
    "Input: head = [4,2,1,3]\n",
    "Output: [1,2,3,4]\n",
    "```\n",
    "**Example 2:**\n",
    "\n",
    "![image](https://assets.leetcode.com/uploads/2020/09/14/sort_list_2.jpg)\n",
    "```\n",
    "Input: head = [-1,5,3,4,0]\n",
    "Output: [-1,0,3,4,5]\n",
    "```\n",
    "---\n",
    "**Example 3:**\n",
    "```\n",
    "Input: head = []\n",
    "Output: []\n",
    "```\n",
    "---\n",
    "**Constraints:**\n",
    "\n",
    "- The number of nodes in the list is in the range `[0, 5 * 104]`.\n",
    "- `-105 <= Node.val <= 105`\n",
    " \n",
    "\n",
    "**Follow up:** Can you sort the linked list in `O(n logn)` time and `O(1)` memory (i.e. constant space)?"
   ]
  },
  {
   "cell_type": "code",
   "execution_count": null,
   "metadata": {},
   "outputs": [],
   "source": [
    "# Definition for singly-linked list.\n",
    "# class ListNode:\n",
    "#     def __init__(self, val=0, next=None):\n",
    "#         self.val = val\n",
    "#         self.next = next\n",
    "class Solution:\n",
    "    def sortList(self, head: Optional[ListNode]) -> Optional[ListNode]:\n",
    "        cur = head\n",
    "        temp = []\n",
    "        while cur:\n",
    "            temp.append(cur.val)\n",
    "            cur = cur.next\n",
    "        temp.sort()\n",
    "        cur = head\n",
    "        for n in temp:\n",
    "            cur.val = n\n",
    "            cur= cur.next\n",
    "\n",
    "        return head"
   ]
  }
 ],
 "metadata": {
  "language_info": {
   "name": "python"
  },
  "orig_nbformat": 4
 },
 "nbformat": 4,
 "nbformat_minor": 2
}
