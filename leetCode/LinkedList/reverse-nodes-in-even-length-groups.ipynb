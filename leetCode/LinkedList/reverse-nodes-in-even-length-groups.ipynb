{
 "cells": [
  {
   "cell_type": "markdown",
   "metadata": {},
   "source": [
    "## 2074. Reverse Nodes in Even Length Groups\n",
    "You are given the `head` of a linked list.\n",
    "\n",
    "The nodes in the linked list are **sequentially** assigned to **non-empty** groups whose lengths form the sequence of the natural numbers (`1, 2, 3, 4, ...`). The **length** of a group is the number of nodes assigned to it. In other words,\n",
    "\n",
    "* The `1st` node is assigned to the first group.\n",
    "* The `2nd` and the 3rd nodes are assigned to the second group.\n",
    "* The `4th`,` 5th`, and `6th` nodes are assigned to the third group, and so on.\n",
    "* Note that the length of the last group may be less than or equal to `1 + the length of the second to last group`.\n",
    "\n",
    "Reverse the nodes in each group with an even length, and return the `head` of the modified linked list.\n",
    "\n",
    " \n",
    "\n",
    "**Example 1:**\n",
    "\n",
    "![image.png](https://assets.leetcode.com/uploads/2021/10/25/eg1.png)\n"
   ]
  },
  {
   "cell_type": "code",
   "execution_count": null,
   "metadata": {},
   "outputs": [],
   "source": [
    "# Definition for singly-linked list.\n",
    "# class ListNode:\n",
    "#     def __init__(self, val=0, next=None):\n",
    "#         self.val = val\n",
    "#         self.next = next\n",
    "class Solution:\n",
    "    def reverseEvenLengthGroups(self, head: Optional[ListNode]) -> Optional[ListNode]:\n",
    "        prev = head\n",
    "        l = 2\n",
    "        while prev.next:\n",
    "            node = prev\n",
    "            n = 0\n",
    "            for _ in range(l):\n",
    "                if not node.next:\n",
    "                    break\n",
    "                node = node.next\n",
    "                n += 1\n",
    "            if n % 2:\n",
    "                prev = node\n",
    "            else:\n",
    "                reverse, cur = node.next, prev.next\n",
    "                for _ in range(n):\n",
    "                    cur_next = cur.next\n",
    "                    cur.next = reverse\n",
    "                    reverse = cur\n",
    "                    cur = cur_next\n",
    "\n",
    "                prev_next = prev.next\n",
    "                prev.next = node\n",
    "                prev = prev_next\n",
    "\n",
    "            l += 1\n",
    "        return head"
   ]
  }
 ],
 "metadata": {
  "kernelspec": {
   "display_name": "Python 3.8.10 64-bit",
   "language": "python",
   "name": "python3"
  },
  "language_info": {
   "codemirror_mode": {
    "name": "ipython",
    "version": 3
   },
   "file_extension": ".py",
   "mimetype": "text/x-python",
   "name": "python",
   "nbconvert_exporter": "python",
   "pygments_lexer": "ipython3",
   "version": "3.8.10"
  },
  "orig_nbformat": 4,
  "vscode": {
   "interpreter": {
    "hash": "916dbcbb3f70747c44a77c7bcd40155683ae19c65e1c03b4aa3499c5328201f1"
   }
  }
 },
 "nbformat": 4,
 "nbformat_minor": 2
}
