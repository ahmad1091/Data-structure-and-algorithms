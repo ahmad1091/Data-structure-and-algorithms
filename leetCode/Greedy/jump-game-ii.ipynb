{
 "cells": [
  {
   "cell_type": "markdown",
   "metadata": {},
   "source": [
    "# 45. Jump Game II\n",
    "\n",
    "You are given a **0-indexed** array of integers `nums` of length `n`. You are initially positioned at `nums[0]`.\n",
    "\n",
    "Each element `nums[i]` represents the maximum length of a forward jump from index `i`. In other words, if you are at `nums[i]`, you can jump to any n`ums[i + j]` where:\n",
    "\n",
    "- `0 <= j <= nums[i]` and\n",
    "- `i + j < n`\n",
    "\n",
    "Return the minimum number of jumps to reach `nums[n - 1]`. The test cases are generated such that you can reach `nums[n - 1]`.\n",
    "\n",
    "--- \n",
    "\n",
    "**Example 1:**\n",
    "\n",
    "**Input:** `nums = [2,3,1,1,4]`\n",
    "\n",
    "**Output:** `2`\n",
    "\n",
    "**Explanation:** `The minimum number of jumps to reach the last index is 2. Jump 1 step from index 0 to 1, then 3 steps to the last index.`\n",
    "\n",
    "---\n",
    "\n",
    "**Example 2:**\n",
    "\n",
    "**Input:** `nums = [2,3,0,1,4]`\n",
    "\n",
    "**Output:** `2`\n",
    "\n",
    "---\n",
    "\n",
    "**Constraints:**\n",
    "\n",
    "- `1 <= nums.length <= 104`\n",
    "- `0 <= nums[i] <= 1000`\n",
    "- `It's guaranteed that you can reach nums[n - 1].`"
   ]
  },
  {
   "cell_type": "code",
   "execution_count": null,
   "metadata": {},
   "outputs": [],
   "source": []
  }
 ],
 "metadata": {
  "language_info": {
   "name": "python"
  },
  "orig_nbformat": 4
 },
 "nbformat": 4,
 "nbformat_minor": 2
}
