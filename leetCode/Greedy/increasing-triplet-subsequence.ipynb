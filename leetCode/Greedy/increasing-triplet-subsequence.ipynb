{
 "cells": [
  {
   "cell_type": "markdown",
   "metadata": {},
   "source": [
    "# 334. Increasing Triplet Subsequence\n",
    "\n",
    "Given an integer array `nums`, return `true` if there exists a triple of indices `(i, j, k)` such that `i < j < k` and` nums[i] < nums[j] < nums[k]`. If no such indices exists, return `false`.\n",
    "\n",
    " \n",
    "\n",
    "**Example 1:**\n",
    "```\n",
    "Input: nums = [1,2,3,4,5]\n",
    "Output: true\n",
    "Explanation: Any triplet where i < j < k is valid.\n",
    "```\n",
    "---\n",
    "**Example 2:**\n",
    "```\n",
    "Input: nums = [5,4,3,2,1]\n",
    "Output: false\n",
    "Explanation: No triplet exists.\n",
    "```\n",
    "---\n",
    "**Example 3:**\n",
    "```\n",
    "Input: nums = [2,1,5,0,4,6]\n",
    "Output: true\n",
    "Explanation: The triplet (3, 4, 5) is valid because nums[3] == 0 < nums[4] == 4 < nums[5] == 6.\n",
    "```\n",
    "---\n",
    "**Constraints:**\n",
    "\n",
    "- `1 <= nums.length <= 5 * 105`\n",
    "- `-231 <= nums[i] <= 231 - 1`"
   ]
  },
  {
   "cell_type": "code",
   "execution_count": null,
   "metadata": {},
   "outputs": [],
   "source": [
    "class Solution:\n",
    "    def increasingTriplet(self, nums: List[int]) -> bool:\n",
    "        mi, mid = inf, inf\n",
    "        for num in nums:\n",
    "            if num > mid:\n",
    "                return True\n",
    "            if num <= mi:\n",
    "                mi = num\n",
    "            else:\n",
    "                mid = num\n",
    "        return False"
   ]
  }
 ],
 "metadata": {
  "kernelspec": {
   "display_name": "Python 3.8.10 64-bit",
   "language": "python",
   "name": "python3"
  },
  "language_info": {
   "name": "python",
   "version": "3.8.10"
  },
  "orig_nbformat": 4,
  "vscode": {
   "interpreter": {
    "hash": "916dbcbb3f70747c44a77c7bcd40155683ae19c65e1c03b4aa3499c5328201f1"
   }
  }
 },
 "nbformat": 4,
 "nbformat_minor": 2
}
