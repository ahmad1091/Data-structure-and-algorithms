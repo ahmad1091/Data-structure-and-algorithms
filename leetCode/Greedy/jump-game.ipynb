{
 "cells": [
  {
   "cell_type": "markdown",
   "metadata": {},
   "source": [
    "# 55. Jump Game\n",
    "\n",
    "Companies\n",
    "You are given an integer array nums. You are initially positioned at the array's first index, and each element in the array represents your maximum jump length at that position.\n",
    "\n",
    "Return true if you can reach the last index, or false otherwise.\n",
    "\n",
    "---\n",
    "\n",
    "**Example 1:**\n",
    "\n",
    "**Input:** `nums = [2,3,1,1,4]`\n",
    "\n",
    "**Output:** `true`\n",
    "\n",
    "**Explanation:** `Jump 1 step from index 0 to 1, then 3 steps to the last index.`\n",
    "\n",
    "---\n",
    "\n",
    "**Example 2:**\n",
    "\n",
    "**Input:** `nums = [3,2,1,0,4]`\n",
    "\n",
    "**Output:** `false`\n",
    "\n",
    "**Explanation:** `You will always arrive at index 3 no matter what. Its maximum jump length is 0, which makes it impossible to reach the last index.`\n",
    " \n",
    "---\n",
    "\n",
    "**Constraints:**\n",
    "\n",
    "- `1 <= nums.length <= 104`\n",
    "- `0 <= nums[i] <= 105`"
   ]
  },
  {
   "cell_type": "code",
   "execution_count": null,
   "metadata": {},
   "outputs": [],
   "source": [
    "class Solution:\n",
    "    def canJump(self, nums: List[int]) -> bool:\n",
    "        target = len(nums) - 1 \n",
    "        for i in range(len(nums) - 1, -1, -1):\n",
    "            if nums[i] + i >= target:\n",
    "                target = i\n",
    "            \n",
    "        return True if target == 0 else False"
   ]
  }
 ],
 "metadata": {
  "kernelspec": {
   "display_name": "Python 3.8.10 64-bit",
   "language": "python",
   "name": "python3"
  },
  "language_info": {
   "name": "python",
   "version": "3.8.10"
  },
  "orig_nbformat": 4,
  "vscode": {
   "interpreter": {
    "hash": "916dbcbb3f70747c44a77c7bcd40155683ae19c65e1c03b4aa3499c5328201f1"
   }
  }
 },
 "nbformat": 4,
 "nbformat_minor": 2
}
