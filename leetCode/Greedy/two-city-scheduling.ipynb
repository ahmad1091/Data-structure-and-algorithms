{
 "cells": [
  {
   "cell_type": "markdown",
   "metadata": {},
   "source": [
    "# 1029. Two City Scheduling\n",
    "\n",
    "A company is planning to interview `2n` people. Given the array `costs` where `costs[i] = [aCosti, bCosti]`, the cost of flying the `ith` person to city `a` is `aCosti`, and the cost of flying the `ith` person to city `b` is `bCosti`.\n",
    "\n",
    "Return the minimum cost to fly every person to a city such that exactly n people arrive in each city.\n",
    "\n",
    "---\n",
    "\n",
    "**Example 1:**\n",
    "\n",
    "**Input:** `costs = [[10,20],[30,200],[400,50],[30,20]]`\n",
    "\n",
    "**Output:** `110`\n",
    "\n",
    "**Explanation:** \n",
    "\n",
    "`The first person goes to city A for a cost of 10.`\n",
    "\n",
    "`The second person goes to city A for a cost of 30.`\n",
    "\n",
    "`The third person goes to city B for a cost of 50.`\n",
    "\n",
    "`The fourth person goes to city B for a cost of 20.`\n",
    "\n",
    "`The total minimum cost is 10 + 30 + 50 + 20 = 110 to have half the people interviewing in each city.`\n",
    "\n",
    "---\n",
    "\n",
    "**Example 2:**\n",
    "\n",
    "**Input:** `costs = [[259,770],[448,54],[926,667],[184,139],[840,118],[577,469]]`\n",
    "\n",
    "**Output:** `1859`\n",
    "\n",
    "---\n",
    "\n",
    "**Example 3:**\n",
    "\n",
    "**Input:** `costs = [[515,563],[451,713],[537,709],[343,819],[855,779],[457,60],[650,359],[631,42]]`\n",
    "\n",
    "**Output:** `3086`\n",
    " \n",
    "---\n",
    "\n",
    "**Constraints:**\n",
    "\n",
    "- `2 * n == costs.length`\n",
    "- `2 <= costs.length <= 100`\n",
    "- `costs.length is even.`\n",
    "- `1 <= aCosti, bCosti <= 1000`"
   ]
  },
  {
   "cell_type": "code",
   "execution_count": null,
   "metadata": {},
   "outputs": [],
   "source": [
    "class Solution:\n",
    "    def twoCitySchedCost(self, costs: List[List[int]]) -> int:"
   ]
  }
 ],
 "metadata": {
  "language_info": {
   "name": "python"
  },
  "orig_nbformat": 4
 },
 "nbformat": 4,
 "nbformat_minor": 2
}
