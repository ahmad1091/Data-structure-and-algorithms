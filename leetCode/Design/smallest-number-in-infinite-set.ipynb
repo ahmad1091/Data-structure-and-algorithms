{
 "cells": [
  {
   "cell_type": "markdown",
   "metadata": {},
   "source": [
    "# 2336. Smallest Number in Infinite Set\n",
    "\n",
    "You have a set which contains all positive integers `[1, 2, 3, 4, 5, ...]`.\n",
    "\n",
    "Implement the `SmallestInfiniteSet` class:\n",
    "\n",
    "- `SmallestInfiniteSet()` Initializes the **SmallestInfiniteSet** object to contain **all** positive integers.\n",
    "- `int popSmallest()` **Removes** and returns the smallest integer contained in the infinite set.\n",
    "- `void addBack(int num)` **Adds** a positive integer `num` back into the infinite set, if it is not already in the infinite set.\n",
    " \n",
    "\n",
    "**Example 1:**\n",
    "```\n",
    "Input\n",
    "[\"SmallestInfiniteSet\", \"addBack\", \"popSmallest\", \"popSmallest\", \"popSmallest\", \"addBack\", \"popSmallest\", \"popSmallest\", \"popSmallest\"]\n",
    "[[], [2], [], [], [], [1], [], [], []]\n",
    "Output\n",
    "[null, null, 1, 2, 3, null, 1, 4, 5]\n",
    "\n",
    "Explanation\n",
    "SmallestInfiniteSet smallestInfiniteSet = new SmallestInfiniteSet();\n",
    "smallestInfiniteSet.addBack(2);    // 2 is already in the set, so no change is made.\n",
    "smallestInfiniteSet.popSmallest(); // return 1, since 1 is the smallest number, and remove it from the set.\n",
    "smallestInfiniteSet.popSmallest(); // return 2, and remove it from the set.\n",
    "smallestInfiniteSet.popSmallest(); // return 3, and remove it from the set.\n",
    "smallestInfiniteSet.addBack(1);    // 1 is added back to the set.\n",
    "smallestInfiniteSet.popSmallest(); // return 1, since 1 was added back to the set and\n",
    "                                   // is the smallest number, and remove it from the set.\n",
    "smallestInfiniteSet.popSmallest(); // return 4, and remove it from the set.\n",
    "smallestInfiniteSet.popSmallest(); // return 5, and remove it from the set.\n",
    " ```\n",
    " ---\n",
    "\n",
    "**Constraints:**\n",
    "\n",
    "- `1 <= num <= 1000`\n",
    "- At most `1000` calls will be made **in total** to `popSmallest` and `addBack`."
   ]
  }
 ],
 "metadata": {
  "language_info": {
   "name": "python"
  },
  "orig_nbformat": 4
 },
 "nbformat": 4,
 "nbformat_minor": 2
}
