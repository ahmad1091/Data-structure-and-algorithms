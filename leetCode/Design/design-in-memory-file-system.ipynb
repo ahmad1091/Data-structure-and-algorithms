{
 "cells": [
  {
   "cell_type": "markdown",
   "metadata": {},
   "source": [
    "# 588. Design In-Memory File System\n",
    "\n",
    "\n",
    "Description\n",
    "Design a data structure that simulates an in-memory file system.\n",
    "\n",
    "Implement the FileSystem class:\n",
    "\n",
    "- `FileSystem()` Initializes the object of the system.\n",
    "- `List<String> ls(String path)`\n",
    "    * If `path` is a file path, returns a list that only contains this file's name.\n",
    "    * If `path` is a directory path, returns the list of file and directory names **in this directory**.\n",
    "The answer should in l**exicographic order**.\n",
    "\n",
    "- `void mkdir(String path)` Makes a new directory according to the given `path`. The given directory path does not exist. If the middle directories in the path do not exist, you should create them as well.\n",
    "- `void addContentToFile(String filePath, String content)`\n",
    "    * If `filePath` does not exist, creates that file containing given `content`.\n",
    "    * If `filePath` already exists, appends the given `content` to original content.\n",
    "- `String readContentFromFile(String filePath)` Returns the content in the file at `filePath`.\n",
    " \n",
    "\n",
    "**Example 1:**\n",
    "\n",
    "![image](https://camo.githubusercontent.com/f5ef16f8a48aba07663982b838e4e74e53b300101eebe8e2331739bd01c02268/68747470733a2f2f666173746c792e6a7364656c6976722e6e65742f67682f646f6f63732f6c656574636f6465406d61696e2f736f6c7574696f6e2f303530302d303539392f303538382e44657369676e253230496e2d4d656d6f727925323046696c6525323053797374656d2f696d616765732f66696c6573797374656d2e706e67)\n",
    "\n",
    "```\n",
    "Input\n",
    "[\"FileSystem\", \"ls\", \"mkdir\", \"addContentToFile\", \"ls\", \"readContentFromFile\"]\n",
    "[[], [\"/\"], [\"/a/b/c\"], [\"/a/b/c/d\", \"hello\"], [\"/\"], [\"/a/b/c/d\"]]\n",
    "Output\n",
    "[null, [], null, null, [\"a\"], \"hello\"]\n",
    "Explanation\n",
    "FileSystem fileSystem = new FileSystem();\n",
    "fileSystem.ls(\"/\"); // return []\n",
    "fileSystem.mkdir(\"/a/b/c\");\n",
    "fileSystem.addContentToFile(\"/a/b/c/d\", \"hello\");\n",
    "fileSystem.ls(\"/\"); // return [\"a\"]\n",
    "fileSystem.readContentFromFile(\"/a/b/c/d\"); // return \"hello\"\n",
    "```\n",
    "---\n",
    "\n",
    " \n",
    "\n",
    "**Constraints:**\n",
    "\n",
    "- `1 <= path.length, filePath.length <= 100`\n",
    "- `path` and `filePath` are absolute paths which begin with `'/'` and do not end with `'/'` except that the path is just `\"/\"`.\n",
    "- You can assume that all directory names and file names only contain lowercase letters, and the same names will not exist in the same directory.\n",
    "- You can assume that all operations will be passed valid parameters, and users will not attempt to retrieve file content or list a directory or file that does not exist.\n",
    "- `1 <= content.length <= 50`\n",
    "- At most `300` calls will be made to `ls`, `mkdir`, `addContentToFile`, and `readContentFromFile`."
   ]
  }
 ],
 "metadata": {
  "language_info": {
   "name": "python"
  },
  "orig_nbformat": 4
 },
 "nbformat": 4,
 "nbformat_minor": 2
}
