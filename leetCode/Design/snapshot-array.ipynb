{
 "cells": [
  {
   "cell_type": "markdown",
   "metadata": {},
   "source": [
    "# 1146. Snapshot Array\n",
    "\n",
    "Implement a SnapshotArray that supports the following interface:\n",
    "\n",
    "- `SnapshotArray(int length)` initializes an array-like data structure with the given length. **Initially, each element equals 0**.\n",
    "- `void set(index, val)` sets the element at the given `index` to be equal to `val`.\n",
    "- `int snap()` takes a snapshot of the array and returns the `snap_id`: the total number of times we called `snap()` minus `1`.\n",
    "- `int get(index, snap_id)` returns the value at the given `index`, at the time we took the snapshot with the given `snap_id`\n",
    " \n",
    "\n",
    "**Example 1:**\n",
    "```\n",
    "Input: [\"SnapshotArray\",\"set\",\"snap\",\"set\",\"get\"]\n",
    "[[3],[0,5],[],[0,6],[0,0]]\n",
    "Output: [null,null,0,null,5]\n",
    "Explanation: \n",
    "SnapshotArray snapshotArr = new SnapshotArray(3); // set the length to be 3\n",
    "snapshotArr.set(0,5);  // Set array[0] = 5\n",
    "snapshotArr.snap();  // Take a snapshot, return snap_id = 0\n",
    "snapshotArr.set(0,6);\n",
    "snapshotArr.get(0,0);  // Get the value of array[0] with snap_id = 0, return 5\n",
    "```\n",
    "---\n",
    "**Constraints:**\n",
    "\n",
    "- `1 <= length <= 5 * 104`\n",
    "- `0 <= index < length`\n",
    "- `0 <= val <= 109`\n",
    "- `0 <= snap_id <` (the total number of times we call `snap()`)\n",
    "- At most `5 * 104` calls will be made to `set`, `snap`, and `get`."
   ]
  },
  {
   "cell_type": "code",
   "execution_count": null,
   "metadata": {},
   "outputs": [],
   "source": [
    "class SnapshotArray:\n",
    "\n",
    "    def __init__(self, length: int):\n",
    "        self.idx = 0\n",
    "        self.arr = defaultdict(list)\n",
    "\n",
    "    def set(self, index: int, val: int) -> None:\n",
    "        self.arr[index].append((self.idx, val))\n",
    "\n",
    "    def snap(self) -> int:\n",
    "        self.idx += 1\n",
    "        return self.idx - 1\n",
    "\n",
    "    def get(self, index: int, snap_id: int) -> int:\n",
    "        vals = self.arr[index]\n",
    "        i = bisect_right(vals, (snap_id, inf)) - 1\n",
    "        return 0 if i < 0 else vals[i][1]\n",
    "\n",
    "\n",
    "# Your SnapshotArray object will be instantiated and called as such:\n",
    "# obj = SnapshotArray(length)\n",
    "# obj.set(index,val)\n",
    "# param_2 = obj.snap()\n",
    "# param_3 = obj.get(index,snap_id)"
   ]
  }
 ],
 "metadata": {
  "kernelspec": {
   "display_name": "Python 3.8.10 64-bit",
   "language": "python",
   "name": "python3"
  },
  "language_info": {
   "name": "python",
   "version": "3.8.10"
  },
  "orig_nbformat": 4,
  "vscode": {
   "interpreter": {
    "hash": "916dbcbb3f70747c44a77c7bcd40155683ae19c65e1c03b4aa3499c5328201f1"
   }
  }
 },
 "nbformat": 4,
 "nbformat_minor": 2
}
