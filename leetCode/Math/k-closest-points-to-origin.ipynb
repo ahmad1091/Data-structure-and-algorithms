{
 "cells": [
  {
   "cell_type": "markdown",
   "metadata": {},
   "source": [
    "# 973. K Closest Points to Origin\n",
    "\n",
    "Given an array of `points` where `points[i] = [xi, yi]` represents a point on the **X-Y** plane and an integer `k`, return the `k` closest points to the origin `(0, 0)`.\n",
    "\n",
    "The distance between two points on the **X-Y** plane is the Euclidean distance (i.e., `√(x1 - x2)2 + (y1 - y2)2`).\n",
    "\n",
    "You may return the answer in **any order**. The answer is **guaranteed** to be **unique** (except for the order that it is in).\n",
    "\n",
    "---\n",
    "\n",
    "**Example 1:**\n",
    "\n",
    "![Chart](https://assets.leetcode.com/uploads/2021/03/03/closestplane1.jpg)\n",
    "\n",
    "**Input:** `points = [[1,3],[-2,2]], k = 1`\n",
    "\n",
    "**Output:** `[[-2,2]]`\n",
    "\n",
    "**Explanation:**\n",
    "\n",
    "The distance between (1, 3) and the origin is sqrt(10).\n",
    "The distance between (-2, 2) and the origin is sqrt(8).\n",
    "Since sqrt(8) < sqrt(10), (-2, 2) is closer to the origin.\n",
    "We only want the closest k = 1 points from the origin, so the answer is just [[-2,2]].\n",
    "\n",
    "---\n",
    "\n",
    "**Example 2:**\n",
    "\n",
    "**Input:** `points = [[3,3],[5,-1],[-2,4]], k = 2`\n",
    "\n",
    "**Output:** `[[3,3],[-2,4]]`\n",
    "\n",
    "**Explanation:** The answer` [[-2,4],[3,3]]` would also be accepted.\n",
    "\n",
    "---\n",
    "\n",
    "**Constraints:**\n",
    "\n",
    "- `1 <= k <= points.length <= 104`\n",
    "- `-104 < xi, yi < 104`\n"
   ]
  },
  {
   "cell_type": "code",
   "execution_count": null,
   "metadata": {},
   "outputs": [],
   "source": [
    "class Solution:\n",
    "    def kClosest(self, points: List[List[int]], k: int) -> List[List[int]]:\n",
    "        minHeap = [[x ** 2 + y ** 2, x, y]for x, y in points]\n",
    "\n",
    "        heapq.heapify(minHeap)\n",
    "        result = []\n",
    "        while k > 0:\n",
    "             k -= 1\n",
    "             a, x, y = heapq.heappop(minHeap)\n",
    "             result.append([x, y])\n",
    "\n",
    "        return result"
   ]
  }
 ],
 "metadata": {
  "language_info": {
   "name": "python"
  },
  "orig_nbformat": 4
 },
 "nbformat": 4,
 "nbformat_minor": 2
}
