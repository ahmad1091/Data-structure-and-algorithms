{
 "cells": [
  {
   "cell_type": "markdown",
   "metadata": {},
   "source": [
    "# 1071. Greatest Common Divisor of Strings\n",
    "\n",
    "For two strings `s` and `t`, we say \"`t` divides `s`\" if and only if `s = t + ... + t` (i.e., `t` is concatenated with itself one or more times).\n",
    "\n",
    "Given two strings `str1` and `str2`, return the largest string `x` such that `x` divides both `str1` and `str2`.\n",
    "\n",
    " \n",
    "\n",
    "**Example 1:**\n",
    "```\n",
    "Input: str1 = \"ABCABC\", str2 = \"ABC\"\n",
    "Output: \"ABC\"\n",
    "```\n",
    "---\n",
    "**Example 2:**\n",
    "```\n",
    "Input: str1 = \"ABABAB\", str2 = \"ABAB\"\n",
    "Output: \"AB\"\n",
    "```\n",
    "---\n",
    "**Example 3:**\n",
    "```\n",
    "Input: str1 = \"LEET\", str2 = \"CODE\"\n",
    "Output: \"\"\n",
    "``` \n",
    "---\n",
    "**Constraints:**\n",
    "\n",
    "- `1 <= str1.length, str2.length <= 1000`\n",
    "- `str1` and `str2` consist of English uppercase letters."
   ]
  },
  {
   "cell_type": "code",
   "execution_count": null,
   "metadata": {},
   "outputs": [],
   "source": [
    "class Solution:\n",
    "    def gcdOfStrings(self, str1: str, str2: str) -> str:\n",
    "        m, n = len(str1), len(str2)\n",
    "\n",
    "        def isDivisor(l):\n",
    "            if m % l or n % l:\n",
    "                return False\n",
    "            a, b = m // l, n // l\n",
    "            return str1[:l] * a == str1 and str1[:l] * b == str2 \n",
    "\n",
    "        for l in range(min(m, n), 0, -1):\n",
    "            if isDivisor(l):\n",
    "                return str1[:l]\n",
    "\n",
    "        return '' "
   ]
  },
  {
   "cell_type": "code",
   "execution_count": null,
   "metadata": {},
   "outputs": [],
   "source": [
    "class Solution:\n",
    "    def gcdOfStrings(self, str1: str, str2: str) -> str:\n",
    "        def check(a, b):\n",
    "            c = \"\"\n",
    "            while len(c) < len(b):\n",
    "                c += a\n",
    "            return c == b\n",
    "\n",
    "        for i in range(min(len(str1), len(str2)), 0, -1):\n",
    "            t = str1[:i]\n",
    "            if check(t, str1) and check(t, str2):\n",
    "                return t\n",
    "        return ''"
   ]
  }
 ],
 "metadata": {
  "kernelspec": {
   "display_name": "Python 3.8.10 64-bit",
   "language": "python",
   "name": "python3"
  },
  "language_info": {
   "name": "python",
   "version": "3.8.10"
  },
  "orig_nbformat": 4,
  "vscode": {
   "interpreter": {
    "hash": "916dbcbb3f70747c44a77c7bcd40155683ae19c65e1c03b4aa3499c5328201f1"
   }
  }
 },
 "nbformat": 4,
 "nbformat_minor": 2
}
