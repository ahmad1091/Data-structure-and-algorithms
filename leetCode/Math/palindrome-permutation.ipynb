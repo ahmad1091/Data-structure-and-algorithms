{
 "cells": [
  {
   "cell_type": "markdown",
   "metadata": {},
   "source": [
    "# 266. Palindrome Permutation\n",
    "\n",
    "Given a string `s`, return `true` if a permutation of the string could form a **palindrome** and `false` otherwise.\n",
    "\n",
    "**Example 2:**\n",
    "```\n",
    "Input: s = \"aab\"\n",
    "Output: true\n",
    "```\n",
    "---\n",
    "**Example 3:**\n",
    "```\n",
    "Input: s = \"carerac\"\n",
    "Output: true\n",
    "```\n",
    "---\n",
    "**Constraints:**\n",
    "\n",
    "- `1 <= s.length <= 5000`\n",
    "- `s` consists of only lowercase English letters.\n",
    "\n",
    "\n"
   ]
  },
  {
   "cell_type": "code",
   "execution_count": null,
   "metadata": {},
   "outputs": [],
   "source": [
    "class Solution:\n",
    "    def canPermutePalindrome(self, s: str) -> bool:\n",
    "        return sum(v % 2 for v in Counter(s).values()) <= 1"
   ]
  },
  {
   "cell_type": "code",
   "execution_count": null,
   "metadata": {},
   "outputs": [],
   "source": [
    "def permute_palindrome(st):\n",
    "    frequencies = {}\n",
    "    index = 0\n",
    "    for i in st:\n",
    "        index += 1\n",
    "        if i in frequencies:\n",
    "            frequencies[i] += 1\n",
    "        else:\n",
    "            frequencies[i] = 1\n",
    "    count = 0\n",
    "    for ch in frequencies.keys():\n",
    "        if frequencies[ch] % 2:\n",
    "            count += 1\n",
    "\n",
    "    if count <= 1:\n",
    "        return True\n",
    "    else:\n",
    "        return False\n",
    "\n",
    "\n",
    "# Driver Code\n",
    "def main():\n",
    "    str_array = [\"baefeab\", \"abc\", \"xzz\", \"jjadd\", \"kllk\"]\n",
    "    for i in range(len(str_array)):\n",
    "        print(i + 1, \".\\tInput string: \", str_array[i], sep=\"\")\n",
    "        result = permute_palindrome(str_array[i])\n",
    "        if result:\n",
    "            print(\"\\n\\tInput string has permutations that are palindromes\")\n",
    "        else:\n",
    "            print(\"\\n\\tInput string does not have a permutation that's a palindrome\")\n",
    "        print(\"-\"*100)\n",
    "\n",
    "\n",
    "if __name__ == \"__main__\":\n",
    "    main()"
   ]
  }
 ],
 "metadata": {
  "language_info": {
   "name": "python"
  },
  "orig_nbformat": 4
 },
 "nbformat": 4,
 "nbformat_minor": 2
}
