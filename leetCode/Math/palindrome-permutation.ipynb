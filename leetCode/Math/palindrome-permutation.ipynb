{
 "cells": [
  {
   "cell_type": "markdown",
   "metadata": {},
   "source": [
    "# 266. Palindrome Permutation\n",
    "\n",
    "Given a string `s`, return `true` if a permutation of the string could form a **palindrome** and `false` otherwise.\n",
    "\n",
    "**Example 2:**\n",
    "```\n",
    "Input: s = \"aab\"\n",
    "Output: true\n",
    "```\n",
    "---\n",
    "**Example 3:**\n",
    "```\n",
    "Input: s = \"carerac\"\n",
    "Output: true\n",
    "```\n",
    "---\n",
    "**Constraints:**\n",
    "\n",
    "- `1 <= s.length <= 5000`\n",
    "- `s` consists of only lowercase English letters.\n",
    "\n",
    "\n"
   ]
  },
  {
   "cell_type": "code",
   "execution_count": null,
   "metadata": {},
   "outputs": [],
   "source": [
    "class Solution:\n",
    "    def canPermutePalindrome(self, s: str) -> bool:\n",
    "        return sum(v % 2 for v in Counter(s).values()) <= 1"
   ]
  }
 ],
 "metadata": {
  "language_info": {
   "name": "python"
  },
  "orig_nbformat": 4
 },
 "nbformat": 4,
 "nbformat_minor": 2
}
