{
 "cells": [
  {
   "cell_type": "markdown",
   "metadata": {},
   "source": [
    "\n",
    "# 260. Single Number III\n",
    "\n",
    "Given an integer array `nums`, in which exactly two elements appear only once and all the other elements appear exactly twice. Find the two elements that appear only once. You can return the answer in **any order**.\n",
    "\n",
    "You must write an algorithm that runs in linear runtime complexity and uses only constant extra space.\n",
    "\n",
    " \n",
    "\n",
    "**Example 1:**\n",
    "```\n",
    "Input: nums = [1,2,1,3,2,5]\n",
    "Output: [3,5]\n",
    "Explanation:  [5, 3] is also a valid answer.\n",
    "```\n",
    "---\n",
    "**Example 2:**\n",
    "```\n",
    "Input: nums = [-1,0]\n",
    "Output: [-1,0]\n",
    "```\n",
    "---\n",
    "**Example 3:**\n",
    "```\n",
    "Input: nums = [0,1]\n",
    "Output: [1,0]\n",
    "```\n",
    "---\n",
    "\n",
    "**Constraints:**\n",
    "\n",
    "- `2 <= nums.length <= 3 * 104`\n",
    "- `-231 <= nums[i] <= 231 - 1`\n",
    "- Each integer in `nums` will appear twice, only two integers will appear once.\n"
   ]
  },
  {
   "cell_type": "code",
   "execution_count": null,
   "metadata": {},
   "outputs": [],
   "source": [
    "class Solution:\n",
    "    def singleNumber(self, nums: List[int]) -> List[int]:\n",
    "        xorSum = 0\n",
    "        for n in nums:\n",
    "            xorSum ^= n\n",
    "        leastSignificant = xorSum & -xorSum\n",
    "        res = [0, 0]\n",
    "        for n in nums:\n",
    "            if n & leastSignificant:\n",
    "                res[0] ^= n\n",
    "            else:\n",
    "                res[1] ^= n\n",
    "        return res\n",
    "\n",
    "            "
   ]
  }
 ],
 "metadata": {
  "language_info": {
   "name": "python"
  },
  "orig_nbformat": 4
 },
 "nbformat": 4,
 "nbformat_minor": 2
}
