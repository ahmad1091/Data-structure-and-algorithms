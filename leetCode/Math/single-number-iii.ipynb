{
 "cells": [
  {
   "cell_type": "markdown",
   "metadata": {},
   "source": [
    "\n",
    "# 260. Single Number III\n",
    "\n",
    "Given an integer array `nums`, in which exactly two elements appear only once and all the other elements appear exactly twice. Find the two elements that appear only once. You can return the answer in **any order**.\n",
    "\n",
    "You must write an algorithm that runs in linear runtime complexity and uses only constant extra space.\n",
    "\n",
    " \n",
    "\n",
    "**Example 1:**\n",
    "```\n",
    "Input: nums = [1,2,1,3,2,5]\n",
    "Output: [3,5]\n",
    "Explanation:  [5, 3] is also a valid answer.\n",
    "```\n",
    "---\n",
    "**Example 2:**\n",
    "```\n",
    "Input: nums = [-1,0]\n",
    "Output: [-1,0]\n",
    "```\n",
    "---\n",
    "**Example 3:**\n",
    "```\n",
    "Input: nums = [0,1]\n",
    "Output: [1,0]\n",
    "```\n",
    "---\n",
    "\n",
    "**Constraints:**\n",
    "\n",
    "- `2 <= nums.length <= 3 * 104`\n",
    "- `-231 <= nums[i] <= 231 - 1`\n",
    "- Each integer in `nums` will appear twice, only two integers will appear once.\n"
   ]
  }
 ],
 "metadata": {
  "language_info": {
   "name": "python"
  },
  "orig_nbformat": 4
 },
 "nbformat": 4,
 "nbformat_minor": 2
}
