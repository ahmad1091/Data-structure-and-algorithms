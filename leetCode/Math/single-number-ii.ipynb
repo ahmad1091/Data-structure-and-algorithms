{
 "cells": [
  {
   "cell_type": "markdown",
   "metadata": {},
   "source": [
    "\n",
    "# 137. Single Number II\n",
    "\n",
    "Given an integer array `nums` where every element appears **three times** except for one, which appears exactly once. Find the single element and return it.\n",
    "\n",
    "You must implement a solution with a linear runtime complexity and use only constant extra space.\n",
    "\n",
    " \n",
    "\n",
    "**Example 1:**\n",
    "```\n",
    "Input: nums = [2,2,3,2]\n",
    "Output: 3\n",
    "```\n",
    "---\n",
    "**Example 2:**\n",
    "```\n",
    "Input: nums = [0,1,0,1,0,1,99]\n",
    "Output: 99\n",
    "```\n",
    "---\n",
    "**Constraints:**\n",
    "\n",
    "- `1 <= nums.length <= 3 * 104`\n",
    "- `-231 <= nums[i] <= 231 - 1`\n",
    "- Each element in `nums` appears exactly **three times** except for one element which appears **once**."
   ]
  },
  {
   "cell_type": "code",
   "execution_count": null,
   "metadata": {},
   "outputs": [],
   "source": [
    "class Solution:\n",
    "    def singleNumber(self, nums: List[int]) -> int:\n",
    "        count = Counter(nums)\n",
    "\n",
    "        for key, val in count.items():\n",
    "            if val < 3:\n",
    "                return key\n",
    "\n",
    "        "
   ]
  },
  {
   "cell_type": "code",
   "execution_count": null,
   "metadata": {},
   "outputs": [],
   "source": [
    "class Solution:\n",
    "    def singleNumber(self, nums: List[int]) -> int:\n",
    "        nums.sort()\n",
    "        if len(nums) < 3:\n",
    "            return nums[0]\n",
    "        if nums[0] != nums[1]:\n",
    "            return nums[0]\n",
    "        if nums[-1] != nums[-2]:\n",
    "            return nums[-1]\n",
    "\n",
    "        for i in range(1, len(nums), 3):\n",
    "            if nums[i] != nums[i - 1]:\n",
    "                print(i, nums[i], nums[i - 1])\n",
    "                return nums[i - 1]"
   ]
  }
 ],
 "metadata": {
  "kernelspec": {
   "display_name": "Python 3.8.10 64-bit",
   "language": "python",
   "name": "python3"
  },
  "language_info": {
   "name": "python",
   "version": "3.8.10"
  },
  "orig_nbformat": 4,
  "vscode": {
   "interpreter": {
    "hash": "916dbcbb3f70747c44a77c7bcd40155683ae19c65e1c03b4aa3499c5328201f1"
   }
  }
 },
 "nbformat": 4,
 "nbformat_minor": 2
}
