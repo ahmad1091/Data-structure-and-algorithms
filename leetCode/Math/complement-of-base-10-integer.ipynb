{
 "cells": [
  {
   "cell_type": "markdown",
   "metadata": {},
   "source": [
    "# 1009. Complement of Base 10 Integer\n",
    "\n",
    "The **complement** of an integer is the integer you get when you flip all the `0's` to `1's `and all the `1's `to `0's` in its binary representation.\n",
    "\n",
    "For example, The integer `5` is `\"101\"` in binary and its **complement** is `\"010\"` which is the integer `2`.\n",
    "Given an integer `n`, return its complement.\n",
    "\n",
    " \n",
    "\n",
    "**Example 1:**\n",
    "```\n",
    "Input: n = 5\n",
    "Output: 2\n",
    "Explanation: 5 is \"101\" in binary, with complement \"010\" in binary, which is 2 in base-10.\n",
    "```\n",
    "---\n",
    "**Example 2:**\n",
    "```\n",
    "Input: n = 7\n",
    "Output: 0\n",
    "Explanation: 7 is \"111\" in binary, with complement \"000\" in binary, which is 0 in base-10.\n",
    "```\n",
    "---\n",
    "**Example 3:**\n",
    "```\n",
    "Input: n = 10\n",
    "Output: 5\n",
    "Explanation: 10 is \"1010\" in binary, with complement \"0101\" in binary, which is 5 in base-10.\n",
    "``` \n",
    "---\n",
    "**Constraints:**\n",
    "\n",
    "- `0 <= n < 109`"
   ]
  }
 ],
 "metadata": {
  "language_info": {
   "name": "python"
  },
  "orig_nbformat": 4
 },
 "nbformat": 4,
 "nbformat_minor": 2
}
