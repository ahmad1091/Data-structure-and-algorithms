{
 "cells": [
  {
   "cell_type": "markdown",
   "metadata": {},
   "source": [
    "# 1009. Complement of Base 10 Integer\n",
    "\n",
    "The **complement** of an integer is the integer you get when you flip all the `0's` to `1's `and all the `1's `to `0's` in its binary representation.\n",
    "\n",
    "For example, The integer `5` is `\"101\"` in binary and its **complement** is `\"010\"` which is the integer `2`.\n",
    "Given an integer `n`, return its complement.\n",
    "\n",
    " \n",
    "\n",
    "**Example 1:**\n",
    "```\n",
    "Input: n = 5\n",
    "Output: 2\n",
    "Explanation: 5 is \"101\" in binary, with complement \"010\" in binary, which is 2 in base-10.\n",
    "```\n",
    "---\n",
    "**Example 2:**\n",
    "```\n",
    "Input: n = 7\n",
    "Output: 0\n",
    "Explanation: 7 is \"111\" in binary, with complement \"000\" in binary, which is 0 in base-10.\n",
    "```\n",
    "---\n",
    "**Example 3:**\n",
    "```\n",
    "Input: n = 10\n",
    "Output: 5\n",
    "Explanation: 10 is \"1010\" in binary, with complement \"0101\" in binary, which is 5 in base-10.\n",
    "``` \n",
    "---\n",
    "**Constraints:**\n",
    "\n",
    "- `0 <= n < 109`"
   ]
  },
  {
   "cell_type": "code",
   "execution_count": null,
   "metadata": {},
   "outputs": [],
   "source": [
    "class Solution:\n",
    "    def bitwiseComplement(self, n: int) -> int:\n",
    "        if n == 0:\n",
    "            return 1\n",
    "            \n",
    "        ans = 0\n",
    "        i = 0\n",
    "        while(n > 0):\n",
    "            if n % 2:\n",
    "                x = 0\n",
    "            else:\n",
    "                x = 1\n",
    "\n",
    "            ans += pow(2, i) * x\n",
    "            i += 1\n",
    "            n //= 2\n",
    "\n",
    "        return ans"
   ]
  }
 ],
 "metadata": {
  "language_info": {
   "name": "python"
  },
  "orig_nbformat": 4
 },
 "nbformat": 4,
 "nbformat_minor": 2
}
