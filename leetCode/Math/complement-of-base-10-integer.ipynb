{
 "cells": [
  {
   "cell_type": "markdown",
   "metadata": {},
   "source": [
    "# 1009. Complement of Base 10 Integer\n",
    "\n",
    "The **complement** of an integer is the integer you get when you flip all the `0's` to `1's `and all the `1's `to `0's` in its binary representation.\n",
    "\n",
    "For example, The integer `5` is `\"101\"` in binary and its **complement** is `\"010\"` which is the integer `2`.\n",
    "Given an integer `n`, return its complement.\n",
    "\n",
    " \n",
    "\n",
    "**Example 1:**\n",
    "```\n",
    "Input: n = 5\n",
    "Output: 2\n",
    "Explanation: 5 is \"101\" in binary, with complement \"010\" in binary, which is 2 in base-10.\n",
    "```\n",
    "---\n",
    "**Example 2:**\n",
    "```\n",
    "Input: n = 7\n",
    "Output: 0\n",
    "Explanation: 7 is \"111\" in binary, with complement \"000\" in binary, which is 0 in base-10.\n",
    "```\n",
    "---\n",
    "**Example 3:**\n",
    "```\n",
    "Input: n = 10\n",
    "Output: 5\n",
    "Explanation: 10 is \"1010\" in binary, with complement \"0101\" in binary, which is 5 in base-10.\n",
    "``` \n",
    "---\n",
    "**Constraints:**\n",
    "\n",
    "- `0 <= n < 109`"
   ]
  },
  {
   "cell_type": "code",
   "execution_count": null,
   "metadata": {},
   "outputs": [],
   "source": [
    "class Solution:\n",
    "    def bitwiseComplement(self, n: int) -> int:\n",
    "        if n == 0:\n",
    "            return 1\n",
    "            \n",
    "        ans = 0\n",
    "        i = 0\n",
    "        while(n > 0):\n",
    "            if n % 2:\n",
    "                x = 0\n",
    "            else:\n",
    "                x = 1\n",
    "\n",
    "            ans += pow(2, i) * x\n",
    "            i += 1\n",
    "            n //= 2\n",
    "\n",
    "        return ans"
   ]
  },
  {
   "cell_type": "code",
   "execution_count": null,
   "metadata": {},
   "outputs": [],
   "source": [
    "class Solution:\n",
    "    def bitwiseComplement(self, n: int) -> int:\n",
    "        if n == 0:  # if the value of n is 0, return 1\n",
    "            return 1\n",
    "\n",
    "        # counting the number of bits required by this number in binary representation\n",
    "        bit_count = floor(log2(n)) + 1\n",
    "        # computing the all bits set of the number\n",
    "        all_bits_set = pow(2, bit_count) - 1\n",
    "        # flipping all bits of number by taking xor with all_bits_set\n",
    "        return n ^ all_bits_set"
   ]
  }
 ],
 "metadata": {
  "kernelspec": {
   "display_name": "Python 3.8.10 64-bit",
   "language": "python",
   "name": "python3"
  },
  "language_info": {
   "name": "python",
   "version": "3.8.10"
  },
  "orig_nbformat": 4,
  "vscode": {
   "interpreter": {
    "hash": "916dbcbb3f70747c44a77c7bcd40155683ae19c65e1c03b4aa3499c5328201f1"
   }
  }
 },
 "nbformat": 4,
 "nbformat_minor": 2
}
