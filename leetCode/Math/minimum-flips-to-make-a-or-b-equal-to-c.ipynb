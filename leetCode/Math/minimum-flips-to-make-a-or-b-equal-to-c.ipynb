{
 "cells": [
  {
   "cell_type": "markdown",
   "metadata": {},
   "source": [
    "# 1318. Minimum Flips to Make a OR b Equal to c\n",
    "\n",
    "Given 3 positives numbers `a`, `b` and `c`. Return the minimum flips required in some bits of `a` and `b` to make ( `a` OR `b` == `c` ). (bitwise OR operation).\n",
    "Flip operation consists of change **any** single bit 1 to 0 or change the bit 0 to 1 in their binary representation.\n",
    "\n",
    " \n",
    "\n",
    "**Example 1:**\n",
    "\n",
    "![image](https://assets.leetcode.com/uploads/2020/01/06/sample_3_1676.png)\n",
    "\n",
    "```\n",
    "Input: a = 2, b = 6, c = 5\n",
    "Output: 3\n",
    "Explanation: After flips a = 1 , b = 4 , c = 5 such that (a OR b == c)\n",
    "```\n",
    "---\n",
    "**Example 2:**\n",
    "```\n",
    "Input: a = 4, b = 2, c = 7\n",
    "Output: 1\n",
    "```\n",
    "---\n",
    "**Example 3:**\n",
    "```\n",
    "Input: a = 1, b = 2, c = 3\n",
    "Output: 0\n",
    "```\n",
    "---\n",
    "\n",
    "**Constraints:**\n",
    "\n",
    "- `1 <= a <= 10^9`\n",
    "- `1 <= b <= 10^9`\n",
    "- `1 <= c <= 10^9`"
   ]
  },
  {
   "cell_type": "code",
   "execution_count": null,
   "metadata": {},
   "outputs": [],
   "source": [
    "class Solution:\n",
    "    def minFlips(self, a: int, b: int, c: int) -> int:\n",
    "        flips = 0\n",
    "\n",
    "        while a > 0 or b > 0 or c > 0:\n",
    "            bit_a = a & 1\n",
    "            bit_b = b & 1\n",
    "            bit_c = c & 1\n",
    "\n",
    "            if not bit_c:\n",
    "                flips += (bit_a + bit_b)\n",
    "\n",
    "            else:\n",
    "                if not bit_a and not bit_b:\n",
    "                    flips += 1\n",
    "\n",
    "            a >>= 1\n",
    "            b >>= 1\n",
    "            c >>= 1\n",
    "\n",
    "        return flips"
   ]
  },
  {
   "cell_type": "code",
   "execution_count": null,
   "metadata": {},
   "outputs": [],
   "source": [
    "class Solution:\n",
    "    def minFlips(self, a: int, b: int, c: int) -> int:\n",
    "        ans = 0\n",
    "        for i in range(30):\n",
    "            x, y, z = a >> i & 1, b >> i & 1, c >> i & 1\n",
    "            if x | y != z:\n",
    "                ans += 2 if x == 1 and y == 1 else 1\n",
    "        return ans"
   ]
  }
 ],
 "metadata": {
  "kernelspec": {
   "display_name": "Python 3.8.10 64-bit",
   "language": "python",
   "name": "python3"
  },
  "language_info": {
   "name": "python",
   "version": "3.8.10"
  },
  "orig_nbformat": 4,
  "vscode": {
   "interpreter": {
    "hash": "916dbcbb3f70747c44a77c7bcd40155683ae19c65e1c03b4aa3499c5328201f1"
   }
  }
 },
 "nbformat": 4,
 "nbformat_minor": 2
}
