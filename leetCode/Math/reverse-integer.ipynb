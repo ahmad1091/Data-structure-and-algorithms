{
 "cells": [
  {
   "cell_type": "markdown",
   "metadata": {},
   "source": [
    "# 7. Reverse Integer\n",
    "\n",
    "Given a signed 32-bit integer `x`, return `x` with its digits reversed. If reversing `x` causes the value to go outside the signed 32-bit integer range `[-231, 231 - 1]`, then return `0`.\n",
    "\n",
    "**Assume the environment does not allow you to store 64-bit integers (signed or unsigned).**\n",
    "\n",
    "--------------\n",
    "\n",
    "**Example 1:**\n",
    "\n",
    "**Input:** `x = 123`\n",
    "\n",
    "**Output:** `321`\n",
    "\n",
    "--------------\n",
    "\n",
    "**Example 2:**\n",
    "\n",
    "**Input:** `x = -123`\n",
    "\n",
    "**Output:** `-321`\n",
    "\n",
    "--------------\n",
    "\n",
    "**Example 3:**\n",
    "\n",
    "**Input:** `x = 120`\n",
    "\n",
    "**Output:** `21`\n"
   ]
  },
  {
   "cell_type": "code",
   "execution_count": null,
   "metadata": {},
   "outputs": [],
   "source": [
    "class Solution:\n",
    "    def reverse(self, x: int) -> int:\n",
    "        if not (-2**31 <= x <= 2**31 - 1): return 0\n",
    "        sign = -1 if x < 0 else 1\n",
    "        x *= sign\n",
    "        rev_x = 0\n",
    "        while  x > 0:\n",
    "            rev_x *= 10\n",
    "            rev_x += ( x % 10)\n",
    "            x //= 10\n",
    "        return  rev_x * sign if  (-2**31 <= rev_x <= 2**31 - 1) else  0"
   ]
  }
 ],
 "metadata": {
  "kernelspec": {
   "display_name": "Python 3.8.10 64-bit",
   "language": "python",
   "name": "python3"
  },
  "language_info": {
   "name": "python",
   "version": "3.8.10"
  },
  "orig_nbformat": 4,
  "vscode": {
   "interpreter": {
    "hash": "916dbcbb3f70747c44a77c7bcd40155683ae19c65e1c03b4aa3499c5328201f1"
   }
  }
 },
 "nbformat": 4,
 "nbformat_minor": 2
}
