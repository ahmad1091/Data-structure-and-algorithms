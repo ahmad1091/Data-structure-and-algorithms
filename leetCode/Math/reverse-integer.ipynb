{
 "cells": [
  {
   "cell_type": "markdown",
   "metadata": {},
   "source": [
    "# 7. Reverse Integer\n",
    "\n",
    "Given a signed 32-bit integer `x`, return `x` with its digits reversed. If reversing `x` causes the value to go outside the signed 32-bit integer range `[-231, 231 - 1]`, then return `0`.\n",
    "\n",
    "**Assume the environment does not allow you to store 64-bit integers (signed or unsigned).**\n",
    "\n",
    "--------------\n",
    "\n",
    "**Example 1:**\n",
    "\n",
    "**Input:** `x = 123`\n",
    "\n",
    "**Output:** `321`\n",
    "\n",
    "--------------\n",
    "\n",
    "**Example 2:**\n",
    "\n",
    "**Input:** `x = -123`\n",
    "\n",
    "**Output:** `-321`\n",
    "\n",
    "--------------\n",
    "\n",
    "**Example 3:**\n",
    "\n",
    "**Input:** `x = 120`\n",
    "\n",
    "**Output:** `21`\n"
   ]
  }
 ],
 "metadata": {
  "language_info": {
   "name": "python"
  },
  "orig_nbformat": 4
 },
 "nbformat": 4,
 "nbformat_minor": 2
}
