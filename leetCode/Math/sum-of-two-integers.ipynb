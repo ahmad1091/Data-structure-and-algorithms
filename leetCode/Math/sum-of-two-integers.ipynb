{
 "cells": [
  {
   "cell_type": "markdown",
   "metadata": {},
   "source": [
    "# 371. Sum of Two Integers\n",
    "\n",
    "Given two integers `a` and `b`, return the sum of the two integers without using the operators `+` and `-`.\n",
    "\n",
    " \n",
    "\n",
    "**Example 1:**\n",
    "```\n",
    "Input: a = 1, b = 2\n",
    "Output: 3\n",
    "```\n",
    "---\n",
    "**Example 2:**\n",
    "```\n",
    "Input: a = 2, b = 3\n",
    "Output: 5\n",
    "```\n",
    "---\n",
    "\n",
    "**Constraints:**\n",
    "\n",
    "- `-1000 <= a, b <= 1000`"
   ]
  },
  {
   "cell_type": "code",
   "execution_count": null,
   "metadata": {},
   "outputs": [],
   "source": [
    "class Solution {\n",
    "    public int getSum(int a, int b) {\n",
    "        while(b != 0){\n",
    "            int temp = (a & b) << 1;\n",
    "            a ^= b;\n",
    "            b = temp;\n",
    "        }\n",
    "        return a;\n",
    "    }\n",
    "}"
   ]
  },
  {
   "cell_type": "code",
   "execution_count": null,
   "metadata": {},
   "outputs": [],
   "source": [
    "class Solution:\n",
    "    def getSum(self, a: int, b: int) -> int:\n",
    "        a, b = a & 0xFFFFFFFF, b & 0xFFFFFFFF\n",
    "        while b:\n",
    "            carry = ((a & b) << 1) & 0xFFFFFFFF\n",
    "            a, b = a ^ b, carry\n",
    "        return a if a < 0x80000000 else ~(a ^ 0xFFFFFFFF)"
   ]
  }
 ],
 "metadata": {
  "kernelspec": {
   "display_name": "Python 3.8.10 64-bit",
   "language": "python",
   "name": "python3"
  },
  "language_info": {
   "name": "python",
   "version": "3.8.10"
  },
  "orig_nbformat": 4,
  "vscode": {
   "interpreter": {
    "hash": "916dbcbb3f70747c44a77c7bcd40155683ae19c65e1c03b4aa3499c5328201f1"
   }
  }
 },
 "nbformat": 4,
 "nbformat_minor": 2
}
