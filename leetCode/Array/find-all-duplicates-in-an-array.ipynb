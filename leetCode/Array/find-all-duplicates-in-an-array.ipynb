{
 "cells": [
  {
   "cell_type": "markdown",
   "metadata": {},
   "source": [
    "# 442. Find All Duplicates in an Array\n",
    "\n",
    "Given an integer array `nums` of length `n` where all the integers of `nums` are in the range `[1, n]` and each integer appears **once** or **twice**, return an array of all the integers that appears **twice**.\n",
    "\n",
    "You must write an algorithm that runs in `O(n)` time and uses only constant extra space.\n",
    "\n",
    " \n",
    "\n",
    "**Example 1:**\n",
    "```\n",
    "Input: nums = [4,3,2,7,8,2,3,1]\n",
    "Output: [2,3]\n",
    "```\n",
    "---\n",
    "**Example 2:**\n",
    "```\n",
    "Input: nums = [1,1,2]\n",
    "Output: [1]\n",
    "```\n",
    "---\n",
    "**Example 3:**\n",
    "```\n",
    "Input: nums = [1]\n",
    "Output: []\n",
    "``` \n",
    "---\n",
    "**Constraints:**\n",
    "\n",
    "- `n == nums.length`\n",
    "- `1 <= n <= 105`\n",
    "- `1 <= nums[i] <= n`\n",
    "- Each element in `nums` appears **once** or **twice**."
   ]
  },
  {
   "cell_type": "code",
   "execution_count": null,
   "metadata": {},
   "outputs": [],
   "source": [
    "class Solution:\n",
    "    def findDuplicates(self, nums: List[int]) -> List[int]:\n",
    "        count = Counter(nums)\n",
    "        res = []\n",
    "        for n in count:\n",
    "            if count[n] > 1:\n",
    "                res.append(n)\n",
    "\n",
    "        return res"
   ]
  }
 ],
 "metadata": {
  "language_info": {
   "name": "python"
  },
  "orig_nbformat": 4
 },
 "nbformat": 4,
 "nbformat_minor": 2
}
