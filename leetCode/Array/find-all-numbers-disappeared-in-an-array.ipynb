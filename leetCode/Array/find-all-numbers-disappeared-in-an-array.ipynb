{
 "cells": [
  {
   "cell_type": "markdown",
   "metadata": {},
   "source": [
    "# 448. Find All Numbers Disappeared in an Array\n",
    "\n",
    "Given an array `nums` of n integers where `nums[i]` is in the range `[1, n]`, return an array of all the integers in the range `[1, n]` that do not appear in `nums`.\n",
    "\n",
    " \n",
    "\n",
    "**Example 1:**\n",
    "```\n",
    "Input: nums = [4,3,2,7,8,2,3,1]\n",
    "Output: [5,6]\n",
    "```\n",
    "---\n",
    "**Example 2:**\n",
    "```\n",
    "Input: nums = [1,1]\n",
    "Output: [2]\n",
    "```\n",
    "--- \n",
    "\n",
    "**Constraints:**\n",
    "\n",
    "- `n == nums.length`\n",
    "- `1 <= n <= 105`\n",
    "- `1 <= nums[i] <= n`\n",
    " \n",
    "\n",
    "**Follow up:** Could you do it without extra space and in `O(n)` runtime? You may assume the returned list does not count as extra space."
   ]
  },
  {
   "cell_type": "code",
   "execution_count": null,
   "metadata": {},
   "outputs": [],
   "source": [
    "class Solution:\n",
    "    def findDisappearedNumbers(self, nums: List[int]) -> List[int]:\n",
    "        hashSet = set(range(1, len(nums) + 1))\n",
    "\n",
    "        for n in nums:\n",
    "            if n in hashSet:\n",
    "                hashSet.remove(n)\n",
    "        \n",
    "        return list(hashSet)"
   ]
  }
 ],
 "metadata": {
  "language_info": {
   "name": "python"
  },
  "orig_nbformat": 4
 },
 "nbformat": 4,
 "nbformat_minor": 2
}
