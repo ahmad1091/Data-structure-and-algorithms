{
 "cells": [
  {
   "cell_type": "markdown",
   "metadata": {},
   "source": [
    "# 45. Jump Game II\n",
    "\n",
    "You are given a 0-indexed array of integers `nums` of length n. You are initially positioned at `nums[0]`.\n",
    "\n",
    "Each element `nums[i]` represents the maximum length of a forward jump from index i. In other words, if you are at `nums[i]`, you can jump to any `nums[i + j]` where:\n",
    "\n",
    "- `0 <= j <= nums[i]` and\n",
    "- `i + j < n`\n",
    "\n",
    "Return *the minimum number of jumps to reach* `nums[n - 1]`. The test cases are generated such that you can reach `nums[n - 1]`.\n",
    "\n",
    " \n",
    "\n",
    "**Example 1:**\n",
    "```\n",
    "Input: nums = [2,3,1,1,4]\n",
    "Output: 2\n",
    "Explanation: The minimum number of jumps to reach the last index is 2. Jump 1 step from index 0 to 1, then 3 steps to the last index.\n",
    "```\n",
    "---\n",
    "**Example 2:**\n",
    "```\n",
    "Input: nums = [2,3,0,1,4]\n",
    "Output: 2\n",
    "``` \n",
    "---\n",
    "**Constraints:**\n",
    "\n",
    "- `1 <= nums.length <= 104`\n",
    "- `0 <= nums[i] <= 1000`\n",
    "- It's guaranteed that you can reach `nums[n - 1]`."
   ]
  },
  {
   "cell_type": "code",
   "execution_count": null,
   "metadata": {},
   "outputs": [],
   "source": [
    "class Solution:\n",
    "    def jump(self, nums: List[int]) -> int:\n",
    "        l = r = 0\n",
    "        steps = 0\n",
    "\n",
    "        while r < len(nums) - 1:\n",
    "            max_steps = 0\n",
    "            for i in range(l, r + 1):\n",
    "                max_steps = max(max_steps, i + nums[i])\n",
    "\n",
    "            l = r + 1\n",
    "            r = max_steps\n",
    "            steps += 1\n",
    "        return steps"
   ]
  }
 ],
 "metadata": {
  "kernelspec": {
   "display_name": "Python 3.8.10 64-bit",
   "language": "python",
   "name": "python3"
  },
  "language_info": {
   "name": "python",
   "version": "3.8.10"
  },
  "orig_nbformat": 4,
  "vscode": {
   "interpreter": {
    "hash": "916dbcbb3f70747c44a77c7bcd40155683ae19c65e1c03b4aa3499c5328201f1"
   }
  }
 },
 "nbformat": 4,
 "nbformat_minor": 2
}
