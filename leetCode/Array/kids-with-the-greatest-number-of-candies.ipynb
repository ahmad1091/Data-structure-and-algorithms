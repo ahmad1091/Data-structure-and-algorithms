{
 "cells": [
  {
   "cell_type": "markdown",
   "metadata": {},
   "source": [
    "# 1431. Kids With the Greatest Number of Candies\n",
    "\n",
    "There are `n` kids with candies. You are given an integer array `candies`, where each `candies[i]` represents the number of `candies` the `ith` kid has, and an integer `extraCandies`, denoting the number of extra candies that you have.\n",
    "\n",
    "Return a boolean array `result` of length `n`, where `result[i]` is `true` if, after giving the `ith` kid all the `extraCandies`, they will have the `greatest` number of candies among all the kids, or `false` otherwise.\n",
    "\n",
    "Note that **multiple** kids can have the `greatest` number of candies.\n",
    "\n",
    " \n",
    "\n",
    "**Example 1:**\n",
    "```\n",
    "Input: candies = [2,3,5,1,3], extraCandies = 3\n",
    "Output: [true,true,true,false,true] \n",
    "Explanation: If you give all extraCandies to:\n",
    "- Kid 1, they will have 2 + 3 = 5 candies, which is the greatest among the kids.\n",
    "- Kid 2, they will have 3 + 3 = 6 candies, which is the greatest among the kids.\n",
    "- Kid 3, they will have 5 + 3 = 8 candies, which is the greatest among the kids.\n",
    "- Kid 4, they will have 1 + 3 = 4 candies, which is not the greatest among the kids.\n",
    "- Kid 5, they will have 3 + 3 = 6 candies, which is the greatest among the kids.\n",
    "```\n",
    "---\n",
    "\n",
    "**Example 2:**\n",
    "```\n",
    "Input: candies = [4,2,1,1,2], extraCandies = 1\n",
    "Output: [true,false,false,false,false] \n",
    "Explanation: There is only 1 extra candy.\n",
    "Kid 1 will always have the greatest number of candies, even if a different kid is given the extra candy.\n",
    "```\n",
    "---\n",
    "**Example 3:**\n",
    "```\n",
    "Input: candies = [12,1,12], extraCandies = 10\n",
    "Output: [true,false,true]\n",
    "```\n",
    "---\n",
    "**Constraints:**\n",
    "\n",
    "- `n == candies.length`\n",
    "- `2 <= n <= 100`\n",
    "- `1 <= candies[i] <= 100`\n",
    "- `1 <= extraCandies <= 50`"
   ]
  }
 ],
 "metadata": {
  "kernelspec": {
   "display_name": "Python 3.8.10 64-bit",
   "language": "python",
   "name": "python3"
  },
  "language_info": {
   "name": "python",
   "version": "3.8.10"
  },
  "orig_nbformat": 4,
  "vscode": {
   "interpreter": {
    "hash": "916dbcbb3f70747c44a77c7bcd40155683ae19c65e1c03b4aa3499c5328201f1"
   }
  }
 },
 "nbformat": 4,
 "nbformat_minor": 2
}
