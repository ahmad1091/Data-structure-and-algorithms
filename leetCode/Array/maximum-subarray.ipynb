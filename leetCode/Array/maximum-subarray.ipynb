{
 "cells": [
  {
   "cell_type": "markdown",
   "metadata": {},
   "source": [
    "# 53. Maximum Subarray\n",
    "\n",
    "Given an integer array `nums`, find the [subarray]() with the largest sum, and return its sum.\n",
    "\n",
    " \n",
    "\n",
    "**Example 1:**\n",
    "```\n",
    "Input: nums = [-2,1,-3,4,-1,2,1,-5,4]\n",
    "Output: 6\n",
    "Explanation: The subarray [4,-1,2,1] has the largest sum 6.\n",
    "```\n",
    "---\n",
    "**Example 2:**\n",
    "```\n",
    "Input: nums = [1]\n",
    "Output: 1\n",
    "Explanation: The subarray [1] has the largest sum 1.\n",
    "```\n",
    "**Example 3:**\n",
    "```\n",
    "Input: nums = [5,4,-1,7,8]\n",
    "Output: 23\n",
    "Explanation: The subarray [5,4,-1,7,8] has the largest sum 23.\n",
    "```\n",
    "---\n",
    "**Constraints:**\n",
    "\n",
    "- `1 <= nums.length <= 105`\n",
    "- `-104 <= nums[i] <= 104`\n",
    " \n",
    "\n",
    "**Follow up:** If you have figured out the `O(n)` solution, try coding another solution using the **divide and conquer** approach, which is more subtle."
   ]
  },
  {
   "cell_type": "code",
   "execution_count": null,
   "metadata": {},
   "outputs": [],
   "source": [
    "class Solution:\n",
    "    def maxSubArray(self, nums: List[int]) -> int:\n",
    "        maxSub = nums[0]\n",
    "        curSum = 0\n",
    "\n",
    "        for n in nums:\n",
    "            if curSum < 0:\n",
    "                curSum = 0\n",
    "            curSum += n\n",
    "            maxSub = max(curSum, maxSub)\n",
    "\n",
    "        return maxSub"
   ]
  }
 ],
 "metadata": {
  "language_info": {
   "name": "python"
  },
  "orig_nbformat": 4
 },
 "nbformat": 4,
 "nbformat_minor": 2
}
