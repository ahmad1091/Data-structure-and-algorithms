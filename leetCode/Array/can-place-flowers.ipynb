{
 "cells": [
  {
   "cell_type": "markdown",
   "metadata": {},
   "source": [
    "# 605. Can Place Flowers\n",
    "\n",
    "You have a long flowerbed in which some of the plots are planted, and some are not. However, flowers cannot be planted in **adjacent** plots.\n",
    "\n",
    "Given an integer array `flowerbed` containing `0`'s and `1`'s, where `0` means empty and `1` means not empty, and an integer `n`, return if `n` new flowers can be planted in the `flowerbed` without violating the no-adjacent-flowers rule.\n",
    "\n",
    "---\n",
    "\n",
    "**Example 1:**\n",
    "\n",
    "**Input:** `flowerbed = [1,0,0,0,1], n = 1`\n",
    "\n",
    "**Output:** `true`\n",
    "\n",
    "---\n",
    "\n",
    "**Example 2:**\n",
    "\n",
    "**Input:** `flowerbed = [1,0,0,0,1], n = 2`\n",
    "\n",
    "**Output:** `false`\n",
    " \n",
    "---\n",
    "\n",
    "**Constraints:**\n",
    "\n",
    "- `1 <= flowerbed.length <= 2 * 104`\n",
    "- `flowerbed[i] is 0 or 1.`\n",
    "- `There are no two adjacent flowers in flowerbed.`\n",
    "- `0 <= n <= flowerbed.length`"
   ]
  },
  {
   "cell_type": "code",
   "execution_count": null,
   "metadata": {},
   "outputs": [],
   "source": [
    "class Solution:\n",
    "    def canPlaceFlowers(self, flowerbed: List[int], n: int) -> bool:\n",
    "        flowerbed = [0] + flowerbed + [0]\n",
    "\n",
    "        for i in range(1, len(flowerbed)):\n",
    "            if n == 0: return True\n",
    "\n",
    "            if sum(flowerbed[i - 1:i + 2]) == 0:\n",
    "                flowerbed[i] = 1\n",
    "                n -= 1\n",
    "\n",
    "        return False"
   ]
  }
 ],
 "metadata": {
  "language_info": {
   "name": "python"
  },
  "orig_nbformat": 4
 },
 "nbformat": 4,
 "nbformat_minor": 2
}
