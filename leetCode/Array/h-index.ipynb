{
 "cells": [
  {
   "cell_type": "markdown",
   "metadata": {},
   "source": [
    "# 274. H-Index\n",
    "\n",
    "Given an array of integers `citations` where `citations[i]` is the number of citations a researcher received for their `ith` paper, *return the researcher's h-index*.\n",
    "\n",
    "According to the [definition of h-index on Wikipedia](https://en.wikipedia.org/wiki/H-index): The h-index is defined as the maximum value of `h` such that the given researcher has published at least `h` papers that have each been cited at least `h` times.\n",
    "\n",
    " \n",
    "\n",
    "**Example 1:**\n",
    "```\n",
    "Input: citations = [3,0,6,1,5]\n",
    "Output: 3\n",
    "Explanation: [3,0,6,1,5] means the researcher has 5 papers in total and each of them had received 3, 0, 6, 1, 5 citations respectively.\n",
    "Since the researcher has 3 papers with at least 3 citations each and the remaining two with no more than 3 citations each, their h-index is 3.\n",
    "```\n",
    "---\n",
    "**Example 2**:\n",
    "```\n",
    "Input: citations = [1,3,1]\n",
    "Output: 1\n",
    " ```\n",
    "---\n",
    "**Constraints:**\n",
    "\n",
    "- `n == citations.length`\n",
    "- `1 <= n <= 5000`\n",
    "- `0 <= citations[i] <= 1000`"
   ]
  },
  {
   "cell_type": "code",
   "execution_count": null,
   "metadata": {},
   "outputs": [],
   "source": [
    "class Solution:\n",
    "    def hIndex(self, citations: List[int]) -> int:\n",
    "        n = len(citations)\n",
    "        cnt = [0] * (n + 1)\n",
    "        for x in citations:\n",
    "            cnt[min(x, n)] += 1\n",
    "        s = 0\n",
    "        for h in range(n, -1, -1):\n",
    "            s += cnt[h]\n",
    "            if s >= h:\n",
    "                return h\n",
    "\n"
   ]
  }
 ],
 "metadata": {
  "kernelspec": {
   "display_name": "Python 3.8.10 64-bit",
   "language": "python",
   "name": "python3"
  },
  "language_info": {
   "name": "python",
   "version": "3.8.10"
  },
  "orig_nbformat": 4,
  "vscode": {
   "interpreter": {
    "hash": "916dbcbb3f70747c44a77c7bcd40155683ae19c65e1c03b4aa3499c5328201f1"
   }
  }
 },
 "nbformat": 4,
 "nbformat_minor": 2
}
