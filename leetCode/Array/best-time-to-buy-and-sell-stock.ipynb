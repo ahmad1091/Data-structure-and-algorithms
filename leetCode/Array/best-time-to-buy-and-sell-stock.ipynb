{
 "cells": [
  {
   "cell_type": "markdown",
   "metadata": {},
   "source": [
    "# 121. Best Time to Buy and Sell Stock\n",
    "\n",
    "You are given an array `prices` where `prices[i]` is the price of a given stock on the `ith` day.\n",
    "\n",
    "You want to maximize your profit by choosing a **single day** to buy one stock and choosing a **different day in the future** to sell that stock.\n",
    "\n",
    "Return the maximum profit you can achieve from this transaction. If you cannot achieve any profit, return `0`.\n",
    "\n",
    " \n",
    "\n",
    "**Example 1:**\n",
    "```\n",
    "Input: prices = [7,1,5,3,6,4]\n",
    "Output: 5\n",
    "Explanation: Buy on day 2 (price = 1) and sell on day 5 (price = 6), profit = 6-1 = 5.\n",
    "Note that buying on day 2 and selling on day 1 is not allowed because you must buy before you sell.\n",
    "```\n",
    "---\n",
    "**Example 2:**\n",
    "```\n",
    "Input: prices = [7,6,4,3,1]\n",
    "Output: 0\n",
    "Explanation: In this case, no transactions are done and the max profit = 0.\n",
    "```\n",
    "---\n",
    "\n",
    "**Constraints:**\n",
    "\n",
    "- `1 <= prices.length <= 10^5`\n",
    "- `0 <= prices[i] <= 10^4`"
   ]
  },
  {
   "cell_type": "code",
   "execution_count": null,
   "metadata": {},
   "outputs": [],
   "source": [
    "class Solution:\n",
    "    def maxProfit(self, prices: List[int]) -> int:\n",
    "        l, r = 0, 1\n",
    "        maxProf = 0\n",
    "        while r < len(prices):\n",
    "            if prices[l] < prices[r]:\n",
    "                maxProf = max(maxProf, prices[r] - prices[l])\n",
    "            else:\n",
    "                l = r\n",
    "            r += 1  \n",
    "        \n",
    "        return maxProf\n"
   ]
  }
 ],
 "metadata": {
  "language_info": {
   "name": "python"
  },
  "orig_nbformat": 4
 },
 "nbformat": 4,
 "nbformat_minor": 2
}
