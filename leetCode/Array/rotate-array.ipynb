{
 "cells": [
  {
   "cell_type": "markdown",
   "metadata": {},
   "source": [
    "# 189. Rotate Array\n",
    "\n",
    "Given an integer array `nums`, rotate the array to the right by `k` steps, where `k` is non-negative.\n",
    "\n",
    " \n",
    "\n",
    "**Example 1:**\n",
    "```\n",
    "Input: nums = [1,2,3,4,5,6,7], k = 3\n",
    "Output: [5,6,7,1,2,3,4]\n",
    "Explanation:\n",
    "rotate 1 steps to the right: [7,1,2,3,4,5,6]\n",
    "rotate 2 steps to the right: [6,7,1,2,3,4,5]\n",
    "rotate 3 steps to the right: [5,6,7,1,2,3,4]\n",
    "```\n",
    "---\n",
    "**Example 2:**\n",
    "```\n",
    "Input: nums = [-1,-100,3,99], k = 2\n",
    "Output: [3,99,-1,-100]\n",
    "Explanation: \n",
    "rotate 1 steps to the right: [99,-1,-100,3]\n",
    "rotate 2 steps to the right: [3,99,-1,-100]\n",
    "```\n",
    "--- \n",
    "\n",
    "**Constraints:**\n",
    "\n",
    "- `1 <= nums.length <= 105`\n",
    "- `-231 <= nums[i] <= 231 - 1`\n",
    "- `0 <= k <= 105`\n",
    "\n",
    "**Follow up:**\n",
    "\n",
    "- Try to come up with as many solutions as you can. There are at least three different ways to solve this problem.\n",
    "- Could you do it in-place with O(1) extra space?"
   ]
  },
  {
   "cell_type": "code",
   "execution_count": null,
   "metadata": {},
   "outputs": [],
   "source": [
    "class Solution:\n",
    "    def rotate(self, nums: List[int], k: int) -> None:\n",
    "        \"\"\"\n",
    "        Do not return anything, modify nums in-place instead.\n",
    "        \"\"\"\n",
    "        k = k % len(nums)\n",
    "        def reverse(l, r, arr):\n",
    "            while l < r:\n",
    "                arr[l], arr[r] = arr[r], arr[l]\n",
    "                l += 1\n",
    "                r -= 1\n",
    "        \n",
    "        reverse(0, len(nums) - 1, nums)\n",
    "        reverse(0, k - 1, nums)\n",
    "        reverse(k, len(nums) - 1, nums)"
   ]
  }
 ],
 "metadata": {
  "language_info": {
   "name": "python"
  },
  "orig_nbformat": 4
 },
 "nbformat": 4,
 "nbformat_minor": 2
}
