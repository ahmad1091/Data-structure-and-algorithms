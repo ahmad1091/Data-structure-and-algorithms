{
 "cells": [
  {
   "cell_type": "markdown",
   "metadata": {},
   "source": [
    "# 1372. Longest ZigZag Path in a Binary Tree\n",
    "\n",
    "You are given the `root` of a binary tree.\n",
    "\n",
    "A ZigZag path for a binary tree is defined as follow:\n",
    "\n",
    "- Choose any node in the binary tree and a direction (right or left).\n",
    "- If the current direction is right, move to the right child of the current node; otherwise, move to the left child.\n",
    "- Change the direction from right to left or from left to right.\n",
    "- Repeat the second and third steps until you can't move in the tree.\n",
    "\n",
    "Zigzag length is defined as the number of nodes visited - 1. (A single node has a length of 0).\n",
    "\n",
    "Return the longest **ZigZag** path contained in that tree.\n",
    "\n",
    " \n",
    "\n",
    "**Example 1:**\n",
    "\n",
    "![image](https://assets.leetcode.com/uploads/2020/01/22/sample_1_1702.png)\n",
    "```\n",
    "Input: root = [1,null,1,1,1,null,null,1,1,null,1,null,null,null,1]\n",
    "Output: 3\n",
    "Explanation: Longest ZigZag path in blue nodes (right -> left -> right).\n",
    "\n",
    "```\n",
    "---\n",
    "**Example 2:**\n",
    "\n",
    "![image](https://assets.leetcode.com/uploads/2020/01/22/sample_2_1702.png)\n",
    "```\n",
    "Input: root = [1,1,1,null,1,null,null,1,1,null,1]\n",
    "Output: 4\n",
    "Explanation: Longest ZigZag path in blue nodes (left -> right -> left -> right).\n",
    "```\n",
    "---\n",
    "**Example 3:**\n",
    "```\n",
    "Input: root = [1]\n",
    "Output: 0\n",
    "```\n",
    "---\n",
    "\n",
    "**Constraints:**\n",
    "\n",
    "- The number of nodes in the tree is in the range `[1, 5 * 10^4]`.\n",
    "- `1 <= Node.val <= 100`"
   ]
  }
 ],
 "metadata": {
  "kernelspec": {
   "display_name": "Python 3.8.10 64-bit",
   "language": "python",
   "name": "python3"
  },
  "language_info": {
   "name": "python",
   "version": "3.8.10"
  },
  "orig_nbformat": 4,
  "vscode": {
   "interpreter": {
    "hash": "916dbcbb3f70747c44a77c7bcd40155683ae19c65e1c03b4aa3499c5328201f1"
   }
  }
 },
 "nbformat": 4,
 "nbformat_minor": 2
}
