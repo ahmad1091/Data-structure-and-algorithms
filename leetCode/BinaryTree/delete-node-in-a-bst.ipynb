{
 "cells": [
  {
   "cell_type": "markdown",
   "metadata": {},
   "source": [
    "# 450. Delete Node in a BST\n",
    "\n",
    "Given a root node reference of a BST and a key, delete the node with the given key in the BST. Return the **root node reference** (possibly updated) of the BST.\n",
    "\n",
    "Basically, the deletion can be divided into two stages:\n",
    "\n",
    "Search for a node to remove.\n",
    "If the node is found, delete the node.\n",
    " \n",
    "\n",
    "**Example 1:**\n",
    "\n",
    "![image](https://assets.leetcode.com/uploads/2020/09/04/del_node_1.jpg)\n",
    "```\n",
    "Input: root = [5,3,6,2,4,null,7], key = 3\n",
    "Output: [5,4,6,2,null,null,7]\n",
    "Explanation: Given key to delete is 3. So we find the node with value 3 and delete it.\n",
    "One valid answer is [5,4,6,2,null,null,7], shown in the above BST.\n",
    "Please notice that another valid answer is [5,2,6,null,4,null,7] and it's also accepted.\n",
    "```\n",
    "![image](https://assets.leetcode.com/uploads/2020/09/04/del_node_supp.jpg)\n",
    "---\n",
    "**Example 2:**\n",
    "```\n",
    "Input: root = [5,3,6,2,4,null,7], key = 0\n",
    "Output: [5,3,6,2,4,null,7]\n",
    "Explanation: The tree does not contain a node with value = 0.\n",
    "\n",
    "```\n",
    "---\n",
    "**Example 3:**\n",
    "```\n",
    "Input: root = [], key = 0\n",
    "Output: []\n",
    " \n",
    "```\n",
    "---\n",
    "\n",
    "**Constraints:**\n",
    "\n",
    "- The number of nodes in the tree is in the range [`0, 10^4]`.\n",
    "- `-105 <= Node.val <= 105`\n",
    "- Each node has a unique value.\n",
    "- `root` is a valid binary search tree.\n",
    "- `-105 <= key <= 105`\n",
    " \n",
    "\n",
    "**Follow up:** Could you solve it with time complexity O(height of tree)?"
   ]
  },
  {
   "cell_type": "code",
   "execution_count": null,
   "metadata": {},
   "outputs": [],
   "source": [
    "# Definition for a binary tree node.\n",
    "# class TreeNode:\n",
    "#     def __init__(self, val=0, left=None, right=None):\n",
    "#         self.val = val\n",
    "#         self.left = left\n",
    "#         self.right = right\n",
    "class Solution:\n",
    "    def deleteNode(self, root: Optional[TreeNode], key: int) -> Optional[TreeNode]:\n",
    "        if not root:\n",
    "            return root\n",
    "\n",
    "        if root.val < key:\n",
    "            root.right = self.deleteNode(root.right, key)\n",
    "        elif root.val > key:\n",
    "            root.left = self.deleteNode(root.left, key)\n",
    "        else:\n",
    "            if not root.left:\n",
    "                return root.right\n",
    "            elif not root.right:\n",
    "                return root.left\n",
    "            \n",
    "            cur = root.right\n",
    "            while cur.left:\n",
    "                cur = cur.left\n",
    "\n",
    "            root.val = cur.val\n",
    "            root.right = self.deleteNode(root.right, root.val)\n",
    "\n",
    "        return root"
   ]
  }
 ],
 "metadata": {
  "kernelspec": {
   "display_name": "Python 3.8.10 64-bit",
   "language": "python",
   "name": "python3"
  },
  "language_info": {
   "name": "python",
   "version": "3.8.10"
  },
  "orig_nbformat": 4,
  "vscode": {
   "interpreter": {
    "hash": "916dbcbb3f70747c44a77c7bcd40155683ae19c65e1c03b4aa3499c5328201f1"
   }
  }
 },
 "nbformat": 4,
 "nbformat_minor": 2
}
