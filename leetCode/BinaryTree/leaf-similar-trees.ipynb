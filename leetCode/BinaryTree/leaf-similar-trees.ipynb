{
 "cells": [
  {
   "cell_type": "markdown",
   "metadata": {},
   "source": [
    "# 872. Leaf-Similar Trees\n",
    "\n",
    "Consider all the leaves of a binary tree, from left to right order, the values of those leaves form a **leaf value sequence**.\n",
    "\n",
    "![image](https://s3-lc-upload.s3.amazonaws.com/uploads/2018/07/16/tree.png)\n",
    "\n",
    "\n",
    "For example, in the given tree above, the leaf value sequence is `(6, 7, 4, 9, 8)`.\n",
    "\n",
    "Two binary trees are considered leaf-similar if their leaf value sequence is the same.\n",
    "\n",
    "Return `true` if and only if the two given trees with head nodes `root1` and `root2` are leaf-similar.\n",
    "\n",
    " \n",
    "\n",
    "**Example 1:**\n",
    "\n",
    "![image](https://assets.leetcode.com/uploads/2020/09/03/leaf-similar-1.jpg)\n",
    "\n",
    "```\n",
    "Input: root1 = [3,5,1,6,2,9,8,null,null,7,4], root2 = [3,5,1,6,7,4,2,null,null,null,null,null,null,9,8]\n",
    "Output: true\n",
    "```\n",
    "---\n",
    "**Example 2:**\n",
    "\n",
    "![image](https://assets.leetcode.com/uploads/2020/09/03/leaf-similar-2.jpg)\n",
    "\n",
    "```\n",
    "Input: root1 = [1,2,3], root2 = [1,3,2]\n",
    "Output: false\n",
    "```\n",
    "---\n",
    "\n",
    "**Constraints:**\n",
    "\n",
    "- The number of nodes in each tree will be in the range `[1, 200]`.\n",
    "- Both of the given trees will have values in the range `[0, 200]`."
   ]
  },
  {
   "cell_type": "code",
   "execution_count": null,
   "metadata": {},
   "outputs": [],
   "source": [
    "# Definition for a binary tree node.\n",
    "# class TreeNode:\n",
    "#     def __init__(self, val=0, left=None, right=None):\n",
    "#         self.val = val\n",
    "#         self.left = left\n",
    "#         self.right = right\n",
    "class Solution:\n",
    "    def leafSimilar(self, root1: Optional[TreeNode], root2: Optional[TreeNode]) -> bool:\n",
    "\n",
    "        def dfs(node, arr):\n",
    "            if not node:\n",
    "                return \n",
    "            if not node.left and not node.right:\n",
    "                arr.append(node.val)\n",
    "            \n",
    "            dfs(node.left, arr)\n",
    "            dfs(node.right, arr)\n",
    "\n",
    "            return arr\n",
    "            \n",
    "        return dfs(root1, []) == dfs(root2, [])\n"
   ]
  },
  {
   "cell_type": "code",
   "execution_count": null,
   "metadata": {},
   "outputs": [],
   "source": [
    "# Definition for a binary tree node.\n",
    "# class TreeNode:\n",
    "#     def __init__(self, val=0, left=None, right=None):\n",
    "#         self.val = val\n",
    "#         self.left = left\n",
    "#         self.right = right\n",
    "class Solution:\n",
    "    def leafSimilar(self, root1: Optional[TreeNode], root2: Optional[TreeNode]) -> bool:\n",
    "        def dfs(root):\n",
    "            if root is None:\n",
    "                return []\n",
    "            ans = dfs(root.left) + dfs(root.right)\n",
    "            return ans or [root.val]\n",
    "\n",
    "        return dfs(root1) == dfs(root2)\n"
   ]
  }
 ],
 "metadata": {
  "language_info": {
   "name": "python"
  },
  "orig_nbformat": 4
 },
 "nbformat": 4,
 "nbformat_minor": 2
}
