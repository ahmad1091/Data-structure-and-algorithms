{
 "cells": [
  {
   "cell_type": "markdown",
   "metadata": {},
   "source": [
    "# 700. Search in a Binary Search Tree\n",
    "\n",
    "You are given the `root` of a binary search tree (BST) and an integer `val`.\n",
    "\n",
    "Find the node in the BST that the node's value equals `val` and return the subtree rooted with that node. If such a node does not exist, return `null`.\n",
    "\n",
    " \n",
    "\n",
    "**Example 1:**\n",
    "\n",
    "![image](https://assets.leetcode.com/uploads/2021/01/12/tree1.jpg)\n",
    "```\n",
    "Input: root = [4,2,7,1,3], val = 2\n",
    "Output: [2,1,3]\n",
    "```\n",
    "---\n",
    "**Example 2:**\n",
    "\n",
    "![image](https://assets.leetcode.com/uploads/2021/01/12/tree2.jpg)\n",
    "\n",
    "```\n",
    "Input: root = [4,2,7,1,3], val = 5\n",
    "Output: []\n",
    "```\n",
    "--- \n",
    "\n",
    "**Constraints:**\n",
    "\n",
    "- The number of nodes in the tree is in the range `[1, 5000]`.\n",
    "- `1 <= Node.val <= 107`\n",
    "- `root` is a binary search tree.\n",
    "- `1 <= val <= 107`"
   ]
  }
 ],
 "metadata": {
  "language_info": {
   "name": "python"
  },
  "orig_nbformat": 4
 },
 "nbformat": 4,
 "nbformat_minor": 2
}
