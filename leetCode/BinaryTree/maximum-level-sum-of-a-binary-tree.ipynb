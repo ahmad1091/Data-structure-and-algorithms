{
 "cells": [
  {
   "cell_type": "markdown",
   "metadata": {},
   "source": [
    "# 1161. Maximum Level Sum of a Binary Tree\n",
    "\n",
    "Given the `root` of a binary tree, the level of its root is `1`, the level of its children is `2`, and so on.\n",
    "\n",
    "Return the **smallest** level `x` such that the sum of all the values of nodes at level `x` is **maximal**.\n",
    "\n",
    " \n",
    "\n",
    "**Example 1:**\n",
    "\n",
    "![image](https://assets.leetcode.com/uploads/2019/05/03/capture.JPG)\n",
    "```\n",
    "Input: root = [1,7,0,7,-8,null,null]\n",
    "Output: 2\n",
    "Explanation: \n",
    "Level 1 sum = 1.\n",
    "Level 2 sum = 7 + 0 = 7.\n",
    "Level 3 sum = 7 + -8 = -1.\n",
    "So we return the level with the maximum sum which is level 2.\n",
    "```\n",
    "---\n",
    "Example 2:\n",
    "```\n",
    "Input: root = [989,null,10250,98693,-89388,null,null,null,-32127]\n",
    "Output: 2\n",
    "```\n",
    "--- \n",
    "\n",
    "**Constraints:**\n",
    "\n",
    "- The number of nodes in the tree is in the range `[1, 10^4]`.\n",
    "- `-105 <= Node.val <= 105`"
   ]
  },
  {
   "cell_type": "code",
   "execution_count": null,
   "metadata": {},
   "outputs": [],
   "source": [
    "# Definition for a binary tree node.\n",
    "# class TreeNode:\n",
    "#     def __init__(self, val=0, left=None, right=None):\n",
    "#         self.val = val\n",
    "#         self.left = left\n",
    "#         self.right = right\n",
    "class Solution:\n",
    "    def rightSideView(self, root: Optional[TreeNode]) -> List[int]:\n",
    "        ans = []\n",
    "        q = deque([root])\n",
    "\n",
    "        while q:\n",
    "            most_right = None\n",
    "            for _ in range(len(q)):\n",
    "                node = q.popleft()\n",
    "                if node:\n",
    "                    most_right = node\n",
    "                    q.append(node.left)\n",
    "                    q.append(node.right)\n",
    "            if most_right:\n",
    "                ans.append(most_right.val)\n",
    "        return ans\n",
    "\n"
   ]
  }
 ],
 "metadata": {
  "kernelspec": {
   "display_name": "Python 3.8.10 64-bit",
   "language": "python",
   "name": "python3"
  },
  "language_info": {
   "name": "python",
   "version": "3.8.10"
  },
  "orig_nbformat": 4,
  "vscode": {
   "interpreter": {
    "hash": "916dbcbb3f70747c44a77c7bcd40155683ae19c65e1c03b4aa3499c5328201f1"
   }
  }
 },
 "nbformat": 4,
 "nbformat_minor": 2
}
