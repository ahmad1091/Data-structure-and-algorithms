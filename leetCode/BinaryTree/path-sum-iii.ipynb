{
 "cells": [
  {
   "cell_type": "markdown",
   "metadata": {},
   "source": [
    "# 437. Path Sum III\n",
    "\n",
    "Given the `root` of a binary tree and an integer `targetSum`, return the number of paths where the sum of the values along the path equals `targetSum`.\n",
    "\n",
    "The path does not need to start or end at the root or a leaf, but it must go downwards (i.e., traveling only from parent nodes to child nodes).\n",
    "\n",
    " \n",
    "\n",
    "**Example 1:**\n",
    "\n",
    "![image](https://assets.leetcode.com/uploads/2021/04/09/pathsum3-1-tree.jpg)\n",
    "\n",
    "```\n",
    "Input: root = [10,5,-3,3,2,null,11,3,-2,null,1], targetSum = 8\n",
    "Output: 3\n",
    "Explanation: The paths that sum to 8 are shown.\n",
    "\n",
    "```\n",
    "---\n",
    "**Example 2:**\n",
    "```\n",
    "Input: root = [5,4,8,11,null,13,4,7,2,null,null,5,1], targetSum = 22\n",
    "Output: 3\n",
    "```\n",
    "--- \n",
    "\n",
    "**Constraints:**\n",
    "\n",
    "- The number of nodes in the tree is in the range `[0, 1000]`.\n",
    "- `-109 <= Node.val <= 109`\n",
    "- `-1000 <= targetSum <= 1000`\n"
   ]
  },
  {
   "cell_type": "code",
   "execution_count": null,
   "metadata": {},
   "outputs": [],
   "source": [
    "# Definition for a binary tree node.\n",
    "# class TreeNode:\n",
    "#     def __init__(self, val=0, left=None, right=None):\n",
    "#         self.val = val\n",
    "#         self.left = left\n",
    "#         self.right = right\n",
    "class Solution:\n",
    "    def pathSum(self, root: Optional[TreeNode], targetSum: int) -> int:\n",
    "        \n",
    "        def dfs(node, s):\n",
    "            if not node:\n",
    "                return 0\n",
    "            s += node.val\n",
    "            ans = count[s - targetSum]\n",
    "            count[s] += 1\n",
    "            ans += dfs(node.left, s)\n",
    "            ans += dfs(node.right, s)\n",
    "            count[s] -= 1\n",
    "            return ans\n",
    "\n",
    "        count = Counter({0: 1})\n",
    "        return dfs(root, 0)\n",
    "\n"
   ]
  }
 ],
 "metadata": {
  "language_info": {
   "name": "python"
  },
  "orig_nbformat": 4
 },
 "nbformat": 4,
 "nbformat_minor": 2
}
