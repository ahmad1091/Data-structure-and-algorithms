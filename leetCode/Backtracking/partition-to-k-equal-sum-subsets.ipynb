{
 "cells": [
  {
   "cell_type": "markdown",
   "metadata": {},
   "source": [
    "# 698. Partition to K Equal Sum Subsets\n",
    "\n",
    "Given an integer array `nums` and an integer `k`, return `true` if it is possible to divide this array into `k` non-empty subsets whose sums are all equal.\n",
    "\n",
    " ---\n",
    "\n",
    "**Example 1:**\n",
    "\n",
    "**Input:** `nums = [4,3,2,3,5,2,1], k = 4`\n",
    "\n",
    "**Output:** `true`\n",
    "\n",
    "**Explanation:** `It is possible to divide it into 4 subsets (5), (1, 4), (2,3), (2,3) with equal sums.`\n",
    "\n",
    "---\n",
    "\n",
    "**Example 2:**\n",
    "\n",
    "**Input:** `nums = [1,2,3,4], k = 3`\n",
    "\n",
    "**Output:** `false`\n",
    "\n",
    "--- \n",
    "\n",
    "**Constraints:**\n",
    "\n",
    "- `1 <= k <= nums.length <= 16`\n",
    "- `1 <= nums[i] <= 104`\n",
    "- `The frequency of each element is in the range [1, 4].`"
   ]
  },
  {
   "cell_type": "code",
   "execution_count": null,
   "metadata": {},
   "outputs": [],
   "source": [
    "class Solution:\n",
    "    def canPartitionKSubsets(self, nums: List[int], k: int) -> bool:\n",
    "        if sum(nums) % k:\n",
    "            return False\n",
    "        nums.sort(reverse = True)\n",
    "        target = sum(nums) / k\n",
    "        used = [False] * len(nums)\n",
    "\n",
    "        def backTrack(i, k, curSum):\n",
    "            if k == 0: return True\n",
    "            if curSum == target:\n",
    "                return backTrack(0, k - 1, 0)\n",
    "\n",
    "            for j in range(i, len(nums)):\n",
    "                if j > 0 and not used[(j - 1) ] and nums[j] == nums[j - 1]:\n",
    "                    continue\n",
    "                if used[j] or nums[j] + curSum > target:\n",
    "                    continue\n",
    "\n",
    "                used[j] = True\n",
    "                if backTrack(j + 1, k, curSum + nums[j]): return True\n",
    "                used[j] = False\n",
    "            return False\n",
    "\n",
    "        return backTrack(0, k, 0)\n"
   ]
  }
 ],
 "metadata": {
  "kernelspec": {
   "display_name": "Python 3.8.10 64-bit",
   "language": "python",
   "name": "python3"
  },
  "language_info": {
   "name": "python",
   "version": "3.8.10"
  },
  "orig_nbformat": 4,
  "vscode": {
   "interpreter": {
    "hash": "916dbcbb3f70747c44a77c7bcd40155683ae19c65e1c03b4aa3499c5328201f1"
   }
  }
 },
 "nbformat": 4,
 "nbformat_minor": 2
}
