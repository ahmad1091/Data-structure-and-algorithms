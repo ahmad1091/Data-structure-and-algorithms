{
 "cells": [
  {
   "cell_type": "markdown",
   "metadata": {},
   "source": [
    "# 698. Partition to K Equal Sum Subsets\n",
    "\n",
    "Given an integer array `nums` and an integer `k`, return `true` if it is possible to divide this array into `k` non-empty subsets whose sums are all equal.\n",
    "\n",
    " ---\n",
    "\n",
    "**Example 1:**\n",
    "\n",
    "**Input:** `nums = [4,3,2,3,5,2,1], k = 4`\n",
    "\n",
    "**Output:** `true`\n",
    "\n",
    "**Explanation:** `It is possible to divide it into 4 subsets (5), (1, 4), (2,3), (2,3) with equal sums.`\n",
    "\n",
    "---\n",
    "\n",
    "**Example 2:**\n",
    "\n",
    "**Input:** `nums = [1,2,3,4], k = 3`\n",
    "\n",
    "**Output:** `false`\n",
    "\n",
    "---\n",
    "\n",
    "**Constraints:**\n",
    "\n",
    "- `1 <= k <= nums.length <= 16`\n",
    "- `1 <= nums[i] <= 104`\n",
    "- `The frequency of each element is in the range [1, 4].`"
   ]
  }
 ],
 "metadata": {
  "language_info": {
   "name": "python"
  },
  "orig_nbformat": 4
 },
 "nbformat": 4,
 "nbformat_minor": 2
}
