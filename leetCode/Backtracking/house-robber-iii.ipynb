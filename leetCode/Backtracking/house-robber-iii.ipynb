{
 "cells": [
  {
   "cell_type": "markdown",
   "metadata": {},
   "source": [
    "# 337. House Robber III\n",
    "\n",
    "The thief has found himself a new place for his thievery again. There is only one entrance to this area, called `root`.\n",
    "\n",
    "Besides the `root`, each house has one and only one parent house. After a tour, the smart thief realized that all houses in this place form a binary tree. It will automatically contact the police if **two directly-linked houses were broken into on the same night**.\n",
    "\n",
    "Given the `root` of the binary tree, return the maximum amount of money the thief can rob **without alerting the police**.\n",
    "\n",
    "---\n",
    "\n",
    "**Example 1:**\n",
    "\n",
    "![Drag Racing](https://assets.leetcode.com/uploads/2021/03/10/rob1-tree.jpg)\n",
    "\n",
    "**Input:** `root = [3,2,3,null,3,null,1]`\n",
    "\n",
    "**Output:** `7`\n",
    "\n",
    "**Explanation:** `Maximum amount of money the thief can rob = 3 + 3 + 1 = 7.`\n",
    "\n",
    "---\n",
    "\n",
    "**Example 2:**\n",
    "\n",
    "![Drag Racing](https://assets.leetcode.com/uploads/2021/03/10/rob2-tree.jpg)\n",
    "\n",
    "**Input:** `root = [3,4,5,1,3,null,1]`\n",
    "\n",
    "**Output:** `9`\n",
    "\n",
    "**Explanation:** `Maximum amount of money the thief can rob = 4 + 5 = 9.`\n",
    "\n",
    "---\n",
    "\n",
    "**Constraints:**\n",
    "\n",
    "- `The number of nodes in the tree is in the range [1, 104].`\n",
    "- `0 <= Node.val <= 104`"
   ]
  },
  {
   "cell_type": "code",
   "execution_count": null,
   "metadata": {},
   "outputs": [],
   "source": [
    "# Definition for a binary tree node.\n",
    "# class TreeNode:\n",
    "#     def __init__(self, val=0, left=None, right=None):\n",
    "#         self.val = val\n",
    "#         self.left = left\n",
    "#         self.right = right\n",
    "class Solution:\n",
    "    def rob(self, root: Optional[TreeNode]) -> int:\n",
    "\n",
    "        def dfs(root):\n",
    "            if not root:\n",
    "                return [0, 0]\n",
    "\n",
    "            leftPair = dfs(root.left)\n",
    "            rightPair = dfs(root.right)\n",
    "\n",
    "            withRoot = root.val + leftPair[1] + rightPair[1]\n",
    "            withoutRoot = max(leftPair) + max(rightPair)\n",
    "\n",
    "            return [withRoot, withoutRoot]\n",
    "\n",
    "        return max(dfs(root))"
   ]
  }
 ],
 "metadata": {
  "language_info": {
   "name": "python"
  },
  "orig_nbformat": 4
 },
 "nbformat": 4,
 "nbformat_minor": 2
}
