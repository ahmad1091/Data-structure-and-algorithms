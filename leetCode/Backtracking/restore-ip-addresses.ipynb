{
 "cells": [
  {
   "cell_type": "markdown",
   "metadata": {},
   "source": [
    "# 93. Restore IP Addresses\n",
    "\n",
    "A **valid IP address** consists of exactly four integers separated by single dots. Each integer is between `0` and `255` (**inclusive**) and cannot have leading zeros.\n",
    "\n",
    "- For example, `\"0.1.2.201\"` and `\"192.168.1.1\"` are **valid** IP addresses, but `\"0.011.255.245\"`, `\"192.168.1.312\"` and `\"192.168@1.1\"` are **invalid** IP addresses.\n",
    "\n",
    "Given a string `s` containing only digits, return all possible valid IP addresses that can be formed by inserting dots into `s`. You are not allowed to reorder or remove any digits in `s`. You may return the valid IP addresses in **any** order.\n",
    "\n",
    "---\n",
    "\n",
    "**Example 1:**\n",
    "\n",
    "\n",
    "**Input:** `s = \"25525511135\"`\n",
    "\n",
    "**Output:** `[\"255.255.11.135\",\"255.255.111.35\"]`\n",
    "\n",
    "---\n",
    "\n",
    "**Example 2:**\n",
    "\n",
    "**Input:** `s = \"0000\"`\n",
    "\n",
    "**Output:** `[\"0.0.0.0\"]`\n",
    "\n",
    "---\n",
    "\n",
    "**Example 3:**\n",
    "\n",
    "**Input:** `s = \"101023\"`\n",
    "\n",
    "**Output:** `[\"1.0.10.23\",\"1.0.102.3\",\"10.1.0.23\",\"10.10.2.3\",\"101.0.2.3\"]`\n",
    " \n",
    "---\n",
    "\n",
    "**Constraints:**\n",
    "\n",
    "- `1 <= s.length <= 20`\n",
    "- `s consists of digits only.`"
   ]
  },
  {
   "cell_type": "code",
   "execution_count": null,
   "metadata": {},
   "outputs": [],
   "source": [
    "class Solution:\n",
    "    def restoreIpAddresses(self, s: str) -> List[str]:\n",
    "        result = []\n",
    "\n",
    "        def valid(segment):\n",
    "            if not (0 <= int(segment) <= 255) or (segment[0] == '0' and len(segment) > 1):\n",
    "                return False\n",
    "            return True\n",
    "\n",
    "        def dfs(s, t):\n",
    "            if len(t) == 4:\n",
    "                if not s:\n",
    "                    result.append('.'.join(t))\n",
    "            for i in range(1, min(4, len(s) + 1)):\n",
    "                if valid(s[:i]):\n",
    "                    t.append(s[:i])\n",
    "                    dfs(s[i:],t)\n",
    "                    t.pop()\n",
    "        dfs(s,[])\n",
    "        return result"
   ]
  }
 ],
 "metadata": {
  "language_info": {
   "name": "python"
  },
  "orig_nbformat": 4
 },
 "nbformat": 4,
 "nbformat_minor": 2
}
