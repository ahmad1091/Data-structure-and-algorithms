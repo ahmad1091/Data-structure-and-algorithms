{
 "cells": [
  {
   "cell_type": "markdown",
   "metadata": {},
   "source": [
    "# 473. Matchsticks to Square\n",
    "\n",
    "You are given an integer array `matchsticks` where `matchsticks[i]` is the length of the `ith` matchstick. You want to use **all the matchsticks** to make one square. You should not break any stick, but you can link them up, and each matchstick must be used **exactly one time**.\n",
    "\n",
    "Return `true` if you can make this square and `false` otherwise.\n",
    "\n",
    " \n",
    "\n",
    "**Example 1:**\n",
    "\n",
    "![image.png](https://assets.leetcode.com/uploads/2021/04/09/matchsticks1-grid.jpg)\n",
    "\n",
    "**Input:** `matchsticks = [1,1,2,2,2]`\n",
    "\n",
    "**Output:** `true`\n",
    "\n",
    "**Explanation:** `You can form a square with length 2, one side of the square came two sticks with length 1.`\n",
    "\n",
    "---\n",
    "\n",
    "**Example 2:**\n",
    "\n",
    "**Input:** `matchsticks = [3,3,3,3,4]`\n",
    "\n",
    "**Output:** `false`\n",
    "\n",
    "**Explanation:** `You cannot find a way to form a square with all the matchsticks.`\n",
    "\n",
    "---\n",
    "\n",
    "**Constraints:**\n",
    "\n",
    "- `1 <= matchsticks.length <= 15`\n",
    "- `1 <= matchsticks[i] <= 108`"
   ]
  },
  {
   "cell_type": "code",
   "execution_count": null,
   "metadata": {},
   "outputs": [],
   "source": [
    "class Solution:\n",
    "    def makesquare(self, matchsticks: List[int]) -> bool:\n",
    "        sm = sum(matchsticks) \n",
    "        length = sm // 4\n",
    "        if sm / 4 != length:\n",
    "            return False\n",
    "\n",
    "        matchsticks.sort(reverse = True)\n",
    "        sides = [0] * 4\n",
    "\n",
    "        def BT(i):\n",
    "            if i == len(matchsticks):\n",
    "                return True\n",
    "                \n",
    "            for j in range(4):\n",
    "                if (sides[j] + matchsticks[i]) <= length:\n",
    "                    sides[j] += matchsticks[i]\n",
    "                    if BT(i + 1): return True\n",
    "                    sides[j] -= matchsticks[i]\n",
    "\n",
    "            return False\n",
    "\n",
    "        return BT(0)\n",
    "                \n",
    "\n",
    "        "
   ]
  }
 ],
 "metadata": {
  "kernelspec": {
   "display_name": "Python 3.8.10 64-bit",
   "language": "python",
   "name": "python3"
  },
  "language_info": {
   "name": "python",
   "version": "3.8.10"
  },
  "orig_nbformat": 4,
  "vscode": {
   "interpreter": {
    "hash": "916dbcbb3f70747c44a77c7bcd40155683ae19c65e1c03b4aa3499c5328201f1"
   }
  }
 },
 "nbformat": 4,
 "nbformat_minor": 2
}
