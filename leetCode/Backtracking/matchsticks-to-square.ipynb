{
 "cells": [
  {
   "cell_type": "markdown",
   "metadata": {},
   "source": [
    "# 473. Matchsticks to Square\n",
    "\n",
    "You are given an integer array `matchsticks` where `matchsticks[i]` is the length of the `ith` matchstick. You want to use **all the matchsticks** to make one square. You should not break any stick, but you can link them up, and each matchstick must be used **exactly one time**.\n",
    "\n",
    "Return `true` if you can make this square and `false` otherwise.\n",
    "\n",
    " \n",
    "\n",
    "**Example 1:**\n",
    "\n",
    "![image.png](https://assets.leetcode.com/uploads/2021/04/09/matchsticks1-grid.jpg)\n",
    "\n",
    "**Input:** `matchsticks = [1,1,2,2,2]`\n",
    "\n",
    "**Output:** `true`\n",
    "\n",
    "**Explanation:** `You can form a square with length 2, one side of the square came two sticks with length 1.`\n",
    "\n",
    "---\n",
    "\n",
    "**Example 2:**\n",
    "\n",
    "**Input:** `matchsticks = [3,3,3,3,4]`\n",
    "\n",
    "**Output:** `false`\n",
    "\n",
    "**Explanation:** `You cannot find a way to form a square with all the matchsticks.`\n",
    "\n",
    "---\n",
    "\n",
    "**Constraints:**\n",
    "\n",
    "- `1 <= matchsticks.length <= 15`\n",
    "- `1 <= matchsticks[i] <= 108`"
   ]
  }
 ],
 "metadata": {
  "language_info": {
   "name": "python"
  },
  "orig_nbformat": 4
 },
 "nbformat": 4,
 "nbformat_minor": 2
}
