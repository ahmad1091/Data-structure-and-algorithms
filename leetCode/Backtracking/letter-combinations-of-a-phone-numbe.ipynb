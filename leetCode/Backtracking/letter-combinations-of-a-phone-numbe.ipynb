{
 "cells": [
  {
   "cell_type": "markdown",
   "metadata": {},
   "source": [
    "# 17. Letter Combinations of a Phone Number\n",
    "\n",
    "Given a string containing digits from `2-9` inclusive, return all possible letter combinations that the number could represent. Return the answer in any order.\n",
    "\n",
    "A mapping of digits to letters (just like on the telephone buttons) is given below. Note that 1 does not map to **any letters**.\n",
    "\n",
    "<img src=\"https://assets.leetcode.com/uploads/2022/03/15/1200px-telephone-keypad2svg.png\"  width=\"30%\" height=\"10%\">\n",
    "\n",
    "---\n",
    "\n",
    "**Example 1:**\n",
    "\n",
    "**Input:** `digits = \"23\"`\n",
    "\n",
    "**Output:** `[\"ad\",\"ae\",\"af\",\"bd\",\"be\",\"bf\",\"cd\",\"ce\",\"cf\"]`\n",
    "\n",
    "---\n",
    "\n",
    "**Example 2:**\n",
    "\n",
    "**Input:** `digits = \"\"`\n",
    "\n",
    "**Output:** `[]`\n",
    "\n",
    "---\n",
    "\n",
    "**Example 3:**\n",
    "\n",
    "**Input:** `digits = \"2\"`\n",
    "\n",
    "**Output:** `[\"a\",\"b\",\"c\"]`\n",
    "\n",
    "---\n",
    "\n",
    "**Constraints:**\n",
    "\n",
    "- `0 <= digits.length <= 4`\n",
    "- `digits[i] is a digit in the range ['2', '9'].`"
   ]
  }
 ],
 "metadata": {
  "language_info": {
   "name": "python"
  },
  "orig_nbformat": 4
 },
 "nbformat": 4,
 "nbformat_minor": 2
}
