{
 "cells": [
  {
   "cell_type": "markdown",
   "metadata": {},
   "source": [
    "# 22. Generate Parentheses\n",
    "\n",
    "Given `n` pairs of parentheses, write a function to generate all combinations of well-formed parentheses.\n",
    "\n",
    " ---\n",
    "\n",
    "**Example 1:**\n",
    "\n",
    "**Input:** `n = 3`\n",
    "\n",
    "**Output:** `[\"((()))\",\"(()())\",\"(())()\",\"()(())\",\"()()()\"]`\n",
    "\n",
    "---\n",
    "\n",
    "**Example 2:**\n",
    "\n",
    "**Input:** `n = 1`\n",
    "\n",
    "**Output:** `[\"()\"]`\n",
    " \n",
    "---\n",
    "\n",
    "**Constraints:**\n",
    "\n",
    "- `1 <= n <= 8`"
   ]
  },
  {
   "cell_type": "code",
   "execution_count": null,
   "metadata": {},
   "outputs": [],
   "source": [
    "class Solution:\n",
    "    def generateParenthesis(self, n: int) -> List[str]:\n",
    "        stack = []\n",
    "        res = [] \n",
    "\n",
    "        def backTrack(openN, closeN):\n",
    "            if openN == closeN == n:\n",
    "                res.append(''.join(stack))\n",
    "                return\n",
    "\n",
    "            if openN < n:\n",
    "                stack.append('(')\n",
    "                backTrack(openN + 1, closeN)\n",
    "                stack.pop()\n",
    "\n",
    "            if closeN < openN:\n",
    "                stack.append(')')\n",
    "                backTrack(openN, closeN + 1)\n",
    "                stack.pop()\n",
    "\n",
    "        backTrack(0, 0)\n",
    "        return res"
   ]
  },
  {
   "cell_type": "code",
   "execution_count": null,
   "metadata": {},
   "outputs": [],
   "source": [
    "class Solution:\n",
    "    def generateParenthesis(self, n: int) -> List[str]:\n",
    "        def backtrack(s, left, right):\n",
    "            if len(s) == 2 * n:\n",
    "                result.append(s)\n",
    "                return\n",
    "            if left < n:\n",
    "                backtrack(s + '(', left + 1, right)\n",
    "            if right < left:\n",
    "                backtrack(s + ')', left, right + 1)\n",
    "\n",
    "        result = []\n",
    "        backtrack('', 0, 0)\n",
    "        return result"
   ]
  }
 ],
 "metadata": {
  "kernelspec": {
   "display_name": "Python 3.8.10 64-bit",
   "language": "python",
   "name": "python3"
  },
  "language_info": {
   "name": "python",
   "version": "3.8.10"
  },
  "orig_nbformat": 4,
  "vscode": {
   "interpreter": {
    "hash": "916dbcbb3f70747c44a77c7bcd40155683ae19c65e1c03b4aa3499c5328201f1"
   }
  }
 },
 "nbformat": 4,
 "nbformat_minor": 2
}
