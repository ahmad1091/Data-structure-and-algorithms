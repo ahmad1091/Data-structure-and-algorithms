{
 "cells": [
  {
   "cell_type": "markdown",
   "metadata": {},
   "source": [
    "# 22. Generate Parentheses\n",
    "\n",
    "Given `n` pairs of parentheses, write a function to generate all combinations of well-formed parentheses.\n",
    "\n",
    " ---\n",
    "\n",
    "**Example 1:**\n",
    "\n",
    "**Input:** `n = 3`\n",
    "\n",
    "**Output:** `[\"((()))\",\"(()())\",\"(())()\",\"()(())\",\"()()()\"]`\n",
    "\n",
    "---\n",
    "\n",
    "**Example 2:**\n",
    "\n",
    "**Input:** `n = 1`\n",
    "\n",
    "**Output:** `[\"()\"]`\n",
    " \n",
    "---\n",
    "\n",
    "**Constraints:**\n",
    "\n",
    "- `1 <= n <= 8`"
   ]
  },
  {
   "cell_type": "code",
   "execution_count": null,
   "metadata": {},
   "outputs": [],
   "source": [
    "class Solution:\n",
    "    def generateParenthesis(self, n: int) -> List[str]:\n",
    "        stack = []\n",
    "        res = [] \n",
    "\n",
    "        def backTrack(openN, closeN):\n",
    "            if openN == closeN == n:\n",
    "                res.append(''.join(stack))\n",
    "                return\n",
    "\n",
    "            if openN < n:\n",
    "                stack.append('(')\n",
    "                backTrack(openN + 1, closeN)\n",
    "                stack.pop()\n",
    "\n",
    "            if closeN < openN:\n",
    "                stack.append(')')\n",
    "                backTrack(openN, closeN + 1)\n",
    "                stack.pop()\n",
    "\n",
    "        backTrack(0, 0)\n",
    "        return res"
   ]
  }
 ],
 "metadata": {
  "language_info": {
   "name": "python"
  },
  "orig_nbformat": 4
 },
 "nbformat": 4,
 "nbformat_minor": 2
}
