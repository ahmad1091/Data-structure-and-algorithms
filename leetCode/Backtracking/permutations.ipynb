{
 "cells": [
  {
   "cell_type": "markdown",
   "metadata": {},
   "source": [
    "# 46. Permutations\n",
    "\n",
    "Given an array `nums` of distinct integers, return all the possible permutations. You can return the answer in any **order**.\n",
    "\n",
    " ---\n",
    "\n",
    "**Example 1:**\n",
    "\n",
    "**Input:** `nums = [1,2,3]`\n",
    "\n",
    "**Output:** `[[1,2,3],[1,3,2],[2,1,3],[2,3,1],[3,1,2],[3,2,1]]`\n",
    "\n",
    "---\n",
    "**Example 2:**\n",
    "\n",
    "**Input:** `nums = [0,1]`\n",
    "\n",
    "**Output:** `[[0,1],[1,0]]`\n",
    "\n",
    "---\n",
    "**Example 3:**\n",
    "\n",
    "**Input:** `nums = [1]`\n",
    "\n",
    "**Output:** `[[1]]`\n",
    "\n",
    " ---\n",
    "\n",
    "**Constraints:**\n",
    "\n",
    "- `1 <= nums.length <= 6`\n",
    "- `-10 <= nums[i] <= 10`\n",
    "- `All the integers of nums are unique.`"
   ]
  },
  {
   "cell_type": "code",
   "execution_count": null,
   "metadata": {},
   "outputs": [],
   "source": [
    "class Solution:\n",
    "    def permute(self, nums: List[int]) -> List[List[int]]:\n",
    "        return list(permutations(nums))"
   ]
  },
  {
   "cell_type": "code",
   "execution_count": null,
   "metadata": {},
   "outputs": [],
   "source": [
    "class Solution:\n",
    "    def permute(self, nums: List[int]) -> List[List[int]]:\n",
    "        result = [] \n",
    "\n",
    "        if len(nums) == 1:\n",
    "            return [nums[:]]\n",
    "\n",
    "        for i in range(len(nums)):\n",
    "            n = nums.pop(0)\n",
    "            perms = self.permute(nums)\n",
    "\n",
    "            for p in perms:\n",
    "                p.append(n)\n",
    "            result.extend(perms)\n",
    "            nums.append(n)\n",
    "\n",
    "        return result"
   ]
  }
 ],
 "metadata": {
  "language_info": {
   "name": "python"
  },
  "orig_nbformat": 4
 },
 "nbformat": 4,
 "nbformat_minor": 2
}
