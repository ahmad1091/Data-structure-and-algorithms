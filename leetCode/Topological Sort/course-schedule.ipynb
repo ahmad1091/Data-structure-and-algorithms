{
 "cells": [
  {
   "cell_type": "markdown",
   "metadata": {},
   "source": [
    "# 207. Course Schedule\n",
    "\n",
    "There are a total of `numCourses` courses you have to take, labeled from `0` to `numCourses - 1`. You are given an array `prerequisites` where `prerequisites[i] = [ai, bi]` indicates that you must take course `bi` first if you want to take course `ai`.\n",
    "\n",
    "* For example, the pair [0, 1], indicates that to take course 0 you have to first take course 1.\n",
    "\n",
    "Return `true` if you can finish all courses. Otherwise, return `false`.\n",
    "\n",
    " \n",
    "\n",
    "**Example 1:**\n",
    "\n",
    "**Input:** `numCourses = 2, prerequisites = [[1,0]]`\n",
    "\n",
    "**Output:** `true`\n",
    "\n",
    "**Explanation:** `There are a total of 2 courses to take.`\n",
    "`To take course 1 you should have finished course 0. So it is possible.`\n",
    "\n",
    "---\n",
    "\n",
    "**Example 2:**\n",
    "\n",
    "**Input:** `numCourses = 2, prerequisites = [[1,0],[0,1]]`\n",
    "\n",
    "**Output:** `false`\n",
    "\n",
    "---\n",
    "\n",
    "**Explanation:** `There are a total of 2 courses to take.` \n",
    "`To take course 1 you should have finished course 0, and to take course 0 you should also have finished course 1. So it is impossible.`\n",
    " \n",
    "\n",
    "**Constraints:**\n",
    "\n",
    "- `1 <= numCourses <= 2000`\n",
    "- `0 <= prerequisites.length <= 5000`\n",
    "- `prerequisites[i].length == 2`\n",
    "- `0 <= ai, bi < numCourses`\n",
    "- `All the pairs prerequisites[i] are unique.`"
   ]
  },
  {
   "cell_type": "code",
   "execution_count": null,
   "metadata": {},
   "outputs": [],
   "source": [
    "# dfs sol\n",
    "class Solution:\n",
    "    def canFinish(self, numCourses: int, prerequisites: List[List[int]]) -> bool:\n",
    "        preHash = {n:[] for n in range(numCourses)}\n",
    "\n",
    "        for c, p in prerequisites:\n",
    "            preHash[c].append(p)\n",
    "        visit = set()\n",
    "        def dfs(c):\n",
    "            if c in visit:\n",
    "                return False\n",
    "            if preHash[c] == []:\n",
    "                return True\n",
    "            visit.add(c)\n",
    "            for p in preHash[c]:\n",
    "                if not dfs(p): return False\n",
    "            visit.remove(c)\n",
    "            preHash[c] = []\n",
    "            return True\n",
    "\n",
    "        for n in range(numCourses):\n",
    "            if not dfs(n): return False\n",
    "        return True"
   ]
  }
 ],
 "metadata": {
  "language_info": {
   "name": "python"
  },
  "orig_nbformat": 4
 },
 "nbformat": 4,
 "nbformat_minor": 2
}
