{
 "cells": [
  {
   "cell_type": "markdown",
   "metadata": {},
   "source": [
    "# 210. Course Schedule II\n",
    "\n",
    "There are a total of `numCourses` courses you have to take, labeled from 0 to `numCourses - 1`. You are given an array `prerequisites` where` prerequisites[i] = [ai, bi]` indicates that you **must** take course `bi` first if you want to take course `ai`.\n",
    "\n",
    "- For example, the pair `[0, 1]`, indicates that to take course `0` you have to first take course `1`.\n",
    "\n",
    "Return the ordering of courses you should take to finish all courses. If there are many valid answers, return **any** of them. If it is impossible to finish all courses, return **an empty array**.\n",
    "\n",
    " \n",
    "\n",
    "**Example 1:**\n",
    "\n",
    "**Input:** `numCourses = 2, prerequisites = [[1,0]]`\n",
    "\n",
    "**Output:** `[0,1]`\n",
    "\n",
    "**Explanation:** `There are a total of 2 courses to take. To take course 1 you should have finished course 0. So the correct course order is [0,1].`\n",
    "\n",
    "---\n",
    "\n",
    "**Example 2:**\n",
    "\n",
    "**Input:** `numCourses = 4, prerequisites = [[1,0],[2,0],[3,1],[3,2]]`\n",
    "\n",
    "**Output:** `[0,2,1,3]`\n",
    "\n",
    "**Explanation:** `There are a total of 4 courses to take. To take course 3 you should have finished both courses 1 and 2. Both courses 1 and 2 should be` `taken after you finished course 0.`\n",
    "`So one correct course order is [0,1,2,3]. Another correct ordering is [0,2,1,3].`\n",
    "\n",
    "---\n",
    "\n",
    "**Example 3:**\n",
    "\n",
    "**Input:** `numCourses = 1, prerequisites = []`\n",
    "\n",
    "**Output:** `[0]`\n",
    "\n",
    "---\n",
    "\n",
    "**Constraints:**\n",
    "\n",
    "- `1 <= numCourses <= 2000`\n",
    "- `0 <= prerequisites.length <= numCourses * (numCourses - 1)`\n",
    "- `prerequisites[i].length == 2`\n",
    "- `0 <= ai, bi < numCourses`\n",
    "- `ai != bi`\n",
    "- `All the pairs [ai, bi] are distinct.`"
   ]
  },
  {
   "cell_type": "code",
   "execution_count": null,
   "metadata": {},
   "outputs": [],
   "source": [
    "# dfs solution\n",
    "class Solution:\n",
    "    def canFinish(self, numCourses: int, prerequisites: List[List[int]]) -> bool:\n",
    "        preReq = { i:[] for i in range(numCourses)}\n",
    "\n",
    "        for c, p in prerequisites:\n",
    "            preReq[c].append(p)\n",
    "        visit = set()\n",
    "        def dfs(c):\n",
    "            if c in visit: return False\n",
    "            if not preReq[c]: return True\n",
    "\n",
    "            visit.add(c)\n",
    "            for p in preReq[c]:\n",
    "                if not dfs(p): return True\n",
    "\n",
    "            visit.remove(c)\n",
    "            preReq[c] = []\n",
    "            return True\n",
    "            \n",
    "        for c in range(numCourses):\n",
    "            if not dfs(c): return False\n",
    "        \n",
    "        return True"
   ]
  }
 ],
 "metadata": {
  "kernelspec": {
   "display_name": "Python 3.8.10 64-bit",
   "language": "python",
   "name": "python3"
  },
  "language_info": {
   "name": "python",
   "version": "3.8.10"
  },
  "orig_nbformat": 4,
  "vscode": {
   "interpreter": {
    "hash": "916dbcbb3f70747c44a77c7bcd40155683ae19c65e1c03b4aa3499c5328201f1"
   }
  }
 },
 "nbformat": 4,
 "nbformat_minor": 2
}
