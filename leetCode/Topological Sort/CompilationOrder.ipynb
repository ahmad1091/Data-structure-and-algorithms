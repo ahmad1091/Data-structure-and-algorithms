{
 "cells": [
  {
   "cell_type": "markdown",
   "metadata": {},
   "source": [
    "# Compilation Order\n",
    "There are a total of `n` classes labeled with the English alphabet (`A, B, C, and so on)`. Some classes are dependent on other classes for compilation. For example, if class `B` extends class `A`, then `B` has a dependency on `A`. Therefore, `A` must be compiled before `B`.\n",
    "\n",
    "Given a list of the dependency pairs, find the order in which the classes should be compiled.\n",
    "\n",
    "**Example:**\n",
    "\n",
    "**input:** `[[C, A], [B, A], [D, C], [E, B], [E, D]]`\n",
    "\n",
    "**output:** `[A, B, C, D, E]`\n",
    "\n",
    "**Constraints:**\n",
    "\n",
    "- `Class name should be a character.`   \n",
    "- `0 <= dependencies.length <= 5000`\n",
    "- `dependencies[i].length = 2` \n",
    "- `All dependency pairs should be unique.`\n"
   ]
  },
  {
   "cell_type": "code",
   "execution_count": null,
   "metadata": {},
   "outputs": [],
   "source": [
    "from collections import deque\n",
    "\n",
    "def find_compilation_order(dependencies):\n",
    "  graph = {}\n",
    "  inDegree = {}\n",
    "  for [child, parent] in dependencies:\n",
    "    graph[child], graph[parent] = [], []\n",
    "    inDegree[child], inDegree[parent] = 0, 0\n",
    "\n",
    "  for [child, parent] in dependencies:\n",
    "    graph[parent].append(child)\n",
    "    inDegree[child] += 1\n",
    "\n",
    "  sources = deque()\n",
    "  for key in inDegree:\n",
    "    if inDegree[key] == 0:\n",
    "      sources.append(key)\n",
    "\n",
    "  res = []\n",
    "  while sources:\n",
    "    vertix = sources.popleft()\n",
    "    res.append(vertix)\n",
    "    for child in graph[vertix]:\n",
    "      inDegree[child] -= 1\n",
    "      if inDegree[child] == 0:\n",
    "        sources.append(child)\n",
    "\n",
    "\n",
    "  return res"
   ]
  }
 ],
 "metadata": {
  "kernelspec": {
   "display_name": "Python 3.8.10 64-bit",
   "language": "python",
   "name": "python3"
  },
  "language_info": {
   "name": "python",
   "version": "3.8.10"
  },
  "orig_nbformat": 4,
  "vscode": {
   "interpreter": {
    "hash": "916dbcbb3f70747c44a77c7bcd40155683ae19c65e1c03b4aa3499c5328201f1"
   }
  }
 },
 "nbformat": 4,
 "nbformat_minor": 2
}
