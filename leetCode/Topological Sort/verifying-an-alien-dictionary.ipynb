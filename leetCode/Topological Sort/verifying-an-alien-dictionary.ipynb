{
 "cells": [
  {
   "cell_type": "markdown",
   "metadata": {},
   "source": [
    "# 953. Verifying an Alien Dictionary\n",
    "\n",
    "In an alien language, surprisingly, they also use English lowercase letters, but possibly in a different `order`. The `order` of the alphabet is some permutation of lowercase letters.\n",
    "\n",
    "Given a sequence of `words` written in the alien language, and the `order` of the alphabet, return `true` if and only if the given `words` are sorted lexicographically in this alien language.\n",
    "\n",
    " \n",
    "\n",
    "**Example 1:**\n",
    "\n",
    "**Input:** `words = [\"hello\",\"leetcode\"], order = \"hlabcdefgijkmnopqrstuvwxyz\"`\n",
    "\n",
    "**Output:** `true`\n",
    "\n",
    "**Explanation:** `As 'h' comes before 'l' in this language, then the sequence is sorted.`\n",
    "\n",
    "---\n",
    "\n",
    "**Example 2:**\n",
    "\n",
    "**Input:** `words = [\"word\",\"world\",\"row\"], order = \"worldabcefghijkmnpqstuvxyz\"`\n",
    "\n",
    "**Output:** `false`\n",
    "\n",
    "**Explanation:** `As 'd' comes after 'l' in this language, then words[0] > words[1], hence the sequence is unsorted.`\n",
    "\n",
    "---\n",
    "\n",
    "**Example 3:**\n",
    "\n",
    "**Input:** `words = [\"apple\",\"app\"], order = \"abcdefghijklmnopqrstuvwxyz\"`\n",
    "\n",
    "**Output:** `false`\n",
    "\n",
    "**Explanation:** `The first three characters \"app\" match, and the second string is shorter (in size.) According to lexicographical rules \"apple\" > \"app\",` `because 'l' > '∅', where '∅' is defined as the blank character which is less than any other character (More info).`\n",
    " \n",
    "---\n",
    "\n",
    "**Constraints:**\n",
    "\n",
    "- `1 <= words.length <= 100`\n",
    "- `1 <= words[i].length <= 20`\n",
    "- `order.length == 26`\n",
    "- `All characters in words[i] and order are English lowercase letters.`"
   ]
  },
  {
   "cell_type": "code",
   "execution_count": null,
   "metadata": {},
   "outputs": [],
   "source": [
    "class Solution:\n",
    "    def isAlienSorted(self, words: List[str], order: str) -> bool:\n",
    "        alpha = {}\n",
    "\n",
    "        for i in range(len(order)):\n",
    "            alpha[order[i]] = i + 1\n",
    "\n",
    "        for w1, w2 in pairwise(words):\n",
    "            l1, l2 = len(w1), len(w2)\n",
    "            if l1 > l2 and w1[:l2] == w2[:l2]:\n",
    "                return False\n",
    "\n",
    "            total = [0, 0, 1]\n",
    "            length = min(l1, l2)\n",
    "            for i in range(length):\n",
    "                total[0] += alpha[w1[i]] / total[2]\n",
    "                total[1] += alpha[w2[i]] / total[2]\n",
    "                total[2] *= 10\n",
    "\n",
    "            if total[0] > total[1]:\n",
    "                return False\n",
    "\n",
    "        return True\n"
   ]
  },
  {
   "cell_type": "code",
   "execution_count": null,
   "metadata": {},
   "outputs": [],
   "source": [
    "class Solution:\n",
    "    def isAlienSorted(self, words: List[str], order: str) -> bool:\n",
    "        alienHash = {c: i for i, c in enumerate(order)}\n",
    "\n",
    "        for i in range(len(words)-1):\n",
    "            w1, w2 = words[i], words[i+1]  \n",
    "\n",
    "            for x in range(len(w1)):\n",
    "                if x == len(w2):\n",
    "                    return False\n",
    "\n",
    "                if w1[x] != w2[x]:\n",
    "                    if  alienHash[w2[x]] < alienHash[w1[x]]:\n",
    "                        return False\n",
    "                    break\n",
    "\n",
    "        return True"
   ]
  }
 ],
 "metadata": {
  "kernelspec": {
   "display_name": "Python 3.8.10 64-bit",
   "language": "python",
   "name": "python3"
  },
  "language_info": {
   "name": "python",
   "version": "3.8.10"
  },
  "orig_nbformat": 4,
  "vscode": {
   "interpreter": {
    "hash": "916dbcbb3f70747c44a77c7bcd40155683ae19c65e1c03b4aa3499c5328201f1"
   }
  }
 },
 "nbformat": 4,
 "nbformat_minor": 2
}
