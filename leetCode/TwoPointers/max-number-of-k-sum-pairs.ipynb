{
 "cells": [
  {
   "cell_type": "markdown",
   "metadata": {},
   "source": [
    "# 1679. Max Number of K-Sum Pairs\n",
    "\n",
    "You are given an integer array `nums` and an integer `k`.\n",
    "\n",
    "In one operation, you can pick two numbers from the array whose sum equals `k` and remove them from the array.\n",
    "\n",
    "Return the maximum number of operations you can perform on the array.\n",
    "\n",
    " \n",
    "\n",
    "**Example 1:**\n",
    "```\n",
    "Input: nums = [1,2,3,4], k = 5\n",
    "Output: 2\n",
    "Explanation: Starting with nums = [1,2,3,4]:\n",
    "- Remove numbers 1 and 4, then nums = [2,3]\n",
    "- Remove numbers 2 and 3, then nums = []\n",
    "There are no more pairs that sum up to 5, hence a total of 2 operations.\n",
    "```\n",
    "---\n",
    "**Example 2:**\n",
    "```\n",
    "Input: nums = [3,1,3,4,3], k = 6\n",
    "Output: 1\n",
    "Explanation: Starting with nums = [3,1,3,4,3]:\n",
    "- Remove the first two 3's, then nums = [1,4,3]\n",
    "There are no more pairs that sum up to 6, hence a total of 1 operation.\n",
    "```\n",
    "---\n",
    "**Constraints:**\n",
    "\n",
    "- `1 <= nums.length <= 105`\n",
    "- `1 <= nums[i] <= 109`\n",
    "- `1 <= k <= 109`"
   ]
  },
  {
   "cell_type": "code",
   "execution_count": null,
   "metadata": {},
   "outputs": [],
   "source": [
    "class Solution:\n",
    "    def maxOperations(self, nums: List[int], k: int) -> int:\n",
    "        complement = Counter()\n",
    "        res = 0\n",
    "        for n in nums:\n",
    "            if complement[k - n]:\n",
    "                complement[k - n] -= 1\n",
    "                res += 1\n",
    "            else:\n",
    "                complement[n] += 1\n",
    "\n",
    "        return res\n"
   ]
  },
  {
   "cell_type": "code",
   "execution_count": null,
   "metadata": {},
   "outputs": [],
   "source": [
    "class Solution:\n",
    "    def maxOperations(self, nums: List[int], k: int) -> int:\n",
    "        nums.sort()\n",
    "        l, r, res = 0, len(nums) - 1, 0\n",
    "        while l < r:\n",
    "            if nums[l] + nums[r] == k:\n",
    "                l += 1\n",
    "                r -= 1\n",
    "                res += 1\n",
    "            elif nums[l] + nums[r] < k:\n",
    "                l += 1\n",
    "            else:\n",
    "                r -= 1\n",
    "\n",
    "        return res \n"
   ]
  }
 ],
 "metadata": {
  "language_info": {
   "name": "python"
  },
  "orig_nbformat": 4
 },
 "nbformat": 4,
 "nbformat_minor": 2
}
