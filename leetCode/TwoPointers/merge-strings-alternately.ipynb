{
 "cells": [
  {
   "cell_type": "markdown",
   "metadata": {},
   "source": [
    "# 1768. Merge Strings Alternately\n",
    "\n",
    "You are given two strings `word1` and `word2`. Merge the strings by adding letters in alternating order, starting with `word1`. If a string is longer than the other, append the additional letters onto the end of the merged string.\n",
    "\n",
    "Return the merged string.\n",
    "\n",
    " \n",
    "\n",
    "**Example 1:**\n",
    "```\n",
    "Input: word1 = \"abc\", word2 = \"pqr\"\n",
    "Output: \"apbqcr\"\n",
    "Explanation: The merged string will be merged as so:\n",
    "word1:  a   b   c\n",
    "word2:    p   q   r\n",
    "merged: a p b q c r\n",
    "```\n",
    "---\n",
    "**Example 2:**\n",
    "```\n",
    "Input: word1 = \"ab\", word2 = \"pqrs\"\n",
    "Output: \"apbqrs\"\n",
    "Explanation: Notice that as word2 is longer, \"rs\" is appended to the end.\n",
    "word1:  a   b \n",
    "word2:    p   q   r   s\n",
    "merged: a p b q   r   s\n",
    "```\n",
    "---\n",
    "**Example 3:**\n",
    "```\n",
    "Input: word1 = \"abcd\", word2 = \"pq\"\n",
    "Output: \"apbqcd\"\n",
    "Explanation: Notice that as word1 is longer, \"cd\" is appended to the end.\n",
    "word1:  a   b   c   d\n",
    "word2:    p   q \n",
    "merged: a p b q c   d\n",
    "```\n",
    "---\n",
    "\n",
    "**Constraints:**\n",
    "\n",
    "- `1 <= word1.length, word2.length <= 100`\n",
    "- `word1` and `word2` consist of lowercase English letters."
   ]
  },
  {
   "cell_type": "code",
   "execution_count": null,
   "metadata": {},
   "outputs": [],
   "source": [
    "class Solution:\n",
    "    def mergeAlternately(self, word1: str, word2: str) -> str:\n",
    "        res = ''\n",
    "        i = 0\n",
    "        while i < len(word1) and i < len(word2):\n",
    "            res += (word1[i] + word2[i])\n",
    "            i += 1\n",
    "\n",
    "        if len(word1) > len(word2):\n",
    "            res += word1[i:]\n",
    "        elif len(word1) < len(word2):\n",
    "            res += word2[i:]\n",
    "\n",
    "        return res\n",
    "        "
   ]
  },
  {
   "cell_type": "code",
   "execution_count": null,
   "metadata": {},
   "outputs": [],
   "source": [
    "class Solution:\n",
    "    def mergeAlternately(self, word1: str, word2: str) -> str:\n",
    "        return ''.join(a + b for a, b in zip_longest(word1, word2, fillvalue=''))"
   ]
  }
 ],
 "metadata": {
  "kernelspec": {
   "display_name": "Python 3.8.10 64-bit",
   "language": "python",
   "name": "python3"
  },
  "language_info": {
   "name": "python",
   "version": "3.8.10"
  },
  "orig_nbformat": 4,
  "vscode": {
   "interpreter": {
    "hash": "916dbcbb3f70747c44a77c7bcd40155683ae19c65e1c03b4aa3499c5328201f1"
   }
  }
 },
 "nbformat": 4,
 "nbformat_minor": 2
}
