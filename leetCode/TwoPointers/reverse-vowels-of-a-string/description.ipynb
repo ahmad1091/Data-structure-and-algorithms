{
 "cells": [
  {
   "cell_type": "markdown",
   "metadata": {},
   "source": [
    "# 345. Reverse Vowels of a String\n",
    "\n",
    "Given a string `s`, reverse only all the vowels in the string and return it.\n",
    "\n",
    "The vowels are `'a'`, `'e'`, `'i'`, `'o'`, and `'u'`, and they can appear in both lower and upper cases, more than once.\n",
    "\n",
    " \n",
    "\n",
    "**Example 1:**\n",
    "```\n",
    "Input: s = \"hello\"\n",
    "Output: \"holle\"\n",
    "```\n",
    "---\n",
    "**Example 2:**\n",
    "```\n",
    "Input: s = \"leetcode\"\n",
    "Output: \"leotcede\"\n",
    "``` \n",
    "---\n",
    "**Constraints:**\n",
    "\n",
    "- `1 <= s.length <= 3 * 105`\n",
    "- `s` consist of **printable ASCII** characters."
   ]
  },
  {
   "cell_type": "code",
   "execution_count": null,
   "metadata": {},
   "outputs": [],
   "source": [
    "class Solution:\n",
    "    def reverseVowels(self, s: str) -> str:\n",
    "        vowels = {'a', 'e', 'i', 'o', 'u', 'A', 'E', 'I', 'O', 'U'}\n",
    "        i, j = 0, len(s) - 1\n",
    "        chars = list(s)\n",
    "        while i < j:\n",
    "            if chars[i] not in vowels:\n",
    "                i += 1\n",
    "                continue\n",
    "            if chars[j] not in vowels:\n",
    "                j -= 1\n",
    "                continue\n",
    "            chars[i], chars[j] = chars[j], chars[i]\n",
    "            i += 1\n",
    "            j -= 1\n",
    "        return ''.join(chars)"
   ]
  }
 ],
 "metadata": {
  "language_info": {
   "name": "python"
  },
  "orig_nbformat": 4
 },
 "nbformat": 4,
 "nbformat_minor": 2
}
