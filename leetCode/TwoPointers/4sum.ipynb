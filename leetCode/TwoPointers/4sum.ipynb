{
 "cells": [
  {
   "cell_type": "markdown",
   "metadata": {},
   "source": [
    "# 18. 4Sum\n",
    "\n",
    "Given an array `nums` of ` n` integers, return an array of all the **unique** quadruplets `[nums[a], nums[b], nums[c], nums[d]]` such that:\n",
    "\n",
    "- `0 <= a, b, c, d < n`\n",
    "- `a`, `b`, `c`, and `d` are **distinct**.\n",
    "- `nums[a] + nums[b] + nums[c] + nums[d] == target`\n",
    "You may return the answer in **any order**.\n",
    "\n",
    " \n",
    "\n",
    "**Example 1:**\n",
    "```\n",
    "Input: nums = [1,0,-1,0,-2,2], target = 0\n",
    "Output: [[-2,-1,1,2],[-2,0,0,2],[-1,0,0,1]]\n",
    "```\n",
    "---\n",
    "**Example 2:**\n",
    "```\n",
    "Input: nums = [2,2,2,2,2], target = 8\n",
    "Output: [[2,2,2,2]]\n",
    "```\n",
    "---\n",
    "**Constraints:**\n",
    "\n",
    "- `1 <= nums.length <= 200`\n",
    "- `-109 <= nums[i] <= 109`\n",
    "- `-109 <= target <= 109`"
   ]
  },
  {
   "cell_type": "code",
   "execution_count": null,
   "metadata": {},
   "outputs": [],
   "source": [
    "class Solution:\n",
    "    def fourSum(self, nums: List[int], target: int) -> List[List[int]]:\n",
    "        nums.sort()\n",
    "        res, temp = [], []\n",
    "\n",
    "        def kSum(k, start, target):\n",
    "            if k != 2:\n",
    "                for i in range(start, len(nums) - k + 1):\n",
    "                    if i > start and nums[i] == nums[i - 1]:\n",
    "                        continue\n",
    "                    temp.append(nums[i])\n",
    "                    kSum(k - 1, i + 1, target - nums[i])\n",
    "                    temp.pop()\n",
    "                return\n",
    "\n",
    "            l, r = start, len(nums) - 1\n",
    "            while l < r:\n",
    "                if nums[l] + nums[r] < target:\n",
    "                    l += 1\n",
    "                elif nums[l] + nums[r] > target:\n",
    "                    r -= 1\n",
    "                else:\n",
    "                    res.append(temp + [nums[l], nums[r]])\n",
    "                    l += 1\n",
    "                    while l < r and nums[l] == nums[l - 1]:\n",
    "                        l += 1\n",
    "        kSum(4, 0, target)\n",
    "        return res\n",
    "\n",
    "\n",
    "            \n",
    "        "
   ]
  }
 ],
 "metadata": {
  "language_info": {
   "name": "python"
  },
  "orig_nbformat": 4
 },
 "nbformat": 4,
 "nbformat_minor": 2
}
