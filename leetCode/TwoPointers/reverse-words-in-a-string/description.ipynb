{
 "cells": [
  {
   "cell_type": "markdown",
   "metadata": {},
   "source": [
    "# 151. Reverse Words in a String\n",
    "\n",
    "Given an input string `s`, reverse the order of the **words**.\n",
    "\n",
    "A **word** is defined as a sequence of non-space characters. The **words** in `s` will be separated by at least one space.\n",
    "\n",
    "Return a string of the words in reverse order concatenated by a single space.\n",
    "\n",
    "**Note** that `s` may contain leading or trailing spaces or multiple spaces between two words. The returned string should only have a single space separating the words. Do not include any extra spaces.\n",
    "\n",
    " \n",
    "\n",
    "**Example 1:**\n",
    "```\n",
    "Input: s = \"the sky is blue\"\n",
    "Output: \"blue is sky the\"\n",
    "```\n",
    "---\n",
    "**Example 2:**\n",
    "```\n",
    "Input: s = \"  hello world  \"\n",
    "Output: \"world hello\"\n",
    "Explanation: Your reversed string should not contain leading or trailing spaces.\n",
    "```\n",
    "---\n",
    "**Example 3:**\n",
    "```\n",
    "Input: s = \"a good   example\"\n",
    "Output: \"example good a\"\n",
    "Explanation: You need to reduce multiple spaces between two words to a single space in the reversed string.\n",
    " ```\n",
    " ---\n",
    "\n",
    "**Constraints:**\n",
    "\n",
    "- `1 <= s.length <= 104`\n",
    "- `s` contains English letters (upper-case and lower-case), digits, and spaces `' '`.\n",
    "- There is **at least one** word in `s`.\n",
    " \n",
    "\n",
    "**Follow-up:** If the string data type is mutable in your language, can you solve it **in-place** with `O(1)` extra space?"
   ]
  },
  {
   "cell_type": "code",
   "execution_count": null,
   "metadata": {},
   "outputs": [],
   "source": [
    "class Solution:\n",
    "    def reverseWords(self, s: str) -> str:\n",
    "        s = re.sub(' +',' ',s.strip())\n",
    "        s = list(s)\n",
    "        length = len(s)\n",
    "        self.reverser(s, 0, length - 1)\n",
    "        start = end = 0\n",
    "\n",
    "        while True:\n",
    "            while start < length and s[start] == ' ':\n",
    "                start += 1\n",
    "\n",
    "            if start == length :break\n",
    "\n",
    "            end = start\n",
    "            while end < length and s[end] != ' ':\n",
    "                end += 1\n",
    "            \n",
    "            self.reverser(s, start, end - 1)\n",
    "            start = end\n",
    "        return ''.join(s)\n",
    "\n",
    "    def reverser(self, string, start, end):\n",
    "        while start < end:\n",
    "            string[start], string[end] = string[end], string[start]\n",
    "            start += 1\n",
    "            end -= 1"
   ]
  }
 ],
 "metadata": {
  "kernelspec": {
   "display_name": "Python 3.8.10 64-bit",
   "language": "python",
   "name": "python3"
  },
  "language_info": {
   "name": "python",
   "version": "3.8.10"
  },
  "orig_nbformat": 4,
  "vscode": {
   "interpreter": {
    "hash": "916dbcbb3f70747c44a77c7bcd40155683ae19c65e1c03b4aa3499c5328201f1"
   }
  }
 },
 "nbformat": 4,
 "nbformat_minor": 2
}
