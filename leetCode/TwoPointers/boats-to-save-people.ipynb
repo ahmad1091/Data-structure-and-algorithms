{
 "cells": [
  {
   "cell_type": "markdown",
   "metadata": {},
   "source": [
    "# 881. Boats to Save People\n",
    "\n",
    "You are given an array `people` where `people[i]` is the weight of the ith person, and an **infinite number of boats** where each boat can carry a maximum weight of `limit`. Each boat carries at most two people at the same time, provided the sum of the weight of those people is at most `limit`.\n",
    "\n",
    "Return the minimum number of boats to carry every given person.\n",
    "\n",
    "---\n",
    "\n",
    "**Example 1:**\n",
    "\n",
    "**Input:** `people = [1,2], limit = 3`\n",
    "\n",
    "**Output:** `1`\n",
    "\n",
    "**Explanation:** `1 boat (1, 2)`\n",
    "\n",
    "---\n",
    "\n",
    "**Example 2:**\n",
    "\n",
    "**Input:** `people = [3,2,2,1], limit = 3`\n",
    "\n",
    "**Output:** `3`\n",
    "\n",
    "**Explanation:** `3 boats (1, 2), (2) and (3)`\n",
    "\n",
    "---\n",
    "\n",
    "**Example 3:**\n",
    "\n",
    "**Input:** `people = [3,5,3,4], limit = 5`\n",
    "\n",
    "**Output:** `4`\n",
    "\n",
    "**Explanation:** `4 boats (3), (3), (4), (5)`\n",
    " \n",
    "---\n",
    "\n",
    "**Constraints:**\n",
    "\n",
    "- `1 <= people.length <= 5 * 104`\n",
    "- `1 <= people[i] <= limit <= 3 * 104`"
   ]
  },
  {
   "cell_type": "code",
   "execution_count": null,
   "metadata": {},
   "outputs": [],
   "source": [
    "class Solution:\n",
    "    def numRescueBoats(self, people: List[int], limit: int) -> int:\n",
    "        people.sort()\n",
    "        boats = 0\n",
    "        l, r = 0, len(people) - 1\n",
    "\n",
    "        while l <= r:\n",
    "            remain = limit - people[r]\n",
    "            r -= 1\n",
    "            boats += 1\n",
    "            if people[l] <= remain and l <= r:\n",
    "                l += 1\n",
    "        return boats \n"
   ]
  }
 ],
 "metadata": {
  "kernelspec": {
   "display_name": "Python 3.8.10 64-bit",
   "language": "python",
   "name": "python3"
  },
  "language_info": {
   "name": "python",
   "version": "3.8.10"
  },
  "orig_nbformat": 4,
  "vscode": {
   "interpreter": {
    "hash": "916dbcbb3f70747c44a77c7bcd40155683ae19c65e1c03b4aa3499c5328201f1"
   }
  }
 },
 "nbformat": 4,
 "nbformat_minor": 2
}
