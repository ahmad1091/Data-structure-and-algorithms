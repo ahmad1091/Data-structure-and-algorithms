{
 "cells": [
  {
   "cell_type": "markdown",
   "metadata": {},
   "source": [
    "# 959. Regions Cut By Slashes\n",
    "\n",
    "An `n x n`grid is composed of `1 x 1` squares where each `1 x 1` square consists of a `'/'`, `'\\'`, or blank space `' '`. These characters divide the square into contiguous regions.\n",
    "\n",
    "Given the grid `grid` represented as a string array, return the number of regions.\n",
    "\n",
    "Note that backslash characters are escaped, so a `'\\'` is represented as `'\\\\'`.\n",
    "\n",
    " \n",
    "\n",
    "**Example 1:**\n",
    "\n",
    "![image](https://assets.leetcode.com/uploads/2018/12/15/1.png)\n",
    "```\n",
    "Input: grid = [\" /\",\"/ \"]\n",
    "Output: 2\n",
    "```\n",
    "---\n",
    "**Example 2:**\n",
    "\n",
    "![image](https://assets.leetcode.com/uploads/2018/12/15/2.png)\n",
    "```\n",
    "Input: grid = [\" /\",\"  \"]\n",
    "Output: 1\n",
    "```\n",
    "---\n",
    "**Example 3:**\n",
    "\n",
    "![image](https://assets.leetcode.com/uploads/2018/12/15/4.png)\n",
    "```\n",
    "Input: grid = [\"/\\\\\",\"\\\\/\"]\n",
    "Output: 5\n",
    "Explanation: Recall that because \\ characters are escaped, \"\\\\/\" refers to \\/, and \"/\\\\\" refers to /\\.\n",
    "``` \n",
    "---\n",
    "\n",
    "**Constraints:**\n",
    "\n",
    "- `n == grid.length == grid[i].length`\n",
    "- `1 <= n <= 30`\n",
    "- `grid[i][j]` is either `'/'`, `'\\'`, or `' '`."
   ]
  },
  {
   "cell_type": "code",
   "execution_count": null,
   "metadata": {},
   "outputs": [],
   "source": []
  }
 ],
 "metadata": {
  "language_info": {
   "name": "python"
  },
  "orig_nbformat": 4
 },
 "nbformat": 4,
 "nbformat_minor": 2
}
