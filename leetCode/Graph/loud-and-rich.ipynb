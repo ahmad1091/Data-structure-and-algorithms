{
 "cells": [
  {
   "cell_type": "markdown",
   "metadata": {},
   "source": [
    "# 851. Loud and Rich\n",
    "\n",
    "There is a group of `n` people labeled from `0` to `n - 1` where each person has a different amount of money and a different level of quietness.\n",
    "\n",
    "You are given an array `richer` where `richer[i] = [ai, bi]` indicates that `ai` has more money than `bi` and an integer array `quiet` where `quiet[i]` is the quietness of the `ith` person. All the given data in richer are **logically correct** (i.e., the data will not lead you to a situation where `x` is richer than `y` and `y` is richer than `x` at the same time).\n",
    "\n",
    "Return an integer array `answer` where `answer[x] = y` if `y` is the least quiet person (that is, the person `y` with the smallest value of `quiet[y]`) among all people who definitely have equal to or more money than the person `x`.\n",
    "\n",
    " \n",
    "\n",
    "**Example 1:**\n",
    "```\n",
    "Input: richer = [[1,0],[2,1],[3,1],[3,7],[4,3],[5,3],[6,3]], quiet = [3,2,5,4,6,1,7,0]\n",
    "Output: [5,5,2,5,4,5,6,7]\n",
    "Explanation: \n",
    "answer[0] = 5.\n",
    "Person 5 has more money than 3, which has more money than 1, which has more money than 0.\n",
    "The only person who is quieter (has lower quiet[x]) is person 7, but it is not clear if they have more money than person 0.\n",
    "answer[7] = 7.\n",
    "Among all people that definitely have equal to or more money than person 7 (which could be persons 3, 4, 5, 6, or 7), the person who is the quietest (has lower quiet[x]) is person 7.\n",
    "The other answers can be filled out with similar reasoning.\n",
    "```\n",
    "---\n",
    "**Example 2:**\n",
    "```\n",
    "Input: richer = [], quiet = [0]\n",
    "Output: [0]\n",
    "```\n",
    "---\n",
    "**Constraints:**\n",
    "\n",
    "- `n == quiet.length`\n",
    "- `1 <= n <= 500`\n",
    "- `0 <= quiet[i] < n`\n",
    "- All the values of `quiet` are unique.\n",
    "- `0 <= richer.length <= n * (n - 1) / 2`\n",
    "- `0 <= ai, bi < n`\n",
    "- `ai != bi`\n",
    "- All the pairs of `richer` are **unique**.\n",
    "- The observations in `richer` are all logically consistent."
   ]
  },
  {
   "cell_type": "code",
   "execution_count": null,
   "metadata": {},
   "outputs": [],
   "source": [
    "class Solution:\n",
    "    def loudAndRich(self, richer: List[List[int]], quiet: List[int]) -> List[int]:\n",
    "        \n",
    "        def dfs(i):\n",
    "            if answer[i] != -1:\n",
    "                return\n",
    "            answer[i] = i\n",
    "\n",
    "            for j in graph[i]:\n",
    "                dfs(j)\n",
    "                if quiet[answer[j]] < quiet[answer[i]]:\n",
    "                    answer[i] = answer[j]\n",
    "\n",
    "        graph = defaultdict(list)\n",
    "        for a, b in richer:\n",
    "            graph[b].append(a)\n",
    "\n",
    "        answer = [-1] * len(quiet)\n",
    "\n",
    "        for i in range(len(quiet)):\n",
    "            dfs(i)\n",
    "\n",
    "        return answer\n"
   ]
  }
 ],
 "metadata": {
  "kernelspec": {
   "display_name": "Python 3.8.10 64-bit",
   "language": "python",
   "name": "python3"
  },
  "language_info": {
   "name": "python",
   "version": "3.8.10"
  },
  "orig_nbformat": 4,
  "vscode": {
   "interpreter": {
    "hash": "916dbcbb3f70747c44a77c7bcd40155683ae19c65e1c03b4aa3499c5328201f1"
   }
  }
 },
 "nbformat": 4,
 "nbformat_minor": 2
}
