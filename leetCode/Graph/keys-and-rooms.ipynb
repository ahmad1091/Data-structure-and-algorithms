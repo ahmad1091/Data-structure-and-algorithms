{
 "cells": [
  {
   "cell_type": "markdown",
   "metadata": {},
   "source": [
    "# 841. Keys and Rooms\n",
    "\n",
    "There are `n` rooms labeled from `0` to `n - 1` and all the rooms are locked except for room `0`. Your goal is to visit all the rooms. However, you cannot enter a locked room without having its key.\n",
    "\n",
    "When you visit a room, you may find a set of distinct keys in it. Each key has a number on it, denoting which room it unlocks, and you can take all of them with you to unlock the other rooms.\n",
    "\n",
    "Given an array `rooms` where `rooms[i]` is the set of keys that you can obtain if you visited room `i`, return `true` if you can visit all the rooms, or `false` otherwise.\n",
    "\n",
    " \n",
    "\n",
    "**Example 1:**\n",
    "```\n",
    "Input: rooms = [[1],[2],[3],[]]\n",
    "Output: true\n",
    "Explanation: \n",
    "We visit room 0 and pick up key 1.\n",
    "We then visit room 1 and pick up key 2.\n",
    "We then visit room 2 and pick up key 3.\n",
    "We then visit room 3.\n",
    "Since we were able to visit every room, we return true.\n",
    "```\n",
    "---\n",
    "**Example 2:**\n",
    "```\n",
    "Input: rooms = [[1,3],[3,0,1],[2],[0]]\n",
    "Output: false\n",
    "Explanation: We can not enter room number 2 since the only key that unlocks it is in that room.\n",
    "```\n",
    "---\n",
    "**Constraints:**\n",
    "\n",
    "- `n == rooms.length`\n",
    "- `2 <= n <= 1000`\n",
    "- `0 <= rooms[i].length <= 1000`\n",
    "- `1 <= sum(rooms[i].length) <= 3000`\n",
    "- `0 <= rooms[i][j] < n`\n",
    "- All the values of `rooms[i]` are **unique**."
   ]
  },
  {
   "cell_type": "code",
   "execution_count": null,
   "metadata": {},
   "outputs": [],
   "source": [
    "class Solution:\n",
    "    def canVisitAllRooms(self, rooms: List[List[int]]) -> bool:\n",
    "        def dfs(u):\n",
    "            if u in vis:\n",
    "                return\n",
    "            vis.add(u)\n",
    "            for v in rooms[u]:\n",
    "                dfs(v)\n",
    "\n",
    "        vis = set()\n",
    "        dfs(0)\n",
    "        return len(vis) == len(rooms)"
   ]
  },
  {
   "cell_type": "code",
   "execution_count": null,
   "metadata": {},
   "outputs": [],
   "source": [
    "class Solution:\n",
    "    def canVisitAllRooms(self, rooms: List[List[int]]) -> bool:\n",
    "        q = deque([0])\n",
    "        visited = set(q)\n",
    "\n",
    "        while q:\n",
    "            key = q.popleft()\n",
    "            for room in rooms[key]:\n",
    "                if room not in visited:\n",
    "                    q.append(room)\n",
    "                    visited.add(room)\n",
    "\n",
    "        return len(visited) == len(rooms)"
   ]
  }
 ],
 "metadata": {
  "kernelspec": {
   "display_name": "Python 3.8.10 64-bit",
   "language": "python",
   "name": "python3"
  },
  "language_info": {
   "name": "python",
   "version": "3.8.10"
  },
  "orig_nbformat": 4,
  "vscode": {
   "interpreter": {
    "hash": "916dbcbb3f70747c44a77c7bcd40155683ae19c65e1c03b4aa3499c5328201f1"
   }
  }
 },
 "nbformat": 4,
 "nbformat_minor": 2
}
