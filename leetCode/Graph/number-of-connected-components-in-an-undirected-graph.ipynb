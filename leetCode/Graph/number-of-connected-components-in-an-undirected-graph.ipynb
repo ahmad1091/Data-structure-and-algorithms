{
 "cells": [
  {
   "cell_type": "markdown",
   "metadata": {},
   "source": [
    "# 323. Number of Connected Components in an Undirected Graph\n",
    "\n",
    "You have a graph of `n` nodes. You are given an integer `n` and an array `edges` where `edges[i] = [ai, bi]` indicates that there is an edge between `ai` and `bi` in the graph.\n",
    "\n",
    "Return the number of connected components in the graph.\n",
    "\n",
    " \n",
    "\n",
    "**Example 1:**\n",
    "\n",
    "![image](https://camo.githubusercontent.com/1d0b84aecac75cd2ce615a0894aa009e21f97c18733d66edd50114a87cc7f11a/68747470733a2f2f666173746c792e6a7364656c6976722e6e65742f67682f646f6f63732f6c656574636f6465406d61696e2f736f6c7574696f6e2f303330302d303339392f303332332e4e756d6265722532306f66253230436f6e6e6563746564253230436f6d706f6e656e7473253230696e253230616e253230556e646972656374656425323047726170682f696d616765732f636f6e6e312d67726170682e6a7067)\n",
    "```\n",
    "Input: n = 5, edges = [[0,1],[1,2],[3,4]]\n",
    "Output: 2\n",
    "```\n",
    "---\n",
    "**Example 2:**\n",
    "\n",
    "![image](https://camo.githubusercontent.com/dd50ff6a6a7d63a77468f48784ecea26d74e12e37b2e9834bb74befcdc9d03f7/68747470733a2f2f666173746c792e6a7364656c6976722e6e65742f67682f646f6f63732f6c656574636f6465406d61696e2f736f6c7574696f6e2f303330302d303339392f303332332e4e756d6265722532306f66253230436f6e6e6563746564253230436f6d706f6e656e7473253230696e253230616e253230556e646972656374656425323047726170682f696d616765732f636f6e6e322d67726170682e6a7067)\n",
    "```\n",
    "Input: n = 5, edges = [[0,1],[1,2],[2,3],[3,4]]\n",
    "Output: 1\n",
    "```\n",
    "---\n",
    "**Constraints:**\n",
    "\n",
    "- `1 <= n <= 2000`\n",
    "- `1 <= edges.length <= 5000`\n",
    "- `edges[i].length == 2`\n",
    "- `0 <= ai <= bi < n`\n",
    "- `ai != bi`\n",
    "- There are no repeated edges.\n"
   ]
  },
  {
   "cell_type": "code",
   "execution_count": null,
   "metadata": {},
   "outputs": [],
   "source": [
    "class Solution:\n",
    "    def countComponents(self, n: int, edges: List[List[int]]) -> int:\n",
    "        par = [i for i in range(n)]\n",
    "        rank = [1] * n\n",
    "\n",
    "        def find(x):\n",
    "            if x != par[x]:\n",
    "                par[x] = par[par[x]]\n",
    "                x = par[x]\n",
    "            return x\n",
    "\n",
    "        def union(p1, p2):\n",
    "            x, y = find(p1), find(p2)\n",
    "            if par[x] == par[y]:\n",
    "                return 0\n",
    "\n",
    "            if rank[x] > rank[y]:\n",
    "                par[y] = x\n",
    "            else:\n",
    "                par[x] = y\n",
    "            \n",
    "            return 1\n",
    "\n",
    "        for x, y in edges:\n",
    "            n -= union(x, y)\n",
    "        return n"
   ]
  }
 ],
 "metadata": {
  "language_info": {
   "name": "python"
  },
  "orig_nbformat": 4
 },
 "nbformat": 4,
 "nbformat_minor": 2
}
