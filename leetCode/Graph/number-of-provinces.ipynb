{
 "cells": [
  {
   "cell_type": "markdown",
   "metadata": {},
   "source": [
    "# 547. Number of Provinces\n",
    "\n",
    "There are `n` cities. Some of them are connected, while some are not. If city `a` is connected directly with city `b`, and city `b` is connected directly with city `c`, then city `a` is connected indirectly with city `c`.\n",
    "\n",
    "**A province** is a group of directly or indirectly connected cities and no other cities outside of the group.\n",
    "\n",
    "You are given an `n x n` matrix `isConnected` where `isConnected[i][j] = 1` if the `ith` city and the `jth` city are directly connected, and `isConnected[i][j] = 0` otherwise.\n",
    "\n",
    "Return the total number of **provinces**.\n",
    "\n",
    " \n",
    "\n",
    "**Example 1:**\n",
    "\n",
    "![image](https://assets.leetcode.com/uploads/2020/12/24/graph1.jpg)\n",
    "```\n",
    "Input: isConnected = [[1,1,0],[1,1,0],[0,0,1]]\n",
    "Output: 2\n",
    "```\n",
    "---\n",
    "**Example 2:**\n",
    "\n",
    "![image](https://assets.leetcode.com/uploads/2020/12/24/graph2.jpg)\n",
    "```\n",
    "Input: isConnected = [[1,0,0],[0,1,0],[0,0,1]]\n",
    "Output: 3\n",
    "``` \n",
    "---\n",
    "**Constraints:**\n",
    "\n",
    "- `1 <= n <= 200`\n",
    "- `n == isConnected.length`\n",
    "- `n == isConnected[i].length`\n",
    "- `isConnected[i][j]` is `1` or `0`.\n",
    "- `isConnected[i][i] == 1`\n",
    "- `isConnected[i][j] == isConnected[j][i]`"
   ]
  },
  {
   "cell_type": "code",
   "execution_count": null,
   "metadata": {},
   "outputs": [],
   "source": [
    "class Solution:\n",
    "    def findCircleNum(self, isConnected: List[List[int]]) -> int:\n",
    "        def dfs(x):\n",
    "            visit.add(x)\n",
    "            for j in range(n):\n",
    "                if j not in visit and isConnected[x][j]:\n",
    "                    dfs(j)\n",
    "            \n",
    "        visit = set()\n",
    "        n = len(isConnected)\n",
    "        res = 0\n",
    "        for i in range(n):\n",
    "            if i not in visit:\n",
    "                dfs(i)\n",
    "                res += 1\n",
    "        return res"
   ]
  }
 ],
 "metadata": {
  "kernelspec": {
   "display_name": "Python 3.8.10 64-bit",
   "language": "python",
   "name": "python3"
  },
  "language_info": {
   "name": "python",
   "version": "3.8.10"
  },
  "orig_nbformat": 4,
  "vscode": {
   "interpreter": {
    "hash": "916dbcbb3f70747c44a77c7bcd40155683ae19c65e1c03b4aa3499c5328201f1"
   }
  }
 },
 "nbformat": 4,
 "nbformat_minor": 2
}
