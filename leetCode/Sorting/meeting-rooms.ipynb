{
 "cells": [
  {
   "cell_type": "markdown",
   "metadata": {},
   "source": [
    "# 252. Meeting Rooms\n",
    "\n",
    "Given an array of meeting time `intervals` where `intervals[i] = [starti, endi]`, determine if a person could attend all meetings.\n",
    "\n",
    " \n",
    "\n",
    "**Example 1:**\n",
    "```\n",
    "Input: intervals = [[0,30],[5,10],[15,20]]\n",
    "Output: false\n",
    "```\n",
    "---\n",
    "**Example 2:**\n",
    "```\n",
    "Input: intervals = [[7,10],[2,4]]\n",
    "Output: true\n",
    "```\n",
    "---\n",
    "**Constraints:**\n",
    "\n",
    "- `0 <= intervals.length <= 104`\n",
    "- `intervals[i].length == 2`\n",
    "- `0 <= starti < endi <= 106`"
   ]
  },
  {
   "cell_type": "code",
   "execution_count": null,
   "metadata": {},
   "outputs": [],
   "source": [
    "class Solution:\n",
    "    def canAttendMeetings(self, intervals: List[List[int]]) -> bool:\n",
    "        intervals.sort()\n",
    "        return all(a[1] <= b[0] for a, b in pairwise(intervals))"
   ]
  }
 ],
 "metadata": {
  "language_info": {
   "name": "python"
  },
  "orig_nbformat": 4
 },
 "nbformat": 4,
 "nbformat_minor": 2
}
