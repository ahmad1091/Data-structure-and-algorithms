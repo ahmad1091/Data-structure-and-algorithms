{
 "cells": [
  {
   "cell_type": "markdown",
   "metadata": {},
   "source": [
    "# 435. Non-overlapping Intervals\n",
    "\n",
    "Given an array of `intervals` intervals where `intervals[i] = [starti, endi]`, return *the minimum number of intervals you need to remove to make the rest of the intervals non-overlapping*.\n",
    "\n",
    " \n",
    "\n",
    "**Example 1:**\n",
    "```\n",
    "Input: intervals = [[1,2],[2,3],[3,4],[1,3]]\n",
    "Output: 1\n",
    "Explanation: [1,3] can be removed and the rest of the intervals are non-overlapping.\n",
    "```\n",
    "---\n",
    "**Example 2:**\n",
    "```\n",
    "Input: intervals = [[1,2],[1,2],[1,2]]\n",
    "Output: 2\n",
    "Explanation: You need to remove two [1,2] to make the rest of the intervals non-overlapping.\n",
    "```\n",
    "---\n",
    "**Example 3:**\n",
    "```\n",
    "Input: intervals = [[1,2],[2,3]]\n",
    "Output: 0\n",
    "Explanation: You don't need to remove any of the intervals since they're already non-overlapping.\n",
    "```\n",
    "---\n",
    "\n",
    "**Constraints:**\n",
    "\n",
    "- `1 <= intervals.length <= 105`\n",
    "- `intervals[i].length == 2`\n",
    "- `-5 * 10^4 <= starti < endi <= 5 * 10^4`"
   ]
  },
  {
   "cell_type": "code",
   "execution_count": null,
   "metadata": {},
   "outputs": [],
   "source": [
    "class Solution:\n",
    "    def eraseOverlapIntervals(self, intervals: List[List[int]]) -> int:\n",
    "        intervals.sort()\n",
    "        to_remove = 0\n",
    "        prev_end = intervals[0][1]\n",
    "        for start, end in intervals[1:]:\n",
    "            if start >= prev_end:\n",
    "                prev_end = end\n",
    "            else:\n",
    "                to_remove += 1\n",
    "                prev_end = min(end, prev_end)\n",
    "\n",
    "        return to_remove"
   ]
  }
 ],
 "metadata": {
  "kernelspec": {
   "display_name": "Python 3.8.10 64-bit",
   "language": "python",
   "name": "python3"
  },
  "language_info": {
   "name": "python",
   "version": "3.8.10"
  },
  "orig_nbformat": 4,
  "vscode": {
   "interpreter": {
    "hash": "916dbcbb3f70747c44a77c7bcd40155683ae19c65e1c03b4aa3499c5328201f1"
   }
  }
 },
 "nbformat": 4,
 "nbformat_minor": 2
}
