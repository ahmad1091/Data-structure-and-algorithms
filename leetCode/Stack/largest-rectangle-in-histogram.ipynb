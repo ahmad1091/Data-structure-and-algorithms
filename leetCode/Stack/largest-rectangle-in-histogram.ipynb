{
 "cells": [
  {
   "cell_type": "markdown",
   "metadata": {},
   "source": [
    "# 84. Largest Rectangle in Histogram\n",
    "\n",
    "Given an array of integers `heights` representing the histogram's bar height where the width of each bar is `1`, return the area of the largest rectangle in the histogram.\n",
    "\n",
    " \n",
    "\n",
    "**Example 1:**\n",
    "\n",
    "![image](https://assets.leetcode.com/uploads/2021/01/04/histogram.jpg)\n",
    "```\n",
    "Input: heights = [2,1,5,6,2,3]\n",
    "Output: 10\n",
    "Explanation: The above is a histogram where width of each bar is 1.\n",
    "The largest rectangle is shown in the red area, which has an area = 10 units.\n",
    "```\n",
    "---\n",
    "**Example 2:**\n",
    "\n",
    "![image](https://assets.leetcode.com/uploads/2021/01/04/histogram-1.jpg)\n",
    "```\n",
    "Input: heights = [2,4]\n",
    "Output: 4\n",
    "```\n",
    "---\n",
    "\n",
    "**Constraints:**\n",
    "\n",
    "- `1 <= heights.length <= 105`\n",
    "- `0 <= heights[i] <= 104`"
   ]
  },
  {
   "cell_type": "code",
   "execution_count": null,
   "metadata": {},
   "outputs": [],
   "source": [
    "class Solution:\n",
    "    def largestRectangleArea(self, heights: List[int]) -> int:\n",
    "        maxArea = 0\n",
    "        stack = []\n",
    "\n",
    "        for i, h in enumerate(heights):\n",
    "            start = i\n",
    "            while stack and stack[-1][1] > h:\n",
    "                index, height = stack.pop()\n",
    "\n",
    "                maxArea = max(maxArea, height * (i - index))\n",
    "                start = index\n",
    "            stack.append((start, h))\n",
    "\n",
    "        for i, h in stack:\n",
    "            maxArea = max(maxArea, h * (len(heights) - i))\n",
    "\n",
    "        return maxArea"
   ]
  }
 ],
 "metadata": {
  "language_info": {
   "name": "python"
  },
  "orig_nbformat": 4
 },
 "nbformat": 4,
 "nbformat_minor": 2
}
