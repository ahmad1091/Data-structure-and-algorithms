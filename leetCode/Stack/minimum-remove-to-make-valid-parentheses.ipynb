{
 "cells": [
  {
   "cell_type": "markdown",
   "metadata": {},
   "source": [
    "# 1249. Minimum Remove to Make Valid Parentheses\n",
    "\n",
    "Given a string s of `'('` , `')'` and lowercase English characters.\n",
    "\n",
    "Your task is to remove the minimum number of parentheses ( `'('` or `')'`, in any positions ) so that the resulting parentheses string is valid and return any valid string.\n",
    "\n",
    "Formally, a parentheses string is valid if and only if:\n",
    "\n",
    "It is the empty string, contains only lowercase characters, or\n",
    "It can be written as `AB` (`A` concatenated with `B`), where `A` and `B` are valid strings, or\n",
    "It can be written as `(A)`, where `A` is a valid string.\n",
    " \n",
    "\n",
    "**Example 1:**\n",
    "\n",
    "**Input:** `s = \"lee(t(c)o)de)\"`\n",
    "\n",
    "**Output:** `\"lee(t(c)o)de\"`\n",
    "\n",
    "**Explanation:** `\"lee(t(co)de)\" , \"lee(t(c)ode)\" would also be accepted.`\n",
    "\n",
    "---\n",
    "\n",
    "**Example 2:**\n",
    "\n",
    "**Input:** `s = \"a)b(c)d\"`\n",
    "\n",
    "**Output:** `\"ab(c)d\"`\n",
    "\n",
    "---\n",
    "\n",
    "**Example 3:**\n",
    "\n",
    "**Input:** `s = \"))((\"`\n",
    "\n",
    "**Output:** `\"\"`\n",
    "\n",
    "**Explanation:** `An empty string is also valid.`\n",
    "\n",
    "---\n",
    "\n",
    "**Constraints:**\n",
    "\n",
    "- `1 <= s.length <= 105`\n",
    "- `s[i] is either'(' , ')', or lowercase English letter.`"
   ]
  },
  {
   "cell_type": "code",
   "execution_count": null,
   "metadata": {},
   "outputs": [],
   "source": [
    "class Solution:\n",
    "    def minRemoveToMakeValid(self, s: str) -> str:\n",
    "        parentheses_stack = []\n",
    "        valid_string = s\n",
    "\n",
    "        for i, c in enumerate(s):\n",
    "            if parentheses_stack and parentheses_stack[-1][0] == '(' and c == ')':\n",
    "                parentheses_stack.pop()\n",
    "\n",
    "            elif c in '()':\n",
    "                parentheses_stack.append((c, i))\n",
    "\n",
    "        while parentheses_stack:\n",
    "            (c, i) = parentheses_stack.pop()\n",
    "            valid_string = valid_string[:i] + valid_string[i+1:]\n",
    "\n",
    "        return valid_string"
   ]
  }
 ],
 "metadata": {
  "kernelspec": {
   "display_name": "Python 3.8.10 64-bit",
   "language": "python",
   "name": "python3"
  },
  "language_info": {
   "name": "python",
   "version": "3.8.10"
  },
  "orig_nbformat": 4,
  "vscode": {
   "interpreter": {
    "hash": "916dbcbb3f70747c44a77c7bcd40155683ae19c65e1c03b4aa3499c5328201f1"
   }
  }
 },
 "nbformat": 4,
 "nbformat_minor": 2
}
