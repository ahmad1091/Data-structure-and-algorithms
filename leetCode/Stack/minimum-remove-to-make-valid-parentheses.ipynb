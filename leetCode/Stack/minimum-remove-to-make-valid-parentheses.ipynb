{
 "cells": [
  {
   "cell_type": "markdown",
   "metadata": {},
   "source": [
    "# 1249. Minimum Remove to Make Valid Parentheses\n",
    "\n",
    "Given a string s of `'('` , `')'` and lowercase English characters.\n",
    "\n",
    "Your task is to remove the minimum number of parentheses ( `'('` or `')'`, in any positions ) so that the resulting parentheses string is valid and return any valid string.\n",
    "\n",
    "Formally, a parentheses string is valid if and only if:\n",
    "\n",
    "It is the empty string, contains only lowercase characters, or\n",
    "It can be written as `AB` (`A` concatenated with `B`), where `A` and `B` are valid strings, or\n",
    "It can be written as `(A)`, where `A` is a valid string.\n",
    " \n",
    "\n",
    "**Example 1:**\n",
    "\n",
    "**Input:** `s = \"lee(t(c)o)de)\"`\n",
    "\n",
    "**Output:** `\"lee(t(c)o)de\"`\n",
    "\n",
    "**Explanation:** `\"lee(t(co)de)\" , \"lee(t(c)ode)\" would also be accepted.`\n",
    "\n",
    "---\n",
    "\n",
    "**Example 2:**\n",
    "\n",
    "**Input:** `s = \"a)b(c)d\"`\n",
    "\n",
    "**Output:** `\"ab(c)d\"`\n",
    "\n",
    "---\n",
    "\n",
    "**Example 3:**\n",
    "\n",
    "**Input:** `s = \"))((\"`\n",
    "\n",
    "**Output:** `\"\"`\n",
    "\n",
    "**Explanation:** `An empty string is also valid.`\n",
    "\n",
    "---\n",
    "\n",
    "**Constraints:**\n",
    "\n",
    "- `1 <= s.length <= 105`\n",
    "- `s[i] is either'(' , ')', or lowercase English letter.`"
   ]
  }
 ],
 "metadata": {
  "language_info": {
   "name": "python"
  },
  "orig_nbformat": 4
 },
 "nbformat": 4,
 "nbformat_minor": 2
}
