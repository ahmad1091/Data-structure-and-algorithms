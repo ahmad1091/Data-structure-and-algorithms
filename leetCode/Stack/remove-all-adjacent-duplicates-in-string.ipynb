{
 "cells": [
  {
   "cell_type": "markdown",
   "metadata": {},
   "source": [
    "# 1047. Remove All Adjacent Duplicates In String\n",
    "\n",
    "You are given a string `s` consisting of lowercase English letters. A **duplicate removal** consists of choosing two **adjacent** and **equal** letters and removing them.\n",
    "\n",
    "We repeatedly make **duplicate removals** on `s` until we no longer can.\n",
    "\n",
    "Return the final string after all such duplicate removals have been made. It can be proven that the answer is **unique**.\n",
    "\n",
    " \n",
    "\n",
    "**Example 1:**\n",
    "\n",
    "**Input:** `s = \"abbaca\"`\n",
    "\n",
    "**Output:** `\"ca\"`\n",
    "\n",
    "**Explanation:** \n",
    "`For example, in \"abbaca\" we could remove \"bb\" since the letters are adjacent and equal, and this is the only possible move.  The result of this move is that` `the string is \"aaca\", of which only \"aa\" is possible, so the final string is \"ca\".`\n",
    "\n",
    "---\n",
    "\n",
    "**Example 2:**\n",
    "\n",
    "**Input:** `s = \"azxxzy\"`\n",
    "\n",
    "**Output:** `\"ay\"`\n",
    "\n",
    "---\n",
    "\n",
    "**Constraints:**\n",
    "\n",
    "- `1 <= s.length <= 105`\n",
    "- `s consists of lowercase English letters.`"
   ]
  },
  {
   "cell_type": "code",
   "execution_count": null,
   "metadata": {},
   "outputs": [],
   "source": [
    "class Solution:\n",
    "    def removeDuplicates(self, s: str) -> str:\n",
    "        stack = []\n",
    "\n",
    "        for char in s:\n",
    "            if stack and stack[-1] == char:\n",
    "                stack.pop()\n",
    "            else:\n",
    "                stack.append(char)\n",
    "        \n",
    "        return ''.join(stack)"
   ]
  }
 ],
 "metadata": {
  "language_info": {
   "name": "python"
  },
  "orig_nbformat": 4
 },
 "nbformat": 4,
 "nbformat_minor": 2
}
