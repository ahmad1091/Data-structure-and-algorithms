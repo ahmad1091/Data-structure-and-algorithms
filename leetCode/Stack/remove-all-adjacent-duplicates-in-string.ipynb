{
 "cells": [
  {
   "cell_type": "markdown",
   "metadata": {},
   "source": [
    "# 1047. Remove All Adjacent Duplicates In String\n",
    "\n",
    "You are given a string `s` consisting of lowercase English letters. A **duplicate removal** consists of choosing two **adjacent** and **equal** letters and removing them.\n",
    "\n",
    "We repeatedly make **duplicate removals** on `s` until we no longer can.\n",
    "\n",
    "Return the final string after all such duplicate removals have been made. It can be proven that the answer is **unique**.\n",
    "\n",
    " \n",
    "\n",
    "**Example 1:**\n",
    "\n",
    "**Input:** `s = \"abbaca\"`\n",
    "\n",
    "**Output:** `\"ca\"`\n",
    "\n",
    "**Explanation:** \n",
    "`For example, in \"abbaca\" we could remove \"bb\" since the letters are adjacent and equal, and this is the only possible move.  The result of this move is that` `the string is \"aaca\", of which only \"aa\" is possible, so the final string is \"ca\".`\n",
    "\n",
    "---\n",
    "\n",
    "**Example 2:**\n",
    "\n",
    "**Input:** `s = \"azxxzy\"`\n",
    "\n",
    "**Output:** `\"ay\"`\n",
    "\n",
    "---\n",
    "\n",
    "**Constraints:**\n",
    "\n",
    "- `1 <= s.length <= 105`\n",
    "- `s consists of lowercase English letters.`"
   ]
  },
  {
   "cell_type": "code",
   "execution_count": null,
   "metadata": {},
   "outputs": [],
   "source": [
    "class Solution:\n",
    "    def removeDuplicates(self, s: str) -> str:\n",
    "        stack = []\n",
    "\n",
    "        for char in s:\n",
    "            if stack and stack[-1] == char:\n",
    "                stack.pop()\n",
    "            else:\n",
    "                stack.append(char)\n",
    "        \n",
    "        return ''.join(stack)"
   ]
  },
  {
   "cell_type": "code",
   "execution_count": null,
   "metadata": {},
   "outputs": [],
   "source": [
    "class Solution:\n",
    "    def removeDuplicates(self, s: str) -> str:\n",
    "        frequency_stack = []\n",
    "        k = 2\n",
    "        i = 0\n",
    "        for char in s:  \n",
    "            if frequency_stack and frequency_stack[-1][0] == char:\n",
    "                frequency_stack[-1][1] += 1\n",
    "\n",
    "                if frequency_stack[-1][1] == k:\n",
    "                    frequency_stack.pop()\n",
    "            else:\n",
    "                frequency_stack.append([char, 1])\n",
    "            i += 1\n",
    "\n",
    "        result = \"\"\n",
    "        for elem in frequency_stack:\n",
    "            char = elem[0]\n",
    "            count = elem[1]\n",
    "            result = result + (char * count)\n",
    "        return result"
   ]
  }
 ],
 "metadata": {
  "kernelspec": {
   "display_name": "Python 3.8.10 64-bit",
   "language": "python",
   "name": "python3"
  },
  "language_info": {
   "name": "python",
   "version": "3.8.10"
  },
  "orig_nbformat": 4,
  "vscode": {
   "interpreter": {
    "hash": "916dbcbb3f70747c44a77c7bcd40155683ae19c65e1c03b4aa3499c5328201f1"
   }
  }
 },
 "nbformat": 4,
 "nbformat_minor": 2
}
