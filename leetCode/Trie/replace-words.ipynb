{
 "cells": [
  {
   "cell_type": "markdown",
   "metadata": {},
   "source": [
    "# 648. Replace Words\n",
    "\n",
    "In English, we have a concept called **root**, which can be followed by some other word to form another longer word - let's call this word **successor**. For example, when the **root** `\"an\"` is followed by the **successor** word `\"other\"`, we can form a new word `\"another\"`.\n",
    "\n",
    "Given a `dictionary` consisting of many **roots** and a `sentence` consisting of words separated by spaces, replace all the **successor**s in the `sentence` with the **root** forming it. If a **successor** can be replaced by more than one **root**, replace it with the **root** that has **the shortest length**.\n",
    "\n",
    "Return the `sentence` after the replacement.\n",
    "\n",
    " \n",
    "\n",
    "**Example 1:**\n",
    "\n",
    "```\n",
    "Input: dictionary = [\"cat\",\"bat\",\"rat\"], sentence = \"the cattle was rattled by the battery\"\n",
    "Output: \"the cat was rat by the bat\"\n",
    "```\n",
    "\n",
    "---\n",
    "\n",
    "**Example 2:**\n",
    "\n",
    "```\n",
    "Input: dictionary = [\"a\",\"b\",\"c\"], sentence = \"aadsfasf absbs bbab cadsfafs\"\n",
    "Output: \"a a b c\"\n",
    "``` \n",
    "\n",
    "---\n",
    "\n",
    "**Constraints:**\n",
    "\n",
    "- `1 <= dictionary.length <= 1000`\n",
    "- `1 <= dictionary[i].length <= 100`\n",
    "- `dictionary[i]` consists of only lower-case letters.\n",
    "- `1 <= sentence.length <= 106`\n",
    "- `sentence` consists of only lower-case letters and spaces.\n",
    "- The number of words in ``sentence`` is in the range `[1, 1000]`\n",
    "- The length of each word in `sentence` is in the range `[1, 1000]`\n",
    "- Every two consecutive words in `sentence` will be separated by exactly one space.\n",
    "- `sentence` does not have leading or trailing spaces."
   ]
  },
  {
   "cell_type": "code",
   "execution_count": null,
   "metadata": {},
   "outputs": [],
   "source": [
    "class Solution:\n",
    "    def replaceWords(self, dictionary: List[str], sentence: str) -> str:\n",
    "        words = sentence.split()\n",
    "        prefixArr = set(dictionary)\n",
    "        for i, word in enumerate(words):\n",
    "            for j in range(1, len(word) + 1):\n",
    "                if word[:j] in prefixArr:\n",
    "                    words[i] = word[:j]\n",
    "                    break\n",
    "                \n",
    "        return ' '.join(words)"
   ]
  }
 ],
 "metadata": {
  "language_info": {
   "name": "python"
  },
  "orig_nbformat": 4
 },
 "nbformat": 4,
 "nbformat_minor": 2
}
