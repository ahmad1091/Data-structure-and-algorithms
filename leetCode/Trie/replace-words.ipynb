{
 "cells": [
  {
   "cell_type": "markdown",
   "metadata": {},
   "source": [
    "# 648. Replace Words\n",
    "\n",
    "In English, we have a concept called **root**, which can be followed by some other word to form another longer word - let's call this word **successor**. For example, when the **root** `\"an\"` is followed by the **successor** word `\"other\"`, we can form a new word `\"another\"`.\n",
    "\n",
    "Given a `dictionary` consisting of many **roots** and a `sentence` consisting of words separated by spaces, replace all the **successor**s in the `sentence` with the **root** forming it. If a **successor** can be replaced by more than one **root**, replace it with the **root** that has **the shortest length**.\n",
    "\n",
    "Return the `sentence` after the replacement.\n",
    "\n",
    " \n",
    "\n",
    "**Example 1:**\n",
    "\n",
    "```\n",
    "Input: dictionary = [\"cat\",\"bat\",\"rat\"], sentence = \"the cattle was rattled by the battery\"\n",
    "Output: \"the cat was rat by the bat\"\n",
    "```\n",
    "\n",
    "---\n",
    "\n",
    "**Example 2:**\n",
    "\n",
    "```\n",
    "Input: dictionary = [\"a\",\"b\",\"c\"], sentence = \"aadsfasf absbs bbab cadsfafs\"\n",
    "Output: \"a a b c\"\n",
    "``` \n",
    "\n",
    "---\n",
    "\n",
    "**Constraints:**\n",
    "\n",
    "- `1 <= dictionary.length <= 1000`\n",
    "- `1 <= dictionary[i].length <= 100`\n",
    "- `dictionary[i]` consists of only lower-case letters.\n",
    "- `1 <= sentence.length <= 106`\n",
    "- `sentence` consists of only lower-case letters and spaces.\n",
    "- The number of words in ``sentence`` is in the range `[1, 1000]`\n",
    "- The length of each word in `sentence` is in the range `[1, 1000]`\n",
    "- Every two consecutive words in `sentence` will be separated by exactly one space.\n",
    "- `sentence` does not have leading or trailing spaces."
   ]
  },
  {
   "cell_type": "code",
   "execution_count": null,
   "metadata": {},
   "outputs": [],
   "source": [
    "class Solution:\n",
    "    def replaceWords(self, dictionary: List[str], sentence: str) -> str:\n",
    "        words = sentence.split()\n",
    "        prefixArr = set(dictionary)\n",
    "        for i, word in enumerate(words):\n",
    "            for j in range(1, len(word) + 1):\n",
    "                if word[:j] in prefixArr:\n",
    "                    words[i] = word[:j]\n",
    "                    break\n",
    "                \n",
    "        return ' '.join(words)"
   ]
  },
  {
   "cell_type": "code",
   "execution_count": null,
   "metadata": {},
   "outputs": [],
   "source": [
    "class Trie:\n",
    "    def __init__(self):\n",
    "        self.children = {}\n",
    "        self.v = None\n",
    "\n",
    "    def insert(self, word):\n",
    "        node = self\n",
    "\n",
    "        for c in word:\n",
    "            if c not in node.children:\n",
    "                node.children[c] = Trie()\n",
    "            node = node.children[c]\n",
    "        node.v = word\n",
    "\n",
    "    def search(self, word):\n",
    "        node = self\n",
    "        for c in word:\n",
    "            if c not in node.children:\n",
    "                break\n",
    "            node = node.children[c]\n",
    "            if node.v:\n",
    "                return node.v\n",
    "        return word\n",
    "\n",
    "\n",
    "class Solution:\n",
    "    def replaceWords(self, dictionary: List[str], sentence: str) -> str:\n",
    "        prefixTree = Trie()\n",
    "\n",
    "        for word in dictionary:\n",
    "            prefixTree.insert(word)\n",
    "\n",
    "        return ' '.join([prefixTree.search(word) for word in sentence.split()])\n"
   ]
  }
 ],
 "metadata": {
  "kernelspec": {
   "display_name": "Python 3.8.10 64-bit",
   "language": "python",
   "name": "python3"
  },
  "language_info": {
   "name": "python",
   "version": "3.8.10"
  },
  "orig_nbformat": 4,
  "vscode": {
   "interpreter": {
    "hash": "916dbcbb3f70747c44a77c7bcd40155683ae19c65e1c03b4aa3499c5328201f1"
   }
  }
 },
 "nbformat": 4,
 "nbformat_minor": 2
}
