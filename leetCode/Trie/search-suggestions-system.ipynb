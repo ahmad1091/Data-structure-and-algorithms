{
 "cells": [
  {
   "cell_type": "markdown",
   "metadata": {},
   "source": [
    "# 1268. Search Suggestions System\n",
    "\n",
    "You are given an array of strings `products` and a string `searchWord`.\n",
    "\n",
    "Design a system that suggests at most three product names from products after each character of `searchWord` is typed. Suggested products should have common prefix with `searchWord`. If there are more than three products with a common prefix return the three lexicographically minimums products.\n",
    "\n",
    "Return a list of lists of the suggested products after each character of `searchWord` is typed.\n",
    "\n",
    " \n",
    "\n",
    "**Example 1:**\n",
    "\n",
    "```\n",
    "Input: products = [\"mobile\",\"mouse\",\"moneypot\",\"monitor\",\"mousepad\"], searchWord = \"mouse\"\n",
    "Output: [[\"mobile\",\"moneypot\",\"monitor\"],[\"mobile\",\"moneypot\",\"monitor\"],[\"mouse\",\"mousepad\"],[\"mouse\",\"mousepad\"],[\"mouse\",\"mousepad\"]]\n",
    "Explanation: products sorted lexicographically = [\"mobile\",\"moneypot\",\"monitor\",\"mouse\",\"mousepad\"].\n",
    "After typing m and mo all products match and we show user [\"mobile\",\"moneypot\",\"monitor\"].\n",
    "After typing mou, mous and mouse the system suggests [\"mouse\",\"mousepad\"].\n",
    "```\n",
    "---\n",
    "\n",
    "**Example 2:**\n",
    "```\n",
    "Input: products = [\"havana\"], searchWord = \"havana\"\n",
    "Output: [[\"havana\"],[\"havana\"],[\"havana\"],[\"havana\"],[\"havana\"],[\"havana\"]]\n",
    "Explanation: The only word \"havana\" will be always suggested while typing the search word.\n",
    "```\n",
    "\n",
    "---\n",
    "\n",
    "**Constraints:**\n",
    "\n",
    "- `1 <= products.length <= 1000`\n",
    "- `1 <= products[i].length <= 3000`\n",
    "- `1 <= sum(products[i].length) <= 2 * 104`\n",
    "- All the strings of `products` are unique.\n",
    "- `products[i]` consists of lowercase English letters.\n",
    "- `1 <= searchWord.length <= 1000`\n",
    "- `searchWord` consists of lowercase English letters."
   ]
  },
  {
   "cell_type": "code",
   "execution_count": null,
   "metadata": {},
   "outputs": [],
   "source": [
    "class Solution:\n",
    "    def suggestedProducts(self, products: List[str], searchWord: str) -> List[List[str]]:\n",
    "        products.sort()\n",
    "        res = []\n",
    "\n",
    "        l, r = 0, len(products) - 1\n",
    "        for i in range(len(searchWord)):\n",
    "            c = searchWord[i]\n",
    "            \n",
    "            while (l <= r) and (len(products[l]) <= i or products[l][i] != c):\n",
    "                l += 1 \n",
    "\n",
    "            while (l <= r) and (len(products[r]) <= i or products[r][i] != c):\n",
    "                r -= 1\n",
    "\n",
    "            res.append([])\n",
    "            remain = r - l + 1\n",
    "            for j in range(min(3, remain)):\n",
    "                res[-1].append(products[l + j])\n",
    "            \n",
    "        return res"
   ]
  }
 ],
 "metadata": {
  "language_info": {
   "name": "python"
  },
  "orig_nbformat": 4
 },
 "nbformat": 4,
 "nbformat_minor": 2
}
