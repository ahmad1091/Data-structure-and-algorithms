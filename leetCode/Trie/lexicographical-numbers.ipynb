{
 "cells": [
  {
   "cell_type": "markdown",
   "metadata": {},
   "source": [
    "# 386. Lexicographical Numbers\n",
    "\n",
    "Given an integer `n`, return all the numbers in the range `[1, n]` sorted in lexicographical order.\n",
    "\n",
    "You must write an algorithm that runs in `O(n)` time and uses `O(1)` extra space. \n",
    "\n",
    " \n",
    "\n",
    "**Example 1:**\n",
    "\n",
    "```\n",
    "Input: n = 13\n",
    "Output: [1,10,11,12,13,2,3,4,5,6,7,8,9]\n",
    "```\n",
    "---\n",
    "\n",
    "**Example 2:**\n",
    "\n",
    "```\n",
    "Input: n = 2\n",
    "Output: [1,2]\n",
    "``` \n",
    "---\n",
    "\n",
    "**Constraints:**\n",
    "\n",
    "- `1 <= n <= 5 * 104`"
   ]
  },
  {
   "cell_type": "code",
   "execution_count": null,
   "metadata": {},
   "outputs": [],
   "source": [
    "class Solution:\n",
    "    def lexicalOrder(self, n: int) -> List[int]:\n",
    "        def dfs(u):\n",
    "            if u > n:\n",
    "                return\n",
    "            ans.append(u)\n",
    "            for i in range(10):\n",
    "                dfs(u * 10 + i)\n",
    "\n",
    "        ans = []\n",
    "        for i in range(1, 10):\n",
    "            dfs(i)\n",
    "        return ans"
   ]
  },
  {
   "cell_type": "code",
   "execution_count": null,
   "metadata": {},
   "outputs": [],
   "source": [
    "class Solution:\n",
    "    def lexicalOrder(self, n: int) -> List[int]:\n",
    "        res = []\n",
    "        cur = 1\n",
    "        for i in range(n):\n",
    "            res.append(cur)\n",
    "            if cur * 10 <= n:\n",
    "                cur *= 10\n",
    "            else:\n",
    "                if cur >= n:\n",
    "                    cur //= 10\n",
    "                cur += 1\n",
    "                while cur % 10 == 0:\n",
    "                    cur //= 10\n",
    "        return res"
   ]
  },
  {
   "cell_type": "code",
   "execution_count": null,
   "metadata": {},
   "outputs": [],
   "source": [
    "class Solution:\n",
    "    def lexicalOrder(self, n: int) -> List[int]:\n",
    "        sortedNumbers = sorted([str(num) for num in range(1, n + 1)])\n",
    "        return [int(num) for num in sortedNumbers]"
   ]
  },
  {
   "cell_type": "code",
   "execution_count": null,
   "metadata": {},
   "outputs": [],
   "source": [
    "class Node(object):\n",
    "    def __init__(self, key, data=None, length = 0 ):\n",
    "        self.key = key\n",
    "        self.data = data\n",
    "        self.children = {}\n",
    "        self.length = length\n",
    "class Trie:\n",
    "    def __init__(self):\n",
    "        self.head = Node(None)\n",
    "        \n",
    "    def insert(self, string: str) -> None:\n",
    "        current_node = self.head\n",
    "        d = len(string)\n",
    "        string = string.ljust(5, 'x')\n",
    "        for char in string:\n",
    "            if char not in current_node.children:\n",
    "                current_node.children[char] = Node(char)\n",
    "            current_node = current_node.children[char]\n",
    "        current_node.data = string\n",
    "        current_node.length = d\n",
    "        \n",
    "class Solution:\n",
    "    def lexicalOrder(self, n: int) -> List[int]:\n",
    "        trie = Trie()\n",
    "        for i in range(1, n+1):\n",
    "           \n",
    "            trie.insert(str(i))\n",
    "            \n",
    "        res = []\n",
    "        stack = [trie.head]\n",
    "       \n",
    "        while stack:\n",
    "            node = stack.pop()\n",
    "            if node and node.data:\n",
    "                res.append(node.data[:node.length])\n",
    "            for child in node.children:\n",
    "                stack.append(node.children[child])\n",
    "        return [int(num) for num in res[::-1]]"
   ]
  }
 ],
 "metadata": {
  "kernelspec": {
   "display_name": "Python 3.8.10 64-bit",
   "language": "python",
   "name": "python3"
  },
  "language_info": {
   "name": "python",
   "version": "3.8.10"
  },
  "orig_nbformat": 4,
  "vscode": {
   "interpreter": {
    "hash": "916dbcbb3f70747c44a77c7bcd40155683ae19c65e1c03b4aa3499c5328201f1"
   }
  }
 },
 "nbformat": 4,
 "nbformat_minor": 2
}
