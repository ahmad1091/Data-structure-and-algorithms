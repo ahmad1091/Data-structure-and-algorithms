{
 "cells": [
  {
   "cell_type": "markdown",
   "metadata": {},
   "source": [
    "# 386. Lexicographical Numbers\n",
    "\n",
    "Given an integer `n`, return all the numbers in the range `[1, n]` sorted in lexicographical order.\n",
    "\n",
    "You must write an algorithm that runs in `O(n)` time and uses `O(1)` extra space. \n",
    "\n",
    " \n",
    "\n",
    "**Example 1:**\n",
    "\n",
    "```\n",
    "Input: n = 13\n",
    "Output: [1,10,11,12,13,2,3,4,5,6,7,8,9]\n",
    "```\n",
    "---\n",
    "\n",
    "**Example 2:**\n",
    "\n",
    "```\n",
    "Input: n = 2\n",
    "Output: [1,2]\n",
    "``` \n",
    "---\n",
    "\n",
    "**Constraints:**\n",
    "\n",
    "- `1 <= n <= 5 * 104`"
   ]
  },
  {
   "cell_type": "code",
   "execution_count": null,
   "metadata": {},
   "outputs": [],
   "source": [
    "class Solution:\n",
    "    def lexicalOrder(self, n: int) -> List[int]:\n",
    "        def dfs(u):\n",
    "            if u > n:\n",
    "                return\n",
    "            ans.append(u)\n",
    "            for i in range(10):\n",
    "                dfs(u * 10 + i)\n",
    "\n",
    "        ans = []\n",
    "        for i in range(1, 10):\n",
    "            dfs(i)\n",
    "        return ans"
   ]
  }
 ],
 "metadata": {
  "language_info": {
   "name": "python"
  },
  "orig_nbformat": 4
 },
 "nbformat": 4,
 "nbformat_minor": 2
}
