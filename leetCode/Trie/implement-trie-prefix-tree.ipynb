{
 "cells": [
  {
   "cell_type": "markdown",
   "metadata": {},
   "source": [
    "# 208. Implement Trie (Prefix Tree)\n",
    "\n",
    "A [trie](https://en.wikipedia.org/wiki/Trie) (pronounced as \"try\") or **prefix tree** is a tree data structure used to efficiently store and retrieve keys in a dataset of strings. There are various applications of this data structure, such as autocomplete and spellchecker.\n",
    "\n",
    "Implement the Trie class:\n",
    "\n",
    "- `Trie()` Initializes the trie object.\n",
    "- `void insert(String word)` Inserts the string `word` into the trie.\n",
    "- `boolean search(String word)` Returns `true` if the string `word` is in the trie (i.e., was inserted before), and `false` otherwise.\n",
    "- `boolean startsWith(String prefix)` Returns `true` if there is a previously inserted string `word` that has the prefix `prefix`, and `false` otherwise.\n",
    " \n",
    "\n",
    "**Example 1:**\n",
    "```\n",
    "Input\n",
    "[\"Trie\", \"insert\", \"search\", \"search\", \"startsWith\", \"insert\", \"search\"]\n",
    "[[], [\"apple\"], [\"apple\"], [\"app\"], [\"app\"], [\"app\"], [\"app\"]]\n",
    "Output\n",
    "[null, null, true, false, true, null, true]\n",
    "\n",
    "Explanation\n",
    "Trie trie = new Trie();\n",
    "trie.insert(\"apple\");\n",
    "trie.search(\"apple\");   // return True\n",
    "trie.search(\"app\");     // return False\n",
    "trie.startsWith(\"app\"); // return True\n",
    "trie.insert(\"app\");\n",
    "trie.search(\"app\");     // return True\n",
    "```\n",
    "\n",
    "---\n",
    "\n",
    "**Constraints:**\n",
    "\n",
    "- `1 <= word.length, prefix.length <= 2000`\n",
    "- `word` and `prefix` consist only of lowercase English letters.\n",
    "- At most `3 * 10^4` calls in total will be made to `insert`, `search`, and `startsWith`."
   ]
  },
  {
   "cell_type": "code",
   "execution_count": null,
   "metadata": {},
   "outputs": [],
   "source": []
  }
 ],
 "metadata": {
  "language_info": {
   "name": "python"
  },
  "orig_nbformat": 4
 },
 "nbformat": 4,
 "nbformat_minor": 2
}
