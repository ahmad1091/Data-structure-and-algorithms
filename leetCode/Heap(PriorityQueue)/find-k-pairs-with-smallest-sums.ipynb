{
 "cells": [
  {
   "cell_type": "markdown",
   "metadata": {},
   "source": [
    "# 373. Find K Pairs with Smallest Sums\n",
    "\n",
    "You are given two integer arrays `nums1` and `nums2` sorted in ascending order and an integer `k`.\n",
    "\n",
    "Define a pair `(u, v)` which consists of one element from the first array and one element from the second array.\n",
    "\n",
    "Return the `k` pairs `(u1, v1), (u2, v2), ..., (uk, vk)` with the smallest sums.\n",
    "\n",
    " \n",
    "---------------------------------------------\n",
    "**Example 1:**\n",
    "\n",
    "**Input:** `nums1 = [1,7,11], nums2 = [2,4,6], k = 3`\n",
    "\n",
    "**Output:** `[[1,2],[1,4],[1,6]]`\n",
    "\n",
    "**Explanation:** `The first 3 pairs are returned from the sequence: [1,2],[1,4],[1,6],[7,2],[7,4],[11,2],[7,6],[11,4],[11,6]`\n",
    "\n",
    "---------------------------------------------\n",
    "\n",
    "**Example 2:**\n",
    "\n",
    "**Input:** `nums1 = [1,1,2], nums2 = [1,2,3], k = 2`\n",
    "\n",
    "**Output:** `[[1,1],[1,1]]`\n",
    "\n",
    "**Explanation:** `The first 2 pairs are returned from the sequence: [1,1],[1,1],[1,2],[2,1],[1,2],[2,2],[1,3],[1,3],[2,3]`\n",
    "\n",
    "---------------------------------------------\n",
    "\n",
    "**Example 3:**\n",
    "\n",
    "**Input:** `nums1 = [1,2], nums2 = [3], k = 3`\n",
    "\n",
    "**Output:** `[[1,3],[2,3]]`\n",
    "\n",
    "**Explanation:** `All possible pairs are returned from the sequence: [1,3],[2,3]`\n",
    " \n",
    "---------------------------------------------\n",
    "\n",
    "**Constraints:**\n",
    "\n",
    "`1 <= nums1.length, nums2.length <= 105`\n",
    "`-109 <= nums1[i], nums2[i] <= 109`\n",
    "`nums1 and nums2 both are sorted in ascending order.`\n",
    "`1 <= k <= 104`"
   ]
  },
  {
   "cell_type": "code",
   "execution_count": null,
   "metadata": {},
   "outputs": [],
   "source": [
    "class Solution:\n",
    "    def kSmallestPairs(self, nums1: List[int], nums2: List[int], k: int) -> List[List[int]]:\n",
    "        q = [(num + nums2[0], i, 0) for i, num in enumerate(nums1[:k])]\n",
    "        heapify(q)\n",
    "        res = []\n",
    "        while q and k > 0:\n",
    "            _, i, j = heappop(q)\n",
    "            res.append([nums1[i], nums2[j]])\n",
    "            k -= 1\n",
    "            if j + 1 < len(nums2):\n",
    "                heappush(q,(nums1[i] + nums2[j + 1], i, j + 1))\n",
    "\n",
    "        return res "
   ]
  },
  {
   "cell_type": "code",
   "execution_count": null,
   "metadata": {},
   "outputs": [],
   "source": []
  }
 ],
 "metadata": {
  "language_info": {
   "name": "python"
  },
  "orig_nbformat": 4
 },
 "nbformat": 4,
 "nbformat_minor": 2
}
