{
 "cells": [
  {
   "cell_type": "markdown",
   "metadata": {},
   "source": [
    "# 649. Dota2 Senate\n",
    "\n",
    "In the world of Dota2, there are two parties: the Radiant and the Dire.\n",
    "\n",
    "The Dota2 senate consists of senators coming from two parties. Now the Senate wants to decide on a change in the Dota2 game. The voting for this change is a round-based procedure. In each round, each senator can exercise **one** of the two rights:\n",
    "\n",
    "- **Ban one senator's right:** A senator can make another senator lose all his rights in this and all the following rounds.\n",
    "- **Announce the victory:** If this senator found the senators who still have rights to vote are all from the same party, he can announce the victory and decide on the change in the game.\n",
    "\n",
    "Given a string `senate` representing each senator's party belonging. The character `'R'` and `'D'` represent the Radiant party and the Dire party. Then if there are `n` senators, the size of the given string will be `n`.\n",
    "\n",
    "The round-based procedure starts from the first senator to the last senator in the given order. This procedure will last until the end of voting. All the senators who have lost their rights will be skipped during the procedure.\n",
    "\n",
    "Suppose every senator is smart enough and will play the best strategy for his own party. Predict which party will finally announce the victory and change the Dota2 game. The output should be `\"Radiant\"` or `\"Dire\"`.\n",
    "\n",
    " \n",
    "\n",
    "**Example 1:**\n",
    "```\n",
    "Input: senate = \"RD\"\n",
    "Output: \"Radiant\"\n",
    "Explanation: \n",
    "The first senator comes from Radiant and he can just ban the next senator's right in round 1. \n",
    "And the second senator can't exercise any rights anymore since his right has been banned. \n",
    "And in round 2, the first senator can just announce the victory since he is the only guy in the senate who can vote.\n",
    "```\n",
    "---\n",
    "**Example 2:**\n",
    "```\n",
    "Input: senate = \"RDD\"\n",
    "Output: \"Dire\"\n",
    "Explanation: \n",
    "The first senator comes from Radiant and he can just ban the next senator's right in round 1. \n",
    "And the second senator can't exercise any rights anymore since his right has been banned. \n",
    "And the third senator comes from Dire and he can ban the first senator's right in round 1. \n",
    "And in round 2, the third senator can just announce the victory since he is the only guy in the senate who can vote.\n",
    "```\n",
    "---\n",
    "\n",
    "**Constraints:**\n",
    "\n",
    "- `n == senate.length`\n",
    "- `1 <= n <= 104`\n",
    "- `senate[i]` is either `'R'` or `'D'`."
   ]
  }
 ],
 "metadata": {
  "language_info": {
   "name": "python"
  },
  "orig_nbformat": 4
 },
 "nbformat": 4,
 "nbformat_minor": 2
}
