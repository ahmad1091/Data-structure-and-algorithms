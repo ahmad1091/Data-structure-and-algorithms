{
 "cells": [
  {
   "cell_type": "markdown",
   "metadata": {},
   "source": [
    "# 2336. Smallest Number in Infinite Set\n",
    "\n",
    "You have a set which contains all positive integers `[1, 2, 3, 4, 5, ...]`.\n",
    "\n",
    "Implement the `SmallestInfiniteSet` class:\n",
    "\n",
    "- `SmallestInfiniteSet()` Initializes the **SmallestInfiniteSet** object to contain **all** positive integers.\n",
    "- `int popSmallest()` **Removes** and returns the smallest integer contained in the infinite set.\n",
    "- `void addBack(int num)` **Adds** a positive integer `num` back into the infinite set, if it is not already in the infinite set.\n",
    " \n",
    "\n",
    "**Example 1:**\n",
    "```\n",
    "Input\n",
    "[\"SmallestInfiniteSet\", \"addBack\", \"popSmallest\", \"popSmallest\", \"popSmallest\", \"addBack\", \"popSmallest\", \"popSmallest\", \"popSmallest\"]\n",
    "[[], [2], [], [], [], [1], [], [], []]\n",
    "Output\n",
    "[null, null, 1, 2, 3, null, 1, 4, 5]\n",
    "\n",
    "Explanation\n",
    "SmallestInfiniteSet smallestInfiniteSet = new SmallestInfiniteSet();\n",
    "smallestInfiniteSet.addBack(2);    // 2 is already in the set, so no change is made.\n",
    "smallestInfiniteSet.popSmallest(); // return 1, since 1 is the smallest number, and remove it from the set.\n",
    "smallestInfiniteSet.popSmallest(); // return 2, and remove it from the set.\n",
    "smallestInfiniteSet.popSmallest(); // return 3, and remove it from the set.\n",
    "smallestInfiniteSet.addBack(1);    // 1 is added back to the set.\n",
    "smallestInfiniteSet.popSmallest(); // return 1, since 1 was added back to the set and\n",
    "                                   // is the smallest number, and remove it from the set.\n",
    "smallestInfiniteSet.popSmallest(); // return 4, and remove it from the set.\n",
    "smallestInfiniteSet.popSmallest(); // return 5, and remove it from the set.\n",
    " ```\n",
    " ---\n",
    "\n",
    "**Constraints:**\n",
    "\n",
    "- `1 <= num <= 1000`\n",
    "- At most `1000` calls will be made **in total** to `popSmallest` and `addBack`."
   ]
  },
  {
   "cell_type": "code",
   "execution_count": null,
   "metadata": {},
   "outputs": [],
   "source": [
    "class SmallestInfiniteSet:\n",
    "\n",
    "    def __init__(self):\n",
    "        self.min_heap = list(range(1, 1001))\n",
    "\n",
    "    def popSmallest(self) -> int:\n",
    "        if self.min_heap:\n",
    "            min_value = self.min_heap[0]\n",
    "            heappop(self.min_heap)\n",
    "            return min_value\n",
    "        return 0\n",
    "    def addBack(self, num: int) -> None:\n",
    "        if num not in self.min_heap:\n",
    "            heappush(self.min_heap, num)\n",
    "\n",
    "\n",
    "# Your SmallestInfiniteSet object will be instantiated and called as such:\n",
    "# obj = SmallestInfiniteSet()\n",
    "# param_1 = obj.popSmallest()\n",
    "# obj.addBack(num)"
   ]
  }
 ],
 "metadata": {
  "kernelspec": {
   "display_name": "Python 3.8.10 64-bit",
   "language": "python",
   "name": "python3"
  },
  "language_info": {
   "name": "python",
   "version": "3.8.10"
  },
  "orig_nbformat": 4,
  "vscode": {
   "interpreter": {
    "hash": "916dbcbb3f70747c44a77c7bcd40155683ae19c65e1c03b4aa3499c5328201f1"
   }
  }
 },
 "nbformat": 4,
 "nbformat_minor": 2
}
