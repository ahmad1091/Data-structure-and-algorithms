{
 "cells": [
  {
   "cell_type": "markdown",
   "metadata": {},
   "source": [
    "# 215. Kth Largest Element in an Array\n",
    "\n",
    "Given an integer array `nums` and an integer `k`, return the `kth` largest element in the array.\n",
    "\n",
    "Note that it is the `kth` largest element in the sorted order, not the `kth` distinct element.\n",
    "\n",
    "Can you solve it without sorting?\n",
    "\n",
    " \n",
    "\n",
    "**Example 1:**\n",
    "```\n",
    "Input: nums = [3,2,1,5,6,4], k = 2\n",
    "Output: 5\n",
    "```\n",
    "---\n",
    "**Example 2:**\n",
    "```\n",
    "Input: nums = [3,2,3,1,2,4,5,5,6], k = 4\n",
    "Output: 4\n",
    "```\n",
    "--- \n",
    "\n",
    "**Constraints:**\n",
    "\n",
    "- `1 <= k <= nums.length <= 105`\n",
    "- `-104 <= nums[i] <= 104`"
   ]
  },
  {
   "cell_type": "code",
   "execution_count": null,
   "metadata": {},
   "outputs": [],
   "source": [
    "class Solution:\n",
    "    def findKthLargest(self, nums: List[int], k: int) -> int:\n",
    "        min_heap = []\n",
    "\n",
    "        for i in range(k):\n",
    "            heappush(min_heap, nums[i])\n",
    "\n",
    "        for i in  range(k, len(nums)):\n",
    "            if nums[i] > min_heap[0]:\n",
    "                heappop(min_heap)\n",
    "                heappush(min_heap, nums[i])\n",
    "\n",
    "\n",
    "        return  min_heap[0]"
   ]
  }
 ],
 "metadata": {
  "language_info": {
   "name": "python"
  },
  "orig_nbformat": 4
 },
 "nbformat": 4,
 "nbformat_minor": 2
}
