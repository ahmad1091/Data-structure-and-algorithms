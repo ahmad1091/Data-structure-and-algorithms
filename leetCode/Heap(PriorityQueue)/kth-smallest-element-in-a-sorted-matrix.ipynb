{
 "cells": [
  {
   "cell_type": "markdown",
   "metadata": {},
   "source": [
    "## 378. Kth Smallest Element in a Sorted Matrix\n",
    "\n",
    "Given an `n x n` `matrix` where each of the rows and columns is sorted in ascending order, return the `kth` smallest element in the matrix.\n",
    "\n",
    "Note that it is the `kth` smallest element in the sorted order, not the `kth` distinct element.\n",
    "\n",
    "You must find a solution with a memory complexity better than `O(n2)`.\n",
    "\n",
    " \n",
    "\n",
    "**Example 1:**\n",
    "\n",
    "**Input:** `matrix = [[1,5,9],[10,11,13],[12,13,15]], k = 8`\n",
    "\n",
    "**Output:** `13`\n",
    "\n",
    "**Explanation:** `The elements in the matrix are [1,5,9,10,11,12,13,13,15], and the 8th smallest number is 13`\n",
    "\n",
    "**Example 2:**\n",
    "\n",
    "**Input:** `matrix = [[-5]], k = 1`\n",
    "\n",
    "**Output:** `-5`\n",
    " \n",
    "\n"
   ]
  }
 ],
 "metadata": {
  "language_info": {
   "name": "python"
  },
  "orig_nbformat": 4
 },
 "nbformat": 4,
 "nbformat_minor": 2
}
