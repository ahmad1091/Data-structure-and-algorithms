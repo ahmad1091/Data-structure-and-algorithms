{
 "cells": [
  {
   "cell_type": "markdown",
   "metadata": {},
   "source": [
    "## 378. Kth Smallest Element in a Sorted Matrix\n",
    "\n",
    "Given an `n x n` `matrix` where each of the rows and columns is sorted in ascending order, return the `kth` smallest element in the matrix.\n",
    "\n",
    "Note that it is the `kth` smallest element in the sorted order, not the `kth` distinct element.\n",
    "\n",
    "You must find a solution with a memory complexity better than `O(n2)`.\n",
    "\n",
    " \n",
    "\n",
    "**Example 1:**\n",
    "\n",
    "**Input:** `matrix = [[1,5,9],[10,11,13],[12,13,15]], k = 8`\n",
    "\n",
    "**Output:** `13`\n",
    "\n",
    "**Explanation:** `The elements in the matrix are [1,5,9,10,11,12,13,13,15], and the 8th smallest number is 13`\n",
    "\n",
    "**Example 2:**\n",
    "\n",
    "**Input:** `matrix = [[-5]], k = 1`\n",
    "\n",
    "**Output:** `-5`\n",
    " \n",
    "\n"
   ]
  },
  {
   "cell_type": "code",
   "execution_count": null,
   "metadata": {},
   "outputs": [],
   "source": [
    "class Solution:\n",
    "    def kthSmallest(self, matrix: List[List[int]], k: int) -> int:\n",
    "        def check(matrix, mid, k, n):\n",
    "            count = 0\n",
    "            i, j = n - 1, 0\n",
    "            while i >= 0 and  j < n:\n",
    "                if matrix[i][j] <= mid:\n",
    "                    count += i + 1\n",
    "                    j += 1\n",
    "                else:\n",
    "                    i -= 1\n",
    "            return count >= k\n",
    "\n",
    "        n = len(matrix)\n",
    "        left, right  = matrix[0][0], matrix[n - 1][n - 1]\n",
    "        while left < right:\n",
    "            mid = (left + right) >> 1\n",
    "            if check(matrix, mid, k, n):\n",
    "                right = mid\n",
    "            else:\n",
    "                left = mid + 1\n",
    "        return left\n",
    "\n"
   ]
  },
  {
   "cell_type": "code",
   "execution_count": null,
   "metadata": {},
   "outputs": [],
   "source": [
    "# sol2:\n",
    "class Solution:\n",
    "    def kthSmallest(self, matrix: List[List[int]], k: int) -> int:\n",
    "        kth_list = []\n",
    "        empty = []\n",
    "\n",
    "        for i in range(len(matrix)):\n",
    "            if matrix[i] == empty:\n",
    "                continue\n",
    "            heappush(kth_list, (matrix[i][0], 0, matrix[i]))\n",
    "\n",
    "        checked = 0\n",
    "        smallest = 0\n",
    "        while kth_list:\n",
    "            if checked == k:\n",
    "                break\n",
    "            checked += 1\n",
    "            smallest, i, l = heappop(kth_list)\n",
    "\n",
    "            if i + 1 < len(l):\n",
    "                heappush(kth_list, (l[i + 1], i + 1, l))\n",
    "        \n",
    "        return smallest\n",
    "    "
   ]
  }
 ],
 "metadata": {
  "language_info": {
   "name": "python"
  },
  "orig_nbformat": 4
 },
 "nbformat": 4,
 "nbformat_minor": 2
}
