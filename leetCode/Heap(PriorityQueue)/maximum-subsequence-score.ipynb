{
 "cells": [
  {
   "cell_type": "markdown",
   "metadata": {},
   "source": [
    "# 2542. Maximum Subsequence Score\n",
    "\n",
    "You are given two **0-indexed** integer arrays `nums1` and `nums2` of equal length `n` and a positive integer `k`. You must choose a **subsequence** of indices from `nums1` of length `k`.\n",
    "\n",
    "For chosen indices `i0`, `i1`, ..., `ik - 1`, your score is defined as:\n",
    "\n",
    "- The sum of the selected elements from `nums1` multiplied with the **minimum** of the selected elements from `nums2`.\n",
    "- It can defined simply as: `(nums1[i0] + nums1[i1] +...+ nums1[ik - 1]) * min(nums2[i0] , nums2[i1], ... ,nums2[ik - 1])`.\n",
    "\n",
    "Return the **maximum** possible score.\n",
    "\n",
    "A **subsequence** of indices of an array is a set that can be derived from the set `{0, 1, ..., n-1}` by deleting some or no elements.\n",
    "\n",
    " \n",
    "\n",
    "**Example 1:**\n",
    "```\n",
    "Input: nums1 = [1,3,3,2], nums2 = [2,1,3,4], k = 3\n",
    "Output: 12\n",
    "Explanation: \n",
    "The four possible subsequence scores are:\n",
    "- We choose the indices 0, 1, and 2 with score = (1+3+3) * min(2,1,3) = 7.\n",
    "- We choose the indices 0, 1, and 3 with score = (1+3+2) * min(2,1,4) = 6. \n",
    "- We choose the indices 0, 2, and 3 with score = (1+3+2) * min(2,3,4) = 12. \n",
    "- We choose the indices 1, 2, and 3 with score = (3+3+2) * min(1,3,4) = 8.\n",
    "Therefore, we return the max score, which is 12.\n",
    "```\n",
    "---\n",
    "**Example 2:**\n",
    "```\n",
    "Input: nums1 = [4,2,3,1,1], nums2 = [7,5,10,9,6], k = 1\n",
    "Output: 30\n",
    "Explanation: \n",
    "Choosing index 2 is optimal: nums1[2] * nums2[2] = 3 * 10 = 30 is the maximum possible score.\n",
    "```\n",
    "--- \n",
    "\n",
    "**Constraints:**\n",
    "\n",
    "- `n == nums1.length == nums2.length`\n",
    "- `1 <= n <= 105`\n",
    "- `0 <= nums1[i], nums2[j] <= 105`\n",
    "- `1 <= k <= n`"
   ]
  },
  {
   "cell_type": "code",
   "execution_count": null,
   "metadata": {},
   "outputs": [],
   "source": [
    "class Solution:\n",
    "    def maxScore(self, nums1: List[int], nums2: List[int], k: int) -> int:\n",
    "        pairs = [(n1, n2) for n1, n2 in zip(nums1, nums2)]\n",
    "        pairs = sorted(pairs, key = lambda p: p[1], reverse = True)\n",
    "        sub_sum, score = 0, 0\n",
    "        min_heap = []\n",
    "        for n1, n2 in pairs:\n",
    "            sub_sum += n1\n",
    "            heappush(min_heap, n1)\n",
    "            if len(min_heap) > k:\n",
    "                item = heappop(min_heap)\n",
    "                sub_sum -= item\n",
    "\n",
    "            if len(min_heap) == k:\n",
    "                score = max(score, sub_sum * n2)\n",
    "            \n",
    "        return score"
   ]
  }
 ],
 "metadata": {
  "language_info": {
   "name": "python"
  },
  "orig_nbformat": 4
 },
 "nbformat": 4,
 "nbformat_minor": 2
}
