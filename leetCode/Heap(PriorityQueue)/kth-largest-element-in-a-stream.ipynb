{
 "cells": [
  {
   "cell_type": "markdown",
   "metadata": {},
   "source": [
    "# 703. Kth Largest Element in a Stream\n",
    "\n",
    "Design a class to find the `kth` largest element in a stream. Note that it is the `kth` largest element in the sorted order, not the `kth` distinct element.\n",
    "\n",
    "Implement `KthLargest` class:\n",
    "\n",
    "`KthLargest(int k, int[] nums)` Initializes the object with the integer k and the stream of integers `nums`.\n",
    "int add(int `val`) Appends the integer `val` to the stream and returns the element representing the `kth` largest element in the stream.\n",
    "\n",
    "---\n",
    "\n",
    "**Example 1:**\n",
    "\n",
    "**Input**\n",
    "`[\"KthLargest\", \"add\", \"add\", \"add\", \"add\", \"add\"]\n",
    "[[3, [4, 5, 8, 2]], [3], [5], [10], [9], [4]]`\n",
    "\n",
    "**Output**\n",
    "\n",
    "`[null, 4, 5, 5, 8, 8]`\n",
    "\n",
    "**Explanation**\n",
    "\n",
    "`KthLargest kthLargest = new KthLargest(3, [4, 5, 8, 2]);`\n",
    "\n",
    "`kthLargest.add(3);   // return 4`\n",
    "\n",
    "`kthLargest.add(5);   // return 5`\n",
    "\n",
    "`kthLargest.add(10);  // return 5`\n",
    "\n",
    "`kthLargest.add(9);   // return 8`\n",
    "\n",
    "`kthLargest.add(4);   // return 8`\n",
    " \n",
    "---\n",
    "\n",
    "**Constraints:**\n",
    "\n",
    "- `1 <= k <= 104`\n",
    "\n",
    "- `0 <= nums.length <= 104`\n",
    "\n",
    "- `-104 <= nums[i] <= 104`\n",
    "\n",
    "- `-104 <= val <= 104`\n",
    "\n",
    "- `At most 104 calls will be made to add.`\n",
    "- `It is guaranteed that there will be at least k elements in the array when you search for the kth element.`"
   ]
  },
  {
   "cell_type": "code",
   "execution_count": null,
   "metadata": {},
   "outputs": [],
   "source": [
    "class KthLargest:\n",
    "\n",
    "    def __init__(self, k: int, nums: List[int]):\n",
    "        self.minHeap = nums\n",
    "        self.k = k\n",
    "        heapify(self.minHeap)\n",
    "        while len(self.minHeap) > k:\n",
    "            heappop(self.minHeap)\n",
    "\n",
    "    def add(self, val: int) -> int:\n",
    "        heappush(self.minHeap, val)\n",
    "        if len(self.minHeap) > self.k:\n",
    "            heappop(self.minHeap)\n",
    "        return self.minHeap[0]\n",
    "\n",
    "\n",
    "# Your KthLargest object will be instantiated and called as such:\n",
    "# obj = KthLargest(k, nums)\n",
    "# param_1 = obj.add(val)"
   ]
  }
 ],
 "metadata": {
  "kernelspec": {
   "display_name": "Python 3.8.10 64-bit",
   "language": "python",
   "name": "python3"
  },
  "language_info": {
   "name": "python",
   "version": "3.8.10"
  },
  "orig_nbformat": 4,
  "vscode": {
   "interpreter": {
    "hash": "916dbcbb3f70747c44a77c7bcd40155683ae19c65e1c03b4aa3499c5328201f1"
   }
  }
 },
 "nbformat": 4,
 "nbformat_minor": 2
}
