{
 "cells": [
  {
   "cell_type": "markdown",
   "metadata": {},
   "source": [
    "## Statement\n",
    "Given a set of `n` number of tasks, implement a task scheduler method, tasks(), to run in \n",
    "`O(n logn)` time that finds the minimum number of machines required to complete these `n` tasks.\n",
    "\n",
    "**Examples**\n",
    "\n",
    "**Input**\n",
    "[(1, 7), (8, 9), (3, 6), (9, 14), (6, 7)]\n",
    "\n",
    "**Output:** 2\n",
    "\n",
    "**Input**\n",
    "[(5, 6), (5, 6), (5, 6), (5, 6), (6, 7)]\n",
    "\n",
    "**Output:** 4\n",
    "\n",
    "**Input**\n",
    "[(1, 3), (2, 6), (5, 9), (4, 7), (8, 10), (8, 10), (12, 15)]\n",
    "\n",
    "**Output:** 3"
   ]
  },
  {
   "cell_type": "code",
   "execution_count": null,
   "metadata": {},
   "outputs": [],
   "source": [
    "def tasks(tasks_list):\n",
    "    # to count the total number of machines for \"optimal_machines\" tasks\n",
    "    optimal_machines = 0\n",
    "    # empty list to store tasks finish time\n",
    "    machines_available = []\n",
    "    # converting list of set \"optimal_machines\" to a heap\n",
    "    heapq.heapify(tasks_list)\n",
    "\n",
    "    while tasks_list:  # looping through the tasks list\n",
    "        # remove from \"tasks_list\" the task i with earliest start time\n",
    "        task = heapq.heappop(tasks_list)\n",
    "\n",
    "        if machines_available and task[0] >= machines_available[0][0]:\n",
    "            # top element is deleted from \"machines_available\"\n",
    "            machine_in_use = heapq.heappop(machines_available)\n",
    "\n",
    "            # schedule task on the current machine\n",
    "            machine_in_use = (task[1], machine_in_use[1])\n",
    "\n",
    "        else:\n",
    "            # if there's a conflicting task, increment the\n",
    "            # counter for machines and store this task's\n",
    "            # end time on heap \"machines_available\"\n",
    "            optimal_machines += 1\n",
    "            machine_in_use = (task[1], optimal_machines)\n",
    "\n",
    "        heapq.heappush(machines_available, machine_in_use)\n",
    "\n",
    "    # return the total number of machines used by \"tasks_list\" tasks\n",
    "    return optimal_machines\n"
   ]
  }
 ],
 "metadata": {
  "kernelspec": {
   "display_name": "Python 3.8.10 64-bit",
   "language": "python",
   "name": "python3"
  },
  "language_info": {
   "name": "python",
   "version": "3.8.10"
  },
  "orig_nbformat": 4,
  "vscode": {
   "interpreter": {
    "hash": "916dbcbb3f70747c44a77c7bcd40155683ae19c65e1c03b4aa3499c5328201f1"
   }
  }
 },
 "nbformat": 4,
 "nbformat_minor": 2
}
