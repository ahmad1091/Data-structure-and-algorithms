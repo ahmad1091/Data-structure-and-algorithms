{
 "cells": [
  {
   "cell_type": "markdown",
   "metadata": {},
   "source": [
    "## 295. Find Median from Data Stream\n",
    "`Hard`\n",
    "\n",
    "The `median` is the middle value in an ordered integer list. If the size of the list is even, there is no middle value, and the median is the mean of the two middle values.\n",
    "\n",
    "For example, for `arr = [2,3,4]`, the median is `3`.\n",
    "For example, for `arr = [2,3]`, the median is `(2 + 3) / 2 = 2.5`.\n",
    "Implement the MedianFinder class:\n",
    "\n",
    "`MedianFinder()` initializes the `MedianFinder` object.\n",
    "`void addNum(int num)` adds the integer `num` from the data stream to the data structure.\n",
    "`double findMedian()` returns the median of all elements so far. Answers within `10-5` of the actual answer will be accepted.\n",
    " \n",
    " **Example 1:**\n",
    "\n",
    "```\n",
    "Input\n",
    "[\"MedianFinder\", \"addNum\", \"addNum\", \"findMedian\", \"addNum\", \"findMedian\"]\n",
    "[[], [1], [2], [], [3], []]\n",
    "Output\n",
    "[null, null, null, 1.5, null, 2.0]\n",
    "\n",
    "Explanation\n",
    "MedianFinder medianFinder = new MedianFinder();\n",
    "medianFinder.addNum(1);    // arr = [1]\n",
    "medianFinder.addNum(2);    // arr = [1, 2]\n",
    "medianFinder.findMedian(); // return 1.5 (i.e., (1 + 2) / 2)\n",
    "medianFinder.addNum(3);    // arr[1, 2, 3]\n",
    "medianFinder.findMedian(); // return 2.0 \n",
    "```\n"
   ]
  },
  {
   "cell_type": "markdown",
   "metadata": {},
   "source": []
  },
  {
   "cell_type": "code",
   "execution_count": null,
   "metadata": {},
   "outputs": [],
   "source": [
    "# sol: 1 brut force\n",
    "class MedianFinder:\n",
    "\n",
    "    def __init__(self):\n",
    "        self.minHeap = []\n",
    "        self.maxHeap = []\n",
    "\n",
    "    def addNum(self, num: int) -> None:\n",
    "        a = self.minHeap\n",
    "        a.append(num)\n",
    "        self.minHeap = sorted(a)\n",
    "\n",
    "    def findMedian(self) -> float:\n",
    "        n = len(self.minHeap) - 1\n",
    "        if len(self.minHeap) % 2:\n",
    "            return self.minHeap[n // 2]\n",
    "        else:\n",
    "            a, b = n // 2, n // 2 +1\n",
    "            return( self.minHeap[a] + self.minHeap[b]) / 2"
   ]
  },
  {
   "cell_type": "code",
   "execution_count": 1,
   "metadata": {},
   "outputs": [],
   "source": [
    "# sol:2\n",
    "class MedianFinder:\n",
    "\n",
    "    def __init__(self):\n",
    "        self.minHeap = []\n",
    "        self.maxHeap = []\n",
    "\n",
    "    def addNum(self, num: int) -> None:\n",
    "        heappush(self.minHeap, num)\n",
    "        heappush(self.maxHeap, -heappop(self.minHeap))\n",
    "        if len(self.maxHeap) - len(self.minHeap) > 1:\n",
    "            heappush(self.minHeap, -heappop(self.maxHeap))\n",
    "\n",
    "    def findMedian(self) -> float:\n",
    "        if len(self.maxHeap) > len(self.minHeap):\n",
    "            return -self.maxHeap[0]\n",
    "        \n",
    "        return(self.minHeap[0] - self.maxHeap[0]) / 2\n",
    "        \n",
    "# Your MedianFinder object will be instantiated and called as such:\n",
    "# obj = MedianFinder()\n",
    "# obj.addNum(num)\n",
    "# param_2 = obj.findMedian()"
   ]
  }
 ],
 "metadata": {
  "kernelspec": {
   "display_name": "Python 3.8.10 64-bit",
   "language": "python",
   "name": "python3"
  },
  "language_info": {
   "codemirror_mode": {
    "name": "ipython",
    "version": 3
   },
   "file_extension": ".py",
   "mimetype": "text/x-python",
   "name": "python",
   "nbconvert_exporter": "python",
   "pygments_lexer": "ipython3",
   "version": "3.8.10"
  },
  "orig_nbformat": 4,
  "vscode": {
   "interpreter": {
    "hash": "916dbcbb3f70747c44a77c7bcd40155683ae19c65e1c03b4aa3499c5328201f1"
   }
  }
 },
 "nbformat": 4,
 "nbformat_minor": 2
}
