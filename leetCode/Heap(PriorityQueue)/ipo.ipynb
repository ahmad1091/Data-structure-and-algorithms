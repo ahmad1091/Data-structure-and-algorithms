{
 "cells": [
  {
   "cell_type": "markdown",
   "metadata": {},
   "source": [
    "## 502. IPO\n",
    "`Hard`\n",
    "\n",
    "Suppose LeetCode will start its **IPO** soon. In order to sell a good price of its shares to Venture Capital, LeetCode would like to work on some projects to increase its capital before the **IPO**. Since it has limited resources, it can only finish at most `k` distinct projects before the **IPO**. Help LeetCode design the best way to maximize its total capital after finishing at most `k` distinct projects.\n",
    "\n",
    "You are given `n` projects where the `ith` project has a pure profit `profits[i]` and a minimum capital of `capital[i]` is needed to start it.\n",
    "\n",
    "Initially, you have `w` capital. When you finish a project, you will obtain its pure profit and the profit will be added to your total capital.\n",
    "\n",
    "Pick a list of at **most** `k` distinct projects from given projects to **maximize your final capital**, and return the final maximized capital.\n",
    "\n",
    "The answer is guaranteed to fit in a 32-bit signed integer.\n",
    "\n",
    "**Example 1:**\n",
    "\n",
    "**Input**: k = 2, w = 0, profits = [1,2,3], capital = [0,1,1]\n",
    "\n",
    "**Output**: 4\n",
    "\n",
    "**Explanation**: Since your initial capital is 0, you can only start the project indexed 0.\n",
    "After finishing it you will obtain profit 1 and your capital becomes 1.\n",
    "With capital 1, you can either start the project indexed 1 or the project indexed 2.\n",
    "Since you can choose at most 2 projects, you need to finish the project indexed 2 to get the maximum capital.\n",
    "Therefore, output the final maximized capital, which is 0 + 1 + 3 = 4.\n",
    "\n"
   ]
  },
  {
   "cell_type": "markdown",
   "metadata": {},
   "source": []
  },
  {
   "cell_type": "code",
   "execution_count": null,
   "metadata": {},
   "outputs": [],
   "source": [
    "class Solution:\n",
    "    def findMaximizedCapital(self, k: int, w: int, profits: List[int], capital: List[int]) -> int:\n",
    "        res = 0\n",
    "        count = 0\n",
    "        while k > 0 and count < len(profits):\n",
    "            for i in range(len(profits) - 1, -1, -1):\n",
    "                if w >= capital[i]:\n",
    "                    capital[i] = float('inf')\n",
    "                    w += profits[i]\n",
    "                    res += profits[i]\n",
    "                    count += 1\n",
    "                    k -= 1\n",
    "                    break\n",
    "        return res"
   ]
  },
  {
   "cell_type": "code",
   "execution_count": 1,
   "metadata": {},
   "outputs": [],
   "source": [
    "# sol 2:\n",
    "class Solution:\n",
    "    def findMaximizedCapital(self, k: int, w: int, profits: List[int], capital: List[int]) -> int:\n",
    "        minHeap = [(c, p) for c, p in zip(capital, profits)]\n",
    "        heapify(minHeap)\n",
    "        maxHeap = []\n",
    "        while k:\n",
    "            while minHeap and minHeap[0][0] <= w:\n",
    "                heappush(maxHeap, -heappop(minHeap)[1])\n",
    "\n",
    "            if not maxHeap: break\n",
    "\n",
    "            w -= heappop(maxHeap)\n",
    "            k -= 1\n",
    "\n",
    "        return w"
   ]
  }
 ],
 "metadata": {
  "kernelspec": {
   "display_name": "Python 3.8.10 64-bit",
   "language": "python",
   "name": "python3"
  },
  "language_info": {
   "codemirror_mode": {
    "name": "ipython",
    "version": 3
   },
   "file_extension": ".py",
   "mimetype": "text/x-python",
   "name": "python",
   "nbconvert_exporter": "python",
   "pygments_lexer": "ipython3",
   "version": "3.8.10"
  },
  "orig_nbformat": 4,
  "vscode": {
   "interpreter": {
    "hash": "916dbcbb3f70747c44a77c7bcd40155683ae19c65e1c03b4aa3499c5328201f1"
   }
  }
 },
 "nbformat": 4,
 "nbformat_minor": 2
}
