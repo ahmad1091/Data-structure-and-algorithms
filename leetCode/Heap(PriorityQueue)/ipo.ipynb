{
 "cells": [
  {
   "cell_type": "markdown",
   "metadata": {},
   "source": [
    "## 502. IPO\n",
    "`Hard`\n",
    "\n",
    "Suppose LeetCode will start its **IPO** soon. In order to sell a good price of its shares to Venture Capital, LeetCode would like to work on some projects to increase its capital before the **IPO**. Since it has limited resources, it can only finish at most `k` distinct projects before the **IPO**. Help LeetCode design the best way to maximize its total capital after finishing at most `k` distinct projects.\n",
    "\n",
    "You are given `n` projects where the `ith` project has a pure profit `profits[i]` and a minimum capital of `capital[i]` is needed to start it.\n",
    "\n",
    "Initially, you have `w` capital. When you finish a project, you will obtain its pure profit and the profit will be added to your total capital.\n",
    "\n",
    "Pick a list of at **most** `k` distinct projects from given projects to **maximize your final capital**, and return the final maximized capital.\n",
    "\n",
    "The answer is guaranteed to fit in a 32-bit signed integer.\n",
    "\n",
    "**Example 1:**\n",
    "\n",
    "```\n",
    "**Input**: k = 2, w = 0, profits = [1,2,3], capital = [0,1,1]\n",
    "\n",
    "**Output**: 4\n",
    "\n",
    "**Explanation**: Since your initial capital is 0, you can only start the project indexed 0.\n",
    "After finishing it you will obtain profit 1 and your capital becomes 1.\n",
    "With capital 1, you can either start the project indexed 1 or the project indexed 2.\n",
    "Since you can choose at most 2 projects, you need to finish the project indexed 2 to get the maximum capital.\n",
    "Therefore, output the final maximized capital, which is 0 + 1 + 3 = 4.\n",
    "```\n"
   ]
  },
  {
   "cell_type": "markdown",
   "metadata": {},
   "source": []
  },
  {
   "cell_type": "code",
   "execution_count": null,
   "metadata": {},
   "outputs": [],
   "source": [
    "class Solution:\n",
    "    def findMaximizedCapital(self, k: int, w: int, profits: List[int], capital: List[int]) -> int:\n",
    "        res = 0\n",
    "        count = 0\n",
    "        while k > 0 and count < len(profits):\n",
    "            for i in range(len(profits) - 1, -1, -1):\n",
    "                if w >= capital[i]:\n",
    "                    capital[i] = float('inf')\n",
    "                    w += profits[i]\n",
    "                    res += profits[i]\n",
    "                    count += 1\n",
    "                    k -= 1\n",
    "                    break\n",
    "        return res"
   ]
  },
  {
   "cell_type": "code",
   "execution_count": null,
   "metadata": {},
   "outputs": [],
   "source": []
  }
 ],
 "metadata": {
  "language_info": {
   "name": "python"
  },
  "orig_nbformat": 4
 },
 "nbformat": 4,
 "nbformat_minor": 2
}
