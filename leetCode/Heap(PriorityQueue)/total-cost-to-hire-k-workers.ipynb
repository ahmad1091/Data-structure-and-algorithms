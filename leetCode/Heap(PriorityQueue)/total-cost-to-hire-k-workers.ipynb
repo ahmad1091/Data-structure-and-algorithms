{
 "cells": [
  {
   "cell_type": "markdown",
   "metadata": {},
   "source": [
    "# 2462. Total Cost to Hire K Workers\n",
    "\n",
    "You are given a **0-indexed** integer array `costs` where `costs[i]` is the cost of hiring the ith worker.\n",
    "\n",
    "You are also given two integers `k` and `candidates`. We want to hire exactly `k` workers according to the following rules:\n",
    "\n",
    "- You will run `k` sessions and hire exactly one worker in each session.\n",
    "- In each hiring session, choose the worker with the lowest cost from either the first `candidates` workers or the last `candidates` workers. Break the tie by the smallest index.\n",
    "    - For example, if `costs = [3,2,7,7,1,2`] and `candidates = 2,` then in the first hiring session, we will choose the `4th` worker because they have the lowest cost `[3,2,7,7,1,2]`.\n",
    "    - In the second hiring session, we will choose `1st` worker because they have the same lowest cost as `4th` worker but they have the smallest index `[3,2,7,7,2]`. Please note that the indexing may be changed in the process.\n",
    "- If there are fewer than candidates workers remaining, choose the worker with the lowest cost among them. Break the tie by the smallest index.\n",
    "- A worker can only be chosen once.\n",
    "\n",
    "Return *the total cost to hire exactly* `k` workers.\n",
    "\n",
    " \n",
    "\n",
    "**Example 1:**\n",
    "```\n",
    "Input: costs = [17,12,10,2,7,2,11,20,8], k = 3, candidates = 4\n",
    "Output: 11\n",
    "Explanation: We hire 3 workers in total. The total cost is initially 0.\n",
    "- In the first hiring round we choose the worker from [17,12,10,2,7,2,11,20,8]. The lowest cost is 2, and we break the tie by the smallest index, which is 3. The total cost = 0 + 2 = 2.\n",
    "- In the second hiring round we choose the worker from [17,12,10,7,2,11,20,8]. The lowest cost is 2 (index 4). The total cost = 2 + 2 = 4.\n",
    "- In the third hiring round we choose the worker from [17,12,10,7,11,20,8]. The lowest cost is 7 (index 3). The total cost = 4 + 7 = 11. Notice that the worker with index 3 was common in the first and last four workers.\n",
    "The total hiring cost is 11.\n",
    "```\n",
    "---\n",
    "**Example 2:**\n",
    "```\n",
    "Input: costs = [1,2,4,1], k = 3, candidates = 3\n",
    "Output: 4\n",
    "Explanation: We hire 3 workers in total. The total cost is initially 0.\n",
    "- In the first hiring round we choose the worker from [1,2,4,1]. The lowest cost is 1, and we break the tie by the smallest index, which is 0. The total cost = 0 + 1 = 1. Notice that workers with index 1 and 2 are common in the first and last 3 workers.\n",
    "- In the second hiring round we choose the worker from [2,4,1]. The lowest cost is 1 (index 2). The total cost = 1 + 1 = 2.\n",
    "- In the third hiring round there are less than three candidates. We choose the worker from the remaining workers [2,4]. The lowest cost is 2 (index 0). The total cost = 2 + 2 = 4.\n",
    "The total hiring cost is 4.\n",
    "``` \n",
    "---\n",
    "**Constraints:**\n",
    "\n",
    "- `1 <= costs.length <= 105` \n",
    "- `1 <= costs[i] <= 105`\n",
    "- `1 <= k, candidates <= costs.length`"
   ]
  },
  {
   "cell_type": "code",
   "execution_count": null,
   "metadata": {},
   "outputs": [],
   "source": [
    "class Solution:\n",
    "    def totalCost(self, costs: List[int], k: int, candidates: int) -> int:\n",
    "        min_heap = []\n",
    "        i = candidates - 1\n",
    "        j = len(costs) - candidates\n",
    "        \n",
    "        for index in range(candidates):\n",
    "            min_heap.append((costs[index], index))\n",
    "\n",
    "        for index in range(j, len(costs)):\n",
    "            if index > i:\n",
    "                min_heap.append((costs[index], index))\n",
    "\n",
    "        heapify(min_heap)\n",
    "        total_cost = 0\n",
    "        for _ in range(k):\n",
    "            cost, index = heappop(min_heap)\n",
    "            total_cost += cost\n",
    "            if index <= i:\n",
    "                i += 1\n",
    "                if i < j:\n",
    "                    heappush(min_heap, (costs[i], i))\n",
    "            if index >= j:\n",
    "                j -= 1\n",
    "                if j > i:\n",
    "                    heappush(min_heap, (costs[j], j))\n",
    "\n",
    "        return total_cost"
   ]
  }
 ],
 "metadata": {
  "kernelspec": {
   "display_name": "Python 3.8.10 64-bit",
   "language": "python",
   "name": "python3"
  },
  "language_info": {
   "name": "python",
   "version": "3.8.10"
  },
  "orig_nbformat": 4,
  "vscode": {
   "interpreter": {
    "hash": "916dbcbb3f70747c44a77c7bcd40155683ae19c65e1c03b4aa3499c5328201f1"
   }
  }
 },
 "nbformat": 4,
 "nbformat_minor": 2
}
