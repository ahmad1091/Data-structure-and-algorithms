{
 "cells": [
  {
   "cell_type": "markdown",
   "metadata": {},
   "source": [
    "# 572. Subtree of Another Tree\n",
    "\n",
    "Given the roots of two binary trees `root` and `subRoot`, return true if there is a subtree of `root` with the same structure and node values of `subRoot` and `false` otherwise.\n",
    "\n",
    "A subtree of a binary tree `tree` is a tree that consists of a node in `tree` and all of this node's descendants. The tree `tree` could also be considered as a subtree of itself.\n",
    "\n",
    " \n",
    "\n",
    "**Example 1:**\n",
    "\n",
    "![image](https://assets.leetcode.com/uploads/2021/04/28/subtree1-tree.jpg)\n",
    "```\n",
    "Input: root = [3,4,5,1,2], subRoot = [4,1,2]\n",
    "Output: true\n",
    "```\n",
    "---\n",
    "**Example 2:**\n",
    "\n",
    "![image](https://assets.leetcode.com/uploads/2021/04/28/subtree2-tree.jpg)\n",
    "```\n",
    "Input: root = [3,4,5,1,2,null,null,null,null,0], subRoot = [4,1,2]\n",
    "Output: false\n",
    "```\n",
    "---\n",
    "**Constraints:**\n",
    "\n",
    "- The number of nodes in the `root` tree is in the range `[1, 2000]`.\n",
    "- The number of nodes in the `subRoot` tree is in the range `[1, 1000]`.\n",
    "- `-104 <= root.val <= 104`\n",
    "- `-104 <= subRoot.val <= 104`"
   ]
  },
  {
   "cell_type": "code",
   "execution_count": null,
   "metadata": {},
   "outputs": [],
   "source": [
    "# Definition for a binary tree node.\n",
    "# class TreeNode:\n",
    "#     def __init__(self, val=0, left=None, right=None):\n",
    "#         self.val = val\n",
    "#         self.left = left\n",
    "#         self.right = right\n",
    "class Solution:\n",
    "    def isSubtree(self, root: Optional[TreeNode], subRoot: Optional[TreeNode]) -> bool:\n",
    "        if not subRoot: return True \n",
    "        if not root: return False\n",
    "    \n",
    "        if self.sameTree(root, subRoot):\n",
    "            return True\n",
    "\n",
    "        return self.isSubtree(root.left, subRoot) or self.isSubtree(root.right, subRoot)\n",
    "    def sameTree(self, p, q):\n",
    "        if q == p: return True\n",
    "        if not q or not p or q.val != p.val:\n",
    "            return False\n",
    "        return self.sameTree(p.left, q.left) and self.sameTree(p.right, q.right)"
   ]
  }
 ],
 "metadata": {
  "language_info": {
   "name": "python"
  },
  "orig_nbformat": 4
 },
 "nbformat": 4,
 "nbformat_minor": 2
}
