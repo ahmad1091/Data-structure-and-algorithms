{
 "cells": [
  {
   "cell_type": "markdown",
   "metadata": {},
   "source": [
    "# 102. Binary Tree Level Order Traversal\n",
    "\n",
    "Given the `root` of a binary tree, return the level order traversal of its nodes' values. (i.e., from left to right, level by level).\n",
    "\n",
    " \n",
    "\n",
    "**Example 1:**\n",
    "\n",
    "![image](https://assets.leetcode.com/uploads/2021/02/19/tree1.jpg)\n",
    "\n",
    "```\n",
    "Input: root = [3,9,20,null,null,15,7]\n",
    "Output: [[3],[9,20],[15,7]]\n",
    "```\n",
    "\n",
    "---\n",
    "\n",
    "**Example 2:**\n",
    "\n",
    "```\n",
    "Input: root = [1]\n",
    "Output: [[1]]\n",
    "```\n",
    "\n",
    "---\n",
    "\n",
    "**Example 3:**\n",
    "\n",
    "```\n",
    "Input: root = []\n",
    "Output: []\n",
    "```\n",
    " \n",
    "---\n",
    "\n",
    "**Constraints:**\n",
    "\n",
    "- `The number of nodes in the tree is in the range [0, 2000].`\n",
    "- `-1000 <= Node.val <= 1000`"
   ]
  },
  {
   "cell_type": "code",
   "execution_count": null,
   "metadata": {},
   "outputs": [],
   "source": [
    "# Definition for a binary tree node.\n",
    "# class TreeNode:\n",
    "#     def __init__(self, val=0, left=None, right=None):\n",
    "#         self.val = val\n",
    "#         self.left = left\n",
    "#         self.right = right\n",
    "class Solution:\n",
    "    def levelOrder(self, root: Optional[TreeNode]) -> List[List[int]]:\n",
    "        q = deque([root])\n",
    "        res = []\n",
    "        while q:\n",
    "            levelNodes = []\n",
    "            qlen = len(q)\n",
    "            for i in range(qlen):\n",
    "                node = q.popleft()\n",
    "                if node:\n",
    "                    levelNodes.append(node.val)\n",
    "                    q.append(node.left)\n",
    "                    q.append(node.right)\n",
    "            if levelNodes:\n",
    "                res.append(levelNodes)\n",
    "\n",
    "        return res\n"
   ]
  }
 ],
 "metadata": {
  "language_info": {
   "name": "python"
  },
  "orig_nbformat": 4
 },
 "nbformat": 4,
 "nbformat_minor": 2
}
