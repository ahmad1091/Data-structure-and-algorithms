{
 "cells": [
  {
   "cell_type": "markdown",
   "metadata": {},
   "source": [
    "# 100. Same Tree\n",
    "\n",
    "Given the roots of two binary trees `p` and `q`, write a function to check if they are the same or not.\n",
    "\n",
    "Two binary trees are considered the same if they are structurally identical, and the nodes have the same value.\n",
    "\n",
    " \n",
    "\n",
    "**Example 1:**\n",
    "\n",
    "![image](https://assets.leetcode.com/uploads/2020/12/20/ex1.jpg)\n",
    "```\n",
    "Input: p = [1,2,3], q = [1,2,3]\n",
    "Output: true\n",
    "```\n",
    "---\n",
    "**Example 2:**\n",
    "\n",
    "![image](https://assets.leetcode.com/uploads/2020/12/20/ex2.jpg)\n",
    "```\n",
    "Input: p = [1,2], q = [1,null,2]\n",
    "Output: false\n",
    "```\n",
    "---\n",
    "**Example 3:**\n",
    "\n",
    "![image](https://assets.leetcode.com/uploads/2020/12/20/ex3.jpg)\n",
    "```\n",
    "Input: p = [1,2,1], q = [1,1,2]\n",
    "Output: false\n",
    "```\n",
    "---\n",
    "**Constraints:**\n",
    "\n",
    "- The number of nodes in both trees is in the range `[0, 100]`.\n",
    "- `-104 <= Node.val <= 104`"
   ]
  },
  {
   "cell_type": "code",
   "execution_count": null,
   "metadata": {},
   "outputs": [],
   "source": [
    "# Definition for a binary tree node.\n",
    "# class TreeNode:\n",
    "#     def __init__(self, val=0, left=None, right=None):\n",
    "#         self.val = val\n",
    "#         self.left = left\n",
    "#         self.right = right\n",
    "class Solution:\n",
    "    def isSameTree(self, p: Optional[TreeNode], q: Optional[TreeNode]) -> bool:\n",
    "        if q == p: \n",
    "            return True\n",
    "        if  not q or not p or p.val != q.val:\n",
    "            return False \n",
    "\n",
    "        return self.isSameTree(p.left, q.left) and self.isSameTree(p.right, q.right)\n",
    "        "
   ]
  }
 ],
 "metadata": {
  "language_info": {
   "name": "python"
  },
  "orig_nbformat": 4
 },
 "nbformat": 4,
 "nbformat_minor": 2
}
