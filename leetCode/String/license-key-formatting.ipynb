{
 "cells": [
  {
   "cell_type": "markdown",
   "metadata": {},
   "source": [
    "# 482. License Key Formatting\n",
    "\n",
    "You are given a license key represented as a string `s` that consists of only alphanumeric characters and dashes. The string is separated into `n + 1` groups by `n` dashes. You are also given an integer `k`.\n",
    "\n",
    "We want to reformat the string `s` such that each group contains exactly `k` characters, except for the first group, which could be shorter than k but still must contain at least one character. Furthermore, there must be a dash inserted between two groups, and you should convert all lowercase letters to uppercase.\n",
    "\n",
    "Return the reformatted license key.\n",
    "\n",
    " \n",
    "\n",
    "**Example 1:**\n",
    "```\n",
    "Input: s = \"5F3Z-2e-9-w\", k = 4\n",
    "Output: \"5F3Z-2E9W\"\n",
    "Explanation: The string s has been split into two parts, each part has 4 characters.\n",
    "Note that the two extra dashes are not needed and can be removed.\n",
    "```\n",
    "---\n",
    "**Example 2:**\n",
    "```\n",
    "Input: s = \"2-5g-3-J\", k = 2\n",
    "Output: \"2-5G-3J\"\n",
    "Explanation: The string s has been split into three parts, each part has 2 characters except the first part as it could be shorter as mentioned above.\n",
    "```\n",
    "---\n",
    "**Constraints:**\n",
    "\n",
    "- `1 <= s.length <= 105`\n",
    "- `s` consists of English letters, digits, and dashes `'-'`.\n",
    "- `1 <= k <= 104`"
   ]
  }
 ],
 "metadata": {
  "language_info": {
   "name": "python"
  },
  "orig_nbformat": 4
 },
 "nbformat": 4,
 "nbformat_minor": 2
}
