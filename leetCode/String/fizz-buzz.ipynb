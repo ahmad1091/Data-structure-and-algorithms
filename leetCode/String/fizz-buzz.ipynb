{
 "cells": [
  {
   "cell_type": "markdown",
   "metadata": {},
   "source": [
    "# 412. Fizz Buzz\n",
    "\n",
    "Given an integer `n`, return a string array answer (1-indexed) where:\n",
    "\n",
    "`answer[i] == \"FizzBuzz\"` if `i` is divisible by `3` and `5`.\n",
    "`answer[i] == \"Fizz\"` if `i` is divisible by `3`.\n",
    "`answer[i] == \"Buzz\"` if `i` is divisible by `5`.\n",
    "`answer[i] == i` (as a string) if none of the above conditions are true.\n",
    "\n",
    "-------------\n",
    "\n",
    "**Example 1:**\n",
    "\n",
    "**Input:** `n = 3`\n",
    "\n",
    "**Output:** `[\"1\",\"2\",\"Fizz\"]`\n",
    "\n",
    "-------------\n",
    "\n",
    "**Example 2:**\n",
    "\n",
    "**Input:** `n = 5`\n",
    "\n",
    "**Output:** `[\"1\",\"2\",\"Fizz\",\"4\",\"Buzz\"]`\n",
    "\n",
    "-------------\n",
    "\n",
    "**Example 3:**\n",
    "\n",
    "**Input:** `n = 15`\n",
    "\n",
    "**Output:** `[\"1\",\"2\",\"Fizz\",\"4\",\"Buzz\",\"Fizz\",\"7\",\"8\",\"Fizz\",\"Buzz\",\"11\",\"Fizz\",\"13\",\"14\",\"FizzBuzz\"]`\n",
    " \n"
   ]
  },
  {
   "cell_type": "code",
   "execution_count": null,
   "metadata": {},
   "outputs": [],
   "source": [
    "class Solution:\n",
    "    def fizzBuzz(self, n: int) -> List[str]:\n",
    "        ans = []\n",
    "        for i in range(1, n + 1):\n",
    "            if i % 15 == 0:\n",
    "                ans.append('FizzBuzz')\n",
    "            elif i % 3 == 0:\n",
    "                ans.append('Fizz')\n",
    "            elif i % 5 == 0:\n",
    "                ans.append('Buzz')\n",
    "            else:\n",
    "                ans.append(str(i))\n",
    "        return ans"
   ]
  }
 ],
 "metadata": {
  "language_info": {
   "name": "python"
  },
  "orig_nbformat": 4
 },
 "nbformat": 4,
 "nbformat_minor": 2
}
