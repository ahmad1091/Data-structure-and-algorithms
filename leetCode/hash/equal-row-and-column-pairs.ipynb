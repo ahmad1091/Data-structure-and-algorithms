{
 "cells": [
  {
   "cell_type": "markdown",
   "metadata": {},
   "source": [
    "# 2352. Equal Row and Column Pairs\n",
    "\n",
    "Given a **0-indexed** `n x n` integer matrix `grid`, return the number of pairs `(ri, cj`) such that row `ri` and column `cj` are equal.\n",
    "\n",
    "A row and column pair is considered equal if they contain the same elements in the same order (i.e., an equal array).\n",
    "\n",
    " \n",
    "\n",
    "**Example 1:**\n",
    "\n",
    "![image](https://assets.leetcode.com/uploads/2022/06/01/ex1.jpg)\n",
    "```\n",
    "Input: grid = [[3,2,1],[1,7,6],[2,7,7]]\n",
    "Output: 1\n",
    "Explanation: There is 1 equal row and column pair:\n",
    "- (Row 2, Column 1): [2,7,7]\n",
    "```\n",
    "---\n",
    "**Example 2:**\n",
    "\n",
    "![image](https://assets.leetcode.com/uploads/2022/06/01/ex2.jpg)\n",
    "```\n",
    "Input: grid = [[3,1,2,2],[1,4,4,5],[2,4,2,2],[2,4,2,2]]\n",
    "Output: 3\n",
    "Explanation: There are 3 equal row and column pairs:\n",
    "- (Row 0, Column 0): [3,1,2,2]\n",
    "- (Row 2, Column 2): [2,4,2,2]\n",
    "- (Row 3, Column 2): [2,4,2,2]\n",
    " ```\n",
    " ---\n",
    "\n",
    "**Constraints:**\n",
    "\n",
    "- `n == grid.length == grid[i].length`\n",
    "- `1 <= n <= 200`\n",
    "- `1 <= grid[i][j] <= 105`"
   ]
  },
  {
   "cell_type": "code",
   "execution_count": null,
   "metadata": {},
   "outputs": [],
   "source": [
    "class Solution:\n",
    "    def equalPairs(self, grid: List[List[int]]) -> int:\n",
    "        hashTup = {}\n",
    "        for a in grid:\n",
    "            hashTup[tuple(a)] = hashTup.get(tuple(a), 0) + 1\n",
    "\n",
    "        count = 0\n",
    "        for i in range(len(grid)):\n",
    "            arr = []\n",
    "            for j in range(len(grid)):\n",
    "                arr.append(grid[j][i])\n",
    "            if tuple(arr) in hashTup:\n",
    "                count += hashTup[tuple(arr) ]\n",
    "            \n",
    "        return count "
   ]
  }
 ],
 "metadata": {
  "language_info": {
   "name": "python"
  },
  "orig_nbformat": 4
 },
 "nbformat": 4,
 "nbformat_minor": 2
}
