{
 "cells": [
  {
   "cell_type": "markdown",
   "metadata": {},
   "source": [
    "# 219. Contains Duplicate II\n",
    "\n",
    "Given an integer array `nums` and an integer `k`, return `true` if there are two **distinct indices** `i` and `j` in the array such that `nums[i] == nums[j]` and `abs(i - j) <= k`.\n",
    "\n",
    " \n",
    "\n",
    "**Example 1:**\n",
    "```\n",
    "Input: nums = [1,2,3,1], k = 3\n",
    "Output: true\n",
    "```\n",
    "---\n",
    "**Example 2:**\n",
    "```\n",
    "Input: nums = [1,0,1,1], k = 1\n",
    "Output: true\n",
    "```\n",
    "---\n",
    "**Example 3:**\n",
    "```\n",
    "Input: nums = [1,2,3,1,2,3], k = 2\n",
    "Output: false\n",
    "```\n",
    "--- \n",
    "\n",
    "**Constraints:**\n",
    "\n",
    "- `1 <= nums.length <= 10^5`\n",
    "- `-10^9 <= nums[i] <= 10^9`\n",
    "- `0 <= k <= 10^5`"
   ]
  },
  {
   "cell_type": "code",
   "execution_count": null,
   "metadata": {},
   "outputs": [],
   "source": [
    "class Solution:\n",
    "    def containsNearbyDuplicate(self, nums: List[int], k: int) -> bool:\n",
    "        index_table = {}\n",
    "\n",
    "        for i, n in enumerate(nums):\n",
    "            if n in index_table:\n",
    "                if abs(index_table[n] - i) <= k:\n",
    "                    return True\n",
    "            index_table[n] = i\n",
    "\n",
    "        return False\n",
    "            "
   ]
  }
 ],
 "metadata": {
  "language_info": {
   "name": "python"
  },
  "orig_nbformat": 4
 },
 "nbformat": 4,
 "nbformat_minor": 2
}
