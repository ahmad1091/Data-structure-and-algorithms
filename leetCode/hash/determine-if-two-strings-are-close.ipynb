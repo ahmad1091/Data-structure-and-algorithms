{
 "cells": [
  {
   "cell_type": "markdown",
   "metadata": {},
   "source": [
    "# 1657. Determine if Two Strings Are Close\n",
    "\n",
    "Two strings are considered close if you can attain one from the other using the following operations:\n",
    "\n",
    "- Operation 1: Swap any two **existing** characters.\n",
    "    - For example, `abcde -> aecdb`\n",
    "- Operation 2: Transform **every** occurrence of one **existing** character into another **existing** character, and do the same with the other character.\n",
    "    - For example, `aacabb -> bbcbaa` (all `a`'s turn into `b`'s, and all `b`'s turn into `a`'s)\n",
    "You can use the operations on either string as many times as necessary.\n",
    "\n",
    "Given two strings, `word1` and `word2`, return `true` if `word1` and `word2` are **close**, and `false` otherwise.\n",
    "\n",
    " \n",
    "\n",
    "**Example 1:**\n",
    "```\n",
    "Input: word1 = \"abc\", word2 = \"bca\"\n",
    "Output: true\n",
    "Explanation: You can attain word2 from word1 in 2 operations.\n",
    "Apply Operation 1: \"abc\" -> \"acb\"\n",
    "Apply Operation 1: \"acb\" -> \"bca\"\n",
    "```\n",
    "---\n",
    "**Example 2:**\n",
    "```\n",
    "Input: word1 = \"a\", word2 = \"aa\"\n",
    "Output: false\n",
    "Explanation: It is impossible to attain word2 from word1, or vice versa, in any number of operations.\n",
    "```\n",
    "---\n",
    "**Example 3:**\n",
    "```\n",
    "Input: word1 = \"cabbba\", word2 = \"abbccc\"\n",
    "Output: true\n",
    "Explanation: You can attain word2 from word1 in 3 operations.\n",
    "Apply Operation 1: \"cabbba\" -> \"caabbb\"\n",
    "Apply Operation 2: \"caabbb\" -> \"baaccc\"\n",
    "Apply Operation 2: \"baaccc\" -> \"abbccc\"\n",
    " ```\n",
    " ---\n",
    "\n",
    "**Constraints:**\n",
    "\n",
    "- `1 <= word1.length, word2.length <= 105`\n",
    "- `word1` and `word2` contain only lowercase English letters."
   ]
  },
  {
   "cell_type": "code",
   "execution_count": null,
   "metadata": {},
   "outputs": [],
   "source": [
    "class Solution:\n",
    "    def closeStrings(self, word1: str, word2: str) -> bool:\n",
    "        cnt1, cnt2 = Counter(word1), Counter(word2)\n",
    "        return sorted(cnt1.values()) == sorted(cnt2.values()) and set(word1) == set(word2)"
   ]
  }
 ],
 "metadata": {
  "kernelspec": {
   "display_name": "Python 3.8.10 64-bit",
   "language": "python",
   "name": "python3"
  },
  "language_info": {
   "name": "python",
   "version": "3.8.10"
  },
  "orig_nbformat": 4,
  "vscode": {
   "interpreter": {
    "hash": "916dbcbb3f70747c44a77c7bcd40155683ae19c65e1c03b4aa3499c5328201f1"
   }
  }
 },
 "nbformat": 4,
 "nbformat_minor": 2
}
