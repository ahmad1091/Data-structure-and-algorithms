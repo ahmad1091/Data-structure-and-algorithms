{
 "cells": [
  {
   "cell_type": "markdown",
   "metadata": {},
   "source": [
    "# 166. Fraction to Recurring Decimal\n",
    "\n",
    "Given two integers representing the `numerator` and `denominator` of a fraction, return the fraction in string format.\n",
    "\n",
    "If the fractional part is repeating, enclose the repeating part in parentheses.\n",
    "\n",
    "If multiple answers are possible, return **any of them**.\n",
    "\n",
    "It is **guaranteed** that the length of the answer string is less than `10^4` for all the given inputs.\n",
    "\n",
    " \n",
    "\n",
    "**Example 1:**\n",
    "\n",
    "```\n",
    "Input: numerator = 1, denominator = 2\n",
    "Output: \"0.5\"\n",
    "```\n",
    "---\n",
    "**Example 2:**\n",
    "```\n",
    "Input: numerator = 2, denominator = 1\n",
    "Output: \"2\"\n",
    "```\n",
    "---\n",
    "**Example 3:**\n",
    "```\n",
    "Input: numerator = 4, denominator = 333\n",
    "Output: \"0.(012)\"\n",
    "```\n",
    "---\n",
    "**Constraints:**\n",
    "\n",
    "- `-2^31 <= numerator, denominator <= 2^31 - 1`\n",
    "- `denominator != 0`"
   ]
  },
  {
   "cell_type": "code",
   "execution_count": null,
   "metadata": {},
   "outputs": [],
   "source": [
    "class Solution:\n",
    "    def fractionToDecimal(self, numerator: int, denominator: int) -> str:\n",
    "        if not numerator: return '0'\n",
    "        res = []\n",
    "        negative = (numerator > 0) ^ (denominator > 0)\n",
    "        if negative:\n",
    "            res.append('-')\n",
    "        num, den = abs(numerator), abs(denominator)\n",
    "        res.append(str(num // den))\n",
    "        num %= den\n",
    "        if not num:\n",
    "            return ''.join(res)\n",
    "        res.append('.')\n",
    "        mp ={}\n",
    "\n",
    "        while num != 0:\n",
    "            mp[num] = len(res)\n",
    "            num *= 10\n",
    "            res.append(str(num // den))\n",
    "            num %= den\n",
    "            if num in mp:\n",
    "                idx = mp[num]\n",
    "                res.insert(idx, '(')\n",
    "                res.append(')')\n",
    "                break\n",
    "        return ''.join(res)"
   ]
  }
 ],
 "metadata": {
  "language_info": {
   "name": "python"
  },
  "orig_nbformat": 4
 },
 "nbformat": 4,
 "nbformat_minor": 2
}
