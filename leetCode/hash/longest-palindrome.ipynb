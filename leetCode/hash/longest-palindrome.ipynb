{
 "cells": [
  {
   "cell_type": "markdown",
   "metadata": {},
   "source": [
    "# 409. Longest Palindrome\n",
    "\n",
    "Given a string `s` which consists of lowercase or uppercase letters, return the length of the **longest palindrome** that can be built with those letters.\n",
    "\n",
    "Letters are case sensitive, for example, `\"Aa\"` is not considered a palindrome here.\n",
    "\n",
    " \n",
    "\n",
    "**Example 1:**\n",
    "```\n",
    "Input: s = \"abccccdd\"\n",
    "Output: 7\n",
    "Explanation: One longest palindrome that can be built is \"dccaccd\", whose length is 7.\n",
    "```\n",
    "---\n",
    "**Example 2:**\n",
    "```\n",
    "Input: s = \"a\"\n",
    "Output: 1\n",
    "Explanation: The longest palindrome that can be built is \"a\", whose length is 1.\n",
    "```\n",
    "---\n",
    "\n",
    " \n",
    "\n",
    "**Constraints:**\n",
    "\n",
    "- `1 <= s.length <= 2000`\n",
    "- `s` consists of lowercase **and/or** uppercase English letters only."
   ]
  },
  {
   "cell_type": "code",
   "execution_count": null,
   "metadata": {},
   "outputs": [],
   "source": [
    "class Solution:\n",
    "    def longestPalindrome(self, s: str) -> int:\n",
    "        charsCount = Counter(s)\n",
    "        res = 0\n",
    "        oddFound = False\n",
    "        for count in charsCount.values():\n",
    "            if count % 2:\n",
    "                res += count - 1\n",
    "                oddFound = True \n",
    "            else:\n",
    "                res += count\n",
    "\n",
    "        return res + 1 if oddFound else res\n",
    "\n",
    "            "
   ]
  },
  {
   "cell_type": "code",
   "execution_count": null,
   "metadata": {},
   "outputs": [],
   "source": [
    "class Solution:\n",
    "    def longestPalindrome(self, s: str) -> int:\n",
    "        cnt = Counter(s)\n",
    "        ans = 0\n",
    "        for v in cnt.values():\n",
    "            ans += v - (v & 1)\n",
    "            ans += (ans & 1 ^ 1) and (v & 1)\n",
    "        return ans\n",
    "\n",
    "            \n"
   ]
  }
 ],
 "metadata": {
  "language_info": {
   "name": "python"
  },
  "orig_nbformat": 4
 },
 "nbformat": 4,
 "nbformat_minor": 2
}
