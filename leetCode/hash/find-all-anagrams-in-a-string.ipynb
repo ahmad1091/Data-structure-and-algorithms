{
 "cells": [
  {
   "cell_type": "markdown",
   "metadata": {},
   "source": [
    "# 438. Find All Anagrams in a String\n",
    "\n",
    "Given two strings `s` and `p`, return an array of all the start indices of `p`'s anagrams in `s`. You may return the answer **in any order**.\n",
    "\n",
    "An **Anagram** is a word or phrase formed by rearranging the letters of a different word or phrase, typically using all the original letters exactly once.\n",
    "\n",
    " \n",
    "\n",
    "**Example 1:**\n",
    "\n",
    "```\n",
    "Input: s = \"cbaebabacd\", p = \"abc\"\n",
    "Output: [0,6]\n",
    "Explanation:\n",
    "The substring with start index = 0 is \"cba\", which is an anagram of \"abc\".\n",
    "The substring with start index = 6 is \"bac\", which is an anagram of \"abc\".\n",
    "```\n",
    "---\n",
    "**Example 2:**\n",
    "```\n",
    "Input: s = \"abab\", p = \"ab\"\n",
    "Output: [0,1,2]\n",
    "Explanation:\n",
    "The substring with start index = 0 is \"ab\", which is an anagram of \"ab\".\n",
    "The substring with start index = 1 is \"ba\", which is an anagram of \"ab\".\n",
    "The substring with start index = 2 is \"ab\", which is an anagram of \"ab\".\n",
    " ```\n",
    "---\n",
    "\n",
    "**Constraints:**\n",
    "\n",
    "- `1 <= s.length, p.length <= 3 * 104`\n",
    "- `s` and `p` consist of lowercase English letters."
   ]
  },
  {
   "cell_type": "code",
   "execution_count": null,
   "metadata": {},
   "outputs": [],
   "source": [
    "class Solution:\n",
    "    def findAnagrams(self, s: str, p: str) -> List[int]:\n",
    "        if len(p) > len(s):\n",
    "            return []\n",
    "        pCount, sCount = {}, {}\n",
    "\n",
    "        for i in range(len(p)):\n",
    "            pCount[p[i]] = 1 + pCount.get(p[i], 0)\n",
    "            sCount[s[i]] = 1 + sCount.get(s[i], 0)\n",
    "        l = 0\n",
    "        res = [0] if pCount == sCount else []\n",
    "        for i in range(len(p), len(s)):\n",
    "            sCount[s[i]] = 1 + sCount.get(s[i], 0)\n",
    "            sCount[s[l]] -= 1\n",
    "            if sCount[s[l]] == 0:\n",
    "                sCount.pop(s[l])\n",
    "            l += 1\n",
    "            if sCount == pCount:\n",
    "                res.append(l)\n",
    "\n",
    "        return res\n",
    "\n",
    "\n",
    "        "
   ]
  }
 ],
 "metadata": {
  "language_info": {
   "name": "python"
  },
  "orig_nbformat": 4
 },
 "nbformat": 4,
 "nbformat_minor": 2
}
