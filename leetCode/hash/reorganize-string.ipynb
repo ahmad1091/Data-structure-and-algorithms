{
 "cells": [
  {
   "cell_type": "markdown",
   "metadata": {},
   "source": [
    "# 767. Reorganize String\n",
    "\n",
    "Given a string `s`, rearrange the characters of `s` so that any two adjacent characters are not the same.\n",
    "\n",
    "Return any possible rearrangement of `s` or return `\"\"` if not possible.\n",
    "\n",
    "---\n",
    "\n",
    "**Example 1:**\n",
    "\n",
    "**Input:** `s = \"aab\"`\n",
    "\n",
    "**Output:** `\"aba\"`\n",
    "\n",
    "---\n",
    "\n",
    "**Example 2:**\n",
    "\n",
    "**Input:** `s = \"aaab\"`\n",
    "\n",
    "**Output:** `\"\"`\n",
    " \n",
    "---\n",
    "\n",
    "**Constraints:**\n",
    "\n",
    "- `1 <= s.length <= 500`\n",
    "- `s consists of lowercase English letters.`"
   ]
  },
  {
   "cell_type": "code",
   "execution_count": null,
   "metadata": {},
   "outputs": [],
   "source": [
    "class Solution:\n",
    "    def reorganizeString(self, s: str) -> str:\n",
    "        n = len(s)\n",
    "        cnt = {}\n",
    "        for c in s:\n",
    "            if c in cnt:\n",
    "                cnt[c] += 1\n",
    "            else:\n",
    "                cnt[c] = 1\n",
    "            \n",
    "        if max(cnt.values()) > (n + 1) // 2:\n",
    "            return ''\n",
    "        \n",
    "        res = [None] * n\n",
    "        i = 0\n",
    "        sortedPairs = sorted(cnt.items(), key=lambda x:x[1], reverse = True)\n",
    "        for k, v in sortedPairs:\n",
    "            while v:\n",
    "                res[i] = k\n",
    "                i += 2\n",
    "                v -= 1\n",
    "                if i >= n:\n",
    "                    i = 1\n",
    "            \n",
    "        return ''.join(res)"
   ]
  }
 ],
 "metadata": {
  "language_info": {
   "name": "python"
  },
  "orig_nbformat": 4
 },
 "nbformat": 4,
 "nbformat_minor": 2
}
