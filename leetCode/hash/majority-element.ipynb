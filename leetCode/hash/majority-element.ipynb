{
 "cells": [
  {
   "cell_type": "markdown",
   "metadata": {},
   "source": [
    "# 169. Majority Element\n",
    "\n",
    "Given an array `nums` of size `n`, return the majority element.\n",
    "\n",
    "The majority element is the element that appears more than `⌊n / 2⌋` times. You may assume that the majority element always exists in the array.\n",
    "\n",
    " \n",
    "\n",
    "**Example 1:**\n",
    "```\n",
    "Input: nums = [3,2,3]\n",
    "Output: 3\n",
    "```\n",
    "---\n",
    "**Example 2:**\n",
    "```\n",
    "Input: nums = [2,2,1,1,1,2,2]\n",
    "Output: 2\n",
    "```\n",
    "--- \n",
    "\n",
    "**Constraints:**\n",
    "\n",
    "- `n == nums.length`\n",
    "- `1 <= n <= 5 * 104`\n",
    "- `-109 <= nums[i] <= 109`\n",
    " \n",
    "\n",
    "**Follow-up:** Could you solve the problem in linear time and in `O(1)` space?"
   ]
  },
  {
   "cell_type": "code",
   "execution_count": null,
   "metadata": {},
   "outputs": [],
   "source": [
    "class Solution:\n",
    "    def majorityElement(self, nums: List[int]) -> int:\n",
    "        count = Counter(nums)\n",
    "\n",
    "        for n in nums:\n",
    "            if count[n] > len(nums) // 2:\n",
    "                return n"
   ]
  },
  {
   "cell_type": "code",
   "execution_count": null,
   "metadata": {},
   "outputs": [],
   "source": [
    "class Solution:\n",
    "    def majorityElement(self, nums: List[int]) -> int:\n",
    "        count = 1\n",
    "        res = nums[0]\n",
    "\n",
    "        for n in nums[1:]:\n",
    "            if n == res:\n",
    "                count += 1\n",
    "            else:\n",
    "                count -= 1\n",
    "            if count == 0:\n",
    "                res = n\n",
    "                count = 1\n",
    "\n",
    "        return res"
   ]
  }
 ],
 "metadata": {
  "language_info": {
   "name": "python"
  },
  "orig_nbformat": 4
 },
 "nbformat": 4,
 "nbformat_minor": 2
}
