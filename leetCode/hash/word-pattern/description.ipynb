{
 "cells": [
  {
   "cell_type": "markdown",
   "metadata": {},
   "source": [
    "# 290. Word Pattern\n",
    "\n",
    "Given a `pattern` and a string `s`, find if `s` follows the same pattern.\n",
    "\n",
    "Here **follow** means a full match, such that there is a bijection between a letter in `pattern` and a **non-empty** word in `s`.\n",
    "\n",
    " \n",
    "\n",
    "**Example 1:**\n",
    "```\n",
    "Input: pattern = \"abba\", s = \"dog cat cat dog\"\n",
    "Output: true\n",
    "```\n",
    "---\n",
    "**Example 2:**\n",
    "```\n",
    "Input: pattern = \"abba\", s = \"dog cat cat fish\"\n",
    "Output: false\n",
    "```\n",
    "---\n",
    "**Example 3:**\n",
    "```\n",
    "Input: pattern = \"aaaa\", s = \"dog cat cat dog\"\n",
    "Output: false\n",
    "```\n",
    "---\n",
    "\n",
    "**Constraints:**\n",
    "\n",
    "- `1 <= pattern.length <= 300`\n",
    "- `pattern` contains only lower-case English letters.\n",
    "- `1 <= s.length <= 3000`\n",
    "- `s` contains only lowercase English letters and spaces `' '`.\n",
    "- `s` **does not** contain any leading or trailing spaces.\n",
    "- All the words in `s` are separated by a **single space**."
   ]
  },
  {
   "cell_type": "code",
   "execution_count": null,
   "metadata": {},
   "outputs": [],
   "source": [
    "class Solution:\n",
    "    def wordPattern(self, pattern: str, s: str) -> bool:\n",
    "        words = s.split(\" \")\n",
    "        if len(pattern) != len(words):\n",
    "            return False\n",
    "        charToWord = {}\n",
    "        wordToChar = {}\n",
    "        \n",
    "        for c, w in zip(pattern, words):\n",
    "            if c in charToWord and charToWord[c] != w:\n",
    "                return False\n",
    "            if w in wordToChar and wordToChar[w] != c:\n",
    "                return False\n",
    "            charToWord[c] = w\n",
    "            wordToChar[w] = c\n",
    "        return True"
   ]
  }
 ],
 "metadata": {
  "language_info": {
   "name": "python"
  },
  "orig_nbformat": 4
 },
 "nbformat": 4,
 "nbformat_minor": 2
}
