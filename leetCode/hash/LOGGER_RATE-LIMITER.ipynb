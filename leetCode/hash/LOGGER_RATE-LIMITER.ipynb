{
 "cells": [
  {
   "cell_type": "markdown",
   "metadata": {},
   "source": [
    "# 359. Logger Rate Limiter\n",
    "\n",
    "Description\n",
    "Design a logger system that receives a stream of messages along with their timestamps. Each unique message should only be printed at most every 10 seconds (i.e. a message printed at timestamp `t` will prevent other identical messages from being printed until timestamp `t + 10`).\n",
    "\n",
    "All messages will come in chronological order. Several messages may arrive at the same timestamp.\n",
    "\n",
    "Implement the `Logger` class:\n",
    "\n",
    "- `Logger()` Initializes the logger object.\n",
    "- `bool shouldPrintMessage(int timestamp, string message)` Returns `true` if the `message` should be printed in the given timestamp, otherwise returns `false`.\n",
    " \n",
    "\n",
    "**Example 1:**\n",
    "```\n",
    "Input\n",
    "[\"Logger\", \"shouldPrintMessage\", \"shouldPrintMessage\", \"shouldPrintMessage\", \"shouldPrintMessage\", \"shouldPrintMessage\", \"shouldPrintMessage\"]\n",
    "[[], [1, \"foo\"], [2, \"bar\"], [3, \"foo\"], [8, \"bar\"], [10, \"foo\"], [11, \"foo\"]]\n",
    "Output\n",
    "[null, true, true, false, false, false, true]\n",
    "\n",
    "Explanation\n",
    "Logger logger = new Logger();\n",
    "logger.shouldPrintMessage(1, \"foo\");  // return true, next allowed timestamp for \"foo\" is 1 + 10 = 11\n",
    "logger.shouldPrintMessage(2, \"bar\");  // return true, next allowed timestamp for \"bar\" is 2 + 10 = 12\n",
    "logger.shouldPrintMessage(3, \"foo\");  // 3 < 11, return false\n",
    "logger.shouldPrintMessage(8, \"bar\");  // 8 < 12, return false\n",
    "logger.shouldPrintMessage(10, \"foo\"); // 10 < 11, return false\n",
    "logger.shouldPrintMessage(11, \"foo\"); // 11 >= 11, return true, next allowed timestamp for \"foo\" is 11 + 10 = 21\n",
    "```\n",
    "\n",
    "**Constraints:**\n",
    "- `0 <= timestamp <= 109`\n",
    "- Every `timestamp` will be passed in non-decreasing order (chronological order).\n",
    "- `1 <= message.length <= 30`\n",
    "- At most `10^4` calls will be made to `shouldPrintMessage`."
   ]
  },
  {
   "cell_type": "code",
   "execution_count": null,
   "metadata": {},
   "outputs": [],
   "source": [
    "class Logger:\n",
    "    def __init__(self):\n",
    "        \"\"\"\n",
    "        Initialize your data structure here.\n",
    "        \"\"\"\n",
    "        self.limiter = {}\n",
    "\n",
    "    def shouldPrintMessage(self, timestamp: int, message: str) -> bool:\n",
    "        \"\"\"\n",
    "        Returns true if the message should be printed in the given timestamp, otherwise returns false.\n",
    "        If this method returns false, the message will not be printed.\n",
    "        The timestamp is in seconds granularity.\n",
    "        \"\"\"\n",
    "        t = self.limiter.get(message, 0)\n",
    "        if t > timestamp:\n",
    "            return False\n",
    "        self.limiter[message] = timestamp + 10\n",
    "        return True"
   ]
  }
 ],
 "metadata": {
  "language_info": {
   "name": "python"
  },
  "orig_nbformat": 4
 },
 "nbformat": 4,
 "nbformat_minor": 2
}
