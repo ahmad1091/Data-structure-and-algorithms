{
 "cells": [
  {
   "cell_type": "markdown",
   "metadata": {},
   "source": [
    "# 347. Top K Frequent Elements\n",
    "\n",
    "Given an integer array `nums` and an integer `k`, return the `k` most frequent elements. You may return the answer in any order.\n",
    "\n",
    " ---\n",
    "\n",
    "**Example 1:**\n",
    "\n",
    "**Input:** `nums = [1,1,1,2,2,3], k = 2`\n",
    "\n",
    "**Output:** `[1,2]`\n",
    "\n",
    "---\n",
    "\n",
    "**Example 2:**\n",
    "\n",
    "**Input:** `nums = [1], k = 1`\n",
    "\n",
    "**Output:** `[1]`\n",
    " \n",
    "---\n",
    "\n",
    "**Constraints:**\n",
    "\n",
    "* `1 <= nums.length <= 105`\n",
    "* `-104 <= nums[i] <= 104`\n",
    "* `k is in the range [1, the number of unique elements in the array].`\n",
    "* `It is guaranteed that the answer is unique.`\n",
    " \n",
    "\n",
    "**Follow up:** Your algorithm's time complexity must be better than `O(n log n)`, where n is the array's size."
   ]
  },
  {
   "cell_type": "code",
   "execution_count": null,
   "metadata": {},
   "outputs": [],
   "source": [
    "class Solution:\n",
    "    def topKFrequent(self, nums: List[int], k: int) -> List[int]:\n",
    "        counts = collections.Counter(nums)\n",
    "        max_heap = []\n",
    "        for key, val in counts.items():\n",
    "            heapq.heappush(max_heap, (-val, key))\n",
    "        result = []\n",
    "\n",
    "        while k > 0:\n",
    "            val = heapq.heappop(max_heap)[1]\n",
    "            result.append(val)\n",
    "            k -= 1\n",
    "        \n",
    "        return result"
   ]
  }
 ],
 "metadata": {
  "language_info": {
   "name": "python"
  },
  "orig_nbformat": 4
 },
 "nbformat": 4,
 "nbformat_minor": 2
}
