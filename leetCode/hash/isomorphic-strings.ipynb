{
 "cells": [
  {
   "cell_type": "markdown",
   "metadata": {},
   "source": [
    "# 205. Isomorphic Strings\n",
    "\n",
    "Given two strings `s` and `t`, determine if they are isomorphic.\n",
    "\n",
    "Two strings` s `and `t` are isomorphic if the characters in` s `can be replaced to get t.\n",
    "\n",
    "All occurrences of a character must be replaced with another character while preserving the order of characters. No two characters may map to the same character, but a character may map to itself.\n",
    "\n",
    " \n",
    "\n",
    "**Example 1:**\n",
    "```\n",
    "Input: s = \"egg\", t = \"add\"\n",
    "Output: true\n",
    "```\n",
    "---\n",
    "**Example 2:**\n",
    "```\n",
    "Input: s = \"foo\", t = \"bar\"\n",
    "Output: false\n",
    "```\n",
    "---\n",
    "**Example 3:**\n",
    "```\n",
    "Input: s = \"paper\", t = \"title\"\n",
    "Output: true\n",
    "```\n",
    "---\n",
    "\n",
    "**Constraints:**\n",
    "\n",
    "- `1 <= s.length <= 5 * 104`\n",
    "- `t.length == s.length`\n",
    "- `s` and `t` consist of any valid ascii character."
   ]
  },
  {
   "cell_type": "code",
   "execution_count": null,
   "metadata": {},
   "outputs": [],
   "source": [
    "class Solution:\n",
    "    def isIsomorphic(self, s: str, t: str) -> bool:\n",
    "        n = len(s)\n",
    "        incodeHash = {}\n",
    "        for i in range(n):\n",
    "            if s[i] in incodeHash:\n",
    "                if not (incodeHash[s[i]] == t[i]) :\n",
    "                    return False\n",
    "            else:\n",
    "                if t[i] in incodeHash.values():\n",
    "                    return False\n",
    "                incodeHash[s[i]] = t[i]\n",
    "        return True\n",
    "            \n",
    "        "
   ]
  },
  {
   "cell_type": "code",
   "execution_count": null,
   "metadata": {},
   "outputs": [],
   "source": [
    "class Solution:\n",
    "    def isIsomorphic(self, string1: str, string2: str) -> bool:\n",
    "        map_str1_str2 = {}\n",
    "        map_str2_str1 = {}\n",
    "\n",
    "        for i in range(len(string1)):\n",
    "            char1 = string1[i]\n",
    "            char2 = string2[i]\n",
    "\n",
    "            if char1 in map_str1_str2 and map_str1_str2[char1] != char2:\n",
    "                return False\n",
    "\n",
    "            if char2 in map_str2_str1 and map_str2_str1[char2] != char1:\n",
    "                return False\n",
    "\n",
    "            map_str1_str2[char1] = char2\n",
    "            map_str2_str1[char2] = char1\n",
    "        return True\n",
    "\n",
    "                \n",
    "        "
   ]
  }
 ],
 "metadata": {
  "language_info": {
   "name": "python"
  },
  "orig_nbformat": 4
 },
 "nbformat": 4,
 "nbformat_minor": 2
}
