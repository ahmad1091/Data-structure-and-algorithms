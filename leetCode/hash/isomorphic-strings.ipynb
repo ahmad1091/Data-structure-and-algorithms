{
 "cells": [
  {
   "cell_type": "markdown",
   "metadata": {},
   "source": [
    "# 205. Isomorphic Strings\n",
    "\n",
    "Given two strings `s` and `t`, determine if they are isomorphic.\n",
    "\n",
    "Two strings` s `and `t` are isomorphic if the characters in` s `can be replaced to get t.\n",
    "\n",
    "All occurrences of a character must be replaced with another character while preserving the order of characters. No two characters may map to the same character, but a character may map to itself.\n",
    "\n",
    " \n",
    "\n",
    "**Example 1:**\n",
    "```\n",
    "Input: s = \"egg\", t = \"add\"\n",
    "Output: true\n",
    "```\n",
    "---\n",
    "**Example 2:**\n",
    "```\n",
    "Input: s = \"foo\", t = \"bar\"\n",
    "Output: false\n",
    "```\n",
    "---\n",
    "**Example 3:**\n",
    "```\n",
    "Input: s = \"paper\", t = \"title\"\n",
    "Output: true\n",
    "```\n",
    "---\n",
    "\n",
    "**Constraints:**\n",
    "\n",
    "- `1 <= s.length <= 5 * 104`\n",
    "- `t.length == s.length`\n",
    "- `s` and `t` consist of any valid ascii character."
   ]
  }
 ],
 "metadata": {
  "language_info": {
   "name": "python"
  },
  "orig_nbformat": 4
 },
 "nbformat": 4,
 "nbformat_minor": 2
}
