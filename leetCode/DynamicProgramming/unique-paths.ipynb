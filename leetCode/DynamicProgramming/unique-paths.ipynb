{
 "cells": [
  {
   "cell_type": "markdown",
   "metadata": {},
   "source": [
    "# 62. Unique Paths\n",
    "\n",
    "There is a robot on an `m x n` grid. The robot is initially located at the **top-left corner** (i.e., `grid[0][0]`). The robot tries to move to the **bottom-right corner** (i.e., `grid[m - 1][n - 1]`). The robot can only move either down or right at any point in time.\n",
    "\n",
    "Given the two integers `m` and `n`, *return the number of possible unique paths that the robot can take to reach the bottom-right corner*.\n",
    "\n",
    "The test cases are generated so that the answer will be less than or equal to `2 * 10^9`.\n",
    "\n",
    " \n",
    "\n",
    "Example 1:\n",
    "\n",
    "![image](https://assets.leetcode.com/uploads/2018/10/22/robot_maze.png)\n",
    "```\n",
    "Input: m = 3, n = 7\n",
    "Output: 28\n",
    "```\n",
    "---\n",
    "**Example 2:**\n",
    "```\n",
    "Input: m = 3, n = 2\n",
    "Output: 3\n",
    "Explanation: From the top-left corner, there are a total of 3 ways to reach the bottom-right corner:\n",
    "1. Right -> Down -> Down\n",
    "2. Down -> Down -> Right\n",
    "3. Down -> Right -> Down\n",
    "```\n",
    "--- \n",
    "\n",
    "**Constraints:**\n",
    "\n",
    "- `1 <= m, n <= 100`"
   ]
  },
  {
   "cell_type": "code",
   "execution_count": null,
   "metadata": {},
   "outputs": [],
   "source": [
    "class Solution:\n",
    "    def uniquePaths(self, m: int, n: int) -> int:\n",
    "        matrix = [[0 for _ in range(n)] for _ in range(m)]\n",
    "        \n",
    "        for i in range(n):\n",
    "            print(i)\n",
    "            matrix[m - 1][i] = 1\n",
    "        \n",
    "        for i in range(m):\n",
    "            matrix[i][n - 1] = 1\n",
    "\n",
    "        for i in range(m - 2, -1, -1):\n",
    "            for j in range(n -2, -1, -1):\n",
    "                matrix[i][j] = matrix[i + 1][j] + matrix[i][j + 1]\n",
    "        \n",
    "        return matrix[0][0]"
   ]
  },
  {
   "cell_type": "code",
   "execution_count": null,
   "metadata": {},
   "outputs": [],
   "source": [
    "class Solution:\n",
    "    def uniquePaths(self, m: int, n: int) -> int:\n",
    "        row = [1] * n\n",
    "\n",
    "        for i in range(m - 1):\n",
    "            tempRow = [1] * n\n",
    "            for j in range(n - 2, -1, -1):\n",
    "                tempRow[j] = tempRow[j + 1] + row[j]\n",
    "\n",
    "            row = tempRow\n",
    "\n",
    "        return row[0]"
   ]
  }
 ],
 "metadata": {
  "language_info": {
   "name": "python"
  },
  "orig_nbformat": 4
 },
 "nbformat": 4,
 "nbformat_minor": 2
}
