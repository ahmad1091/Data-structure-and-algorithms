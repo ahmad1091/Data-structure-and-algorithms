{
 "cells": [
  {
   "cell_type": "markdown",
   "metadata": {},
   "source": [
    "# 416. Partition Equal Subset Sum\n",
    "\n",
    "Given an integer array `nums`, return `true` if you can partition the array into two subsets such that the sum of the elements in both subsets is equal or false otherwise.\n",
    "\n",
    " ---\n",
    "\n",
    "**Example 1:**\n",
    "\n",
    "**Input:** `nums = [1,5,11,5]`\n",
    "\n",
    "**Output:** `true`\n",
    "\n",
    "**Explanation:** `The array can be partitioned as [1, 5, 5] and [11].`\n",
    "\n",
    "---\n",
    "\n",
    "Example 2:\n",
    "\n",
    "**Input:** `nums = [1,2,3,5]`\n",
    "\n",
    "**Output:** `false`\n",
    "\n",
    "**Explanation:** `The array cannot be partitioned into equal sum subsets.`\n",
    "\n",
    "---\n",
    "\n",
    "**Constraints:**\n",
    "\n",
    "- `1 <= nums.length <= 200`\n",
    "- `1 <= nums[i] <= 100`"
   ]
  },
  {
   "cell_type": "code",
   "execution_count": null,
   "metadata": {},
   "outputs": [],
   "source": [
    "class Solution:\n",
    "    def canPartition(self, nums: List[int]) -> bool:\n",
    "        if sum(nums) % 2: return False\n",
    "\n",
    "        target = sum(nums) // 2\n",
    "        dp = set()\n",
    "        dp.add(0)\n",
    "\n",
    "        for i in range(len(nums) - 1, -1, -1):\n",
    "            clone = dp.copy()\n",
    "\n",
    "            for n in dp:\n",
    "                if n + nums[i] == target:\n",
    "                    return True\n",
    "                clone.add(n + nums[i])\n",
    "            dp = clone\n",
    "        \n",
    "        return True if target in dp else False\n"
   ]
  }
 ],
 "metadata": {
  "language_info": {
   "name": "python"
  },
  "orig_nbformat": 4
 },
 "nbformat": 4,
 "nbformat_minor": 2
}
