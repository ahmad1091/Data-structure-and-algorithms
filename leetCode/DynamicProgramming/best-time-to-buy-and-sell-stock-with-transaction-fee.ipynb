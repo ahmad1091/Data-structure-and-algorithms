{
 "cells": [
  {
   "cell_type": "markdown",
   "metadata": {},
   "source": [
    "# 714. Best Time to Buy and Sell Stock with Transaction Fee\n",
    "\n",
    "You are given an array `prices` where `prices[i]` is the price of a given stock on the `ith` day, and an integer fee representing a transaction `fee`.\n",
    "\n",
    "Find the maximum profit you can achieve. You may complete as many transactions as you like, but you need to pay the transaction fee for each transaction.\n",
    "\n",
    "**Note:**\n",
    "\n",
    "- You may not engage in multiple transactions simultaneously (i.e., you must sell the stock before you buy again).\n",
    "- The transaction fee is only charged once for each stock purchase and sale.\n",
    " \n",
    "\n",
    "**Example 1:**\n",
    "```\n",
    "Input: prices = [1,3,2,8,4,9], fee = 2\n",
    "Output: 8\n",
    "Explanation: The maximum profit can be achieved by:\n",
    "- Buying at prices[0] = 1\n",
    "- Selling at prices[3] = 8\n",
    "- Buying at prices[4] = 4\n",
    "- Selling at prices[5] = 9\n",
    "The total profit is ((8 - 1) - 2) + ((9 - 4) - 2) = 8.\n",
    "```\n",
    "---\n",
    "**Example 2:**\n",
    "```\n",
    "Input: prices = [1,3,7,5,10,3], fee = 3\n",
    "Output: 6\n",
    " ```\n",
    " ---\n",
    "\n",
    "**Constraints:**\n",
    "\n",
    "- `1 <= prices.length <= 5 * 104`\n",
    "- `1 <= prices[i] < 5 * 104`\n",
    "- `0 <= fee < 5 * 104`"
   ]
  },
  {
   "cell_type": "code",
   "execution_count": null,
   "metadata": {},
   "outputs": [],
   "source": [
    "class Solution:\n",
    "    def maxProfit(self, prices: List[int], fee: int) -> int:\n",
    "        a, b = prices[0], 0\n",
    "\n",
    "        for price in prices:\n",
    "            a = min(a, price - b)\n",
    "            b = max(b, price - a - fee)\n",
    "        \n",
    "        return b"
   ]
  }
 ],
 "metadata": {
  "kernelspec": {
   "display_name": "Python 3.8.10 64-bit",
   "language": "python",
   "name": "python3"
  },
  "language_info": {
   "name": "python",
   "version": "3.8.10"
  },
  "orig_nbformat": 4,
  "vscode": {
   "interpreter": {
    "hash": "916dbcbb3f70747c44a77c7bcd40155683ae19c65e1c03b4aa3499c5328201f1"
   }
  }
 },
 "nbformat": 4,
 "nbformat_minor": 2
}
