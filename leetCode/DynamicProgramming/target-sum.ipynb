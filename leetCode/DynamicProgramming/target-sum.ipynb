{
 "cells": [
  {
   "cell_type": "markdown",
   "metadata": {},
   "source": [
    "# 494. Target Sum\n",
    "\n",
    "You are given an integer array `nums` and an integer `target`.\n",
    "\n",
    "You want to build an expression out of `nums` by adding one of the symbols `'+'` and `'-'` before each integer in `nums` and then concatenate all the integers.\n",
    "\n",
    "For example, if `nums` = [2, 1], you can add a `'+'` before `2` and a `'-'` before `1` and concatenate them to build the expression `\"+2-1\"`.\n",
    "Return the number of different expressions that you can build, which evaluates to `target`.\n",
    "\n",
    " \n",
    "\n",
    "**Example 1:**\n",
    "```\n",
    "Input: nums = [1,1,1,1,1], target = 3\n",
    "Output: 5\n",
    "Explanation: There are 5 ways to assign symbols to make the sum of nums be target 3.\n",
    "-1 + 1 + 1 + 1 + 1 = 3\n",
    "+1 - 1 + 1 + 1 + 1 = 3\n",
    "+1 + 1 - 1 + 1 + 1 = 3\n",
    "+1 + 1 + 1 - 1 + 1 = 3\n",
    "+1 + 1 + 1 + 1 - 1 = 3\n",
    "```\n",
    "---\n",
    "**Example 2:**\n",
    "```\n",
    "Input: nums = [1], target = 1\n",
    "Output: 1\n",
    "```\n",
    "---\n",
    "**Constraints:**\n",
    "\n",
    "- `1 <= nums.length <= 20`\n",
    "- `0 <= nums[i] <= 1000`\n",
    "- `0 <= sum(nums[i]) <= 1000`\n",
    "- `-1000 <= target <= 1000`"
   ]
  },
  {
   "cell_type": "code",
   "execution_count": null,
   "metadata": {},
   "outputs": [],
   "source": [
    "class Solution:\n",
    "    def findTargetSumWays(self, nums: List[int], target: int) -> int:\n",
    "        dp = {}\n",
    "\n",
    "        def sum(i, total):\n",
    "            if i == len(nums):\n",
    "                if total == target:\n",
    "                    return 1\n",
    "                return 0\n",
    "            if (i, total) in dp:\n",
    "                return dp[(i, total)] \n",
    "             \n",
    "            dp[(i, total)] = sum(i + 1, total + nums[i]) + sum(i + 1, total - nums[i])\n",
    "            return dp[(i, total)]\n",
    "\n",
    "        return sum(0, 0)"
   ]
  }
 ],
 "metadata": {
  "kernelspec": {
   "display_name": "Python 3.8.10 64-bit",
   "language": "python",
   "name": "python3"
  },
  "language_info": {
   "name": "python",
   "version": "3.8.10"
  },
  "orig_nbformat": 4,
  "vscode": {
   "interpreter": {
    "hash": "916dbcbb3f70747c44a77c7bcd40155683ae19c65e1c03b4aa3499c5328201f1"
   }
  }
 },
 "nbformat": 4,
 "nbformat_minor": 2
}
