{
 "cells": [
  {
   "cell_type": "markdown",
   "metadata": {},
   "source": [
    "# 494. Target Sum\n",
    "\n",
    "You are given an integer array `nums` and an integer `target`.\n",
    "\n",
    "You want to build an expression out of `nums` by adding one of the symbols `'+'` and `'-'` before each integer in `nums` and then concatenate all the integers.\n",
    "\n",
    "For example, if `nums` = [2, 1], you can add a `'+'` before `2` and a `'-'` before `1` and concatenate them to build the expression `\"+2-1\"`.\n",
    "Return the number of different expressions that you can build, which evaluates to `target`.\n",
    "\n",
    " \n",
    "\n",
    "**Example 1:**\n",
    "```\n",
    "Input: nums = [1,1,1,1,1], target = 3\n",
    "Output: 5\n",
    "Explanation: There are 5 ways to assign symbols to make the sum of nums be target 3.\n",
    "-1 + 1 + 1 + 1 + 1 = 3\n",
    "+1 - 1 + 1 + 1 + 1 = 3\n",
    "+1 + 1 - 1 + 1 + 1 = 3\n",
    "+1 + 1 + 1 - 1 + 1 = 3\n",
    "+1 + 1 + 1 + 1 - 1 = 3\n",
    "```\n",
    "---\n",
    "**Example 2:**\n",
    "```\n",
    "Input: nums = [1], target = 1\n",
    "Output: 1\n",
    "```\n",
    "---\n",
    "**Constraints:**\n",
    "\n",
    "- `1 <= nums.length <= 20`\n",
    "- `0 <= nums[i] <= 1000`\n",
    "- `0 <= sum(nums[i]) <= 1000`\n",
    "- `-1000 <= target <= 1000`"
   ]
  }
 ],
 "metadata": {
  "language_info": {
   "name": "python"
  },
  "orig_nbformat": 4
 },
 "nbformat": 4,
 "nbformat_minor": 2
}
