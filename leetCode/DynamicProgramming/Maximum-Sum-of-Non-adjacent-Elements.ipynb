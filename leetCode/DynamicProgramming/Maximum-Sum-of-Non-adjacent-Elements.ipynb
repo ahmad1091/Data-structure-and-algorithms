{
 "cells": [
  {
   "cell_type": "markdown",
   "metadata": {},
   "source": [
    "# Maximum Sum of Non-adjacent Elements \n",
    "\n",
    "> **_NOTE:_**  this is same as [House Robber](https://leetcode.com/problems/house-robber/description/) problem\n",
    "\n",
    "**Problem Statment:** \n",
    "Given an integer array `nums`, find the contiguous subarray (**containing at least one number**) which has the largest sum of **non-adjacent** elements, and return its **sum**.\n",
    "\n",
    "**Example:**\n",
    "\n",
    "**Input:** `nums = [1, 2, 3, 1]`\n",
    "\n",
    "**Output:** `4` \n",
    "**Explanation:** `The optimal solution is to pick elements 1 and 3, which are` \n",
    "\n",
    "`non-adjacent, with a sum of 4.`\n",
    "\n",
    "**Company:** This question is often associated with interviews at ***Apple***.\n",
    "\n",
    "**Data structure and coding pattern used:** \n",
    "The Maximum Sum of Non-adjacent Elements problem can be efficiently solved using Dynamic Programming.\n",
    "\n",
    "**Step-by-step solution:**\n",
    "\n",
    "1. Initialize two variables, `prev_sum` and `curr_sum`, to store the previous maximum sum and current maximum sum, respectively.\n",
    "2. Iterate through the input array.\n",
    "\n",
    "    - Calculate the new maximum sum by adding the current element and the previous maximum sum.\n",
    "    - Update the previous maximum sum to be the maximum of the previous and current maximum sums.\n",
    "    - Update the current maximum sum to be the new maximum sum.\n",
    "    \n",
    "    \n",
    "3. Return the maximum of the previous and current maximum sums."
   ]
  },
  {
   "cell_type": "code",
   "execution_count": null,
   "metadata": {},
   "outputs": [],
   "source": [
    "def max_sum_non_adjacent_elements(nums):\n",
    "    # Initialize prev_sum and curr_sum to store the previous and current maximum sums, respectively\n",
    "    prev = curr = 0\n",
    "\n",
    "    # Iterate through the input array\n",
    "    for num in nums:\n",
    "        # Update the previous maximum sum to be the maximum of the previous and current maximum sums\n",
    "        curr, prev = max( prev + num, curr), curr\n",
    "\n",
    "    # Return the maximum of the previous and current maximum sums\n",
    "    return max(prev, curr)"
   ]
  }
 ],
 "metadata": {
  "language_info": {
   "name": "python"
  },
  "orig_nbformat": 4
 },
 "nbformat": 4,
 "nbformat_minor": 2
}
