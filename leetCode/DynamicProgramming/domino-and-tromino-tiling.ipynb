{
 "cells": [
  {
   "cell_type": "markdown",
   "metadata": {},
   "source": [
    "# 790. Domino and Tromino Tiling\n",
    "\n",
    "You have two types of tiles: a `2 x 1` domino shape and a tromino shape. You may rotate these shapes.\n",
    "\n",
    "![image](https://assets.leetcode.com/uploads/2021/07/15/lc-domino.jpg)\n",
    "\n",
    "Given an integer `n`, return the number of ways to tile an `2 x n` board. Since the answer may be very large, return it **modulo** `10^9 + 7`.\n",
    "\n",
    "In a tiling, every square must be covered by a tile. Two tilings are different if and only if there are two 4-directionally adjacent cells on the board such that exactly one of the tilings has both squares occupied by a tile.\n",
    "\n",
    " \n",
    "\n",
    "**Example 1:**\n",
    "\n",
    "![image](https://assets.leetcode.com/uploads/2021/07/15/lc-domino1.jpg)\n",
    "```\n",
    "Input: n = 3\n",
    "Output: 5\n",
    "Explanation: The five different ways are show above.\n",
    "```\n",
    "---\n",
    "**Example 2:**\n",
    "```\n",
    "Input: n = 1\n",
    "Output: 1\n",
    " ```\n",
    " ---\n",
    "\n",
    "**Constraints:**\n",
    "\n",
    "- `1 <= n <= 1000`"
   ]
  },
  {
   "cell_type": "code",
   "execution_count": null,
   "metadata": {},
   "outputs": [],
   "source": [
    "class Solution:\n",
    "    def numTilings(self, n: int) -> int:\n",
    "        @cache\n",
    "        def dfs(i, j):\n",
    "            if i > n or j > n:\n",
    "                return 0\n",
    "            if i == n and j == n:\n",
    "                return 1\n",
    "            ans = 0\n",
    "            if i == j:\n",
    "                ans = (\n",
    "                    dfs(i + 2, j + 2)\n",
    "                    + dfs(i + 1, j + 1)\n",
    "                    + dfs(i + 2, j + 1)\n",
    "                    + dfs(i + 1, j + 2)\n",
    "                )\n",
    "            elif i > j:\n",
    "                ans = dfs(i, j + 2) + dfs(i + 1, j + 2)\n",
    "            else:\n",
    "                ans = dfs(i + 2, j) + dfs(i + 2, j + 1)\n",
    "            return ans % mod\n",
    "\n",
    "        mod = 10**9 + 7\n",
    "        return dfs(0, 0)"
   ]
  },
  {
   "cell_type": "code",
   "execution_count": null,
   "metadata": {},
   "outputs": [],
   "source": [
    "class Solution:\n",
    "    def numTilings(self, n: int) -> int:\n",
    "        f = [1, 0, 0, 0]\n",
    "        mod = 10**9 + 7\n",
    "        for i in range(1, n + 1):\n",
    "            g = [0] * 4\n",
    "            g[0] = (f[0] + f[1] + f[2] + f[3]) % mod\n",
    "            g[1] = (f[2] + f[3]) % mod\n",
    "            g[2] = (f[1] + f[3]) % mod\n",
    "            g[3] = f[0]\n",
    "            f = g\n",
    "        return f[0]"
   ]
  }
 ],
 "metadata": {
  "kernelspec": {
   "display_name": "Python 3.8.10 64-bit",
   "language": "python",
   "name": "python3"
  },
  "language_info": {
   "name": "python",
   "version": "3.8.10"
  },
  "orig_nbformat": 4,
  "vscode": {
   "interpreter": {
    "hash": "916dbcbb3f70747c44a77c7bcd40155683ae19c65e1c03b4aa3499c5328201f1"
   }
  }
 },
 "nbformat": 4,
 "nbformat_minor": 2
}
