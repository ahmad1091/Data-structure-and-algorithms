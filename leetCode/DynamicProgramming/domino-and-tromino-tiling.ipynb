{
 "cells": [
  {
   "cell_type": "markdown",
   "metadata": {},
   "source": [
    "# 790. Domino and Tromino Tiling\n",
    "\n",
    "You have two types of tiles: a `2 x 1` domino shape and a tromino shape. You may rotate these shapes.\n",
    "\n",
    "![image](https://assets.leetcode.com/uploads/2021/07/15/lc-domino.jpg)\n",
    "\n",
    "Given an integer `n`, return the number of ways to tile an `2 x n` board. Since the answer may be very large, return it **modulo** `10^9 + 7`.\n",
    "\n",
    "In a tiling, every square must be covered by a tile. Two tilings are different if and only if there are two 4-directionally adjacent cells on the board such that exactly one of the tilings has both squares occupied by a tile.\n",
    "\n",
    " \n",
    "\n",
    "**Example 1:**\n",
    "\n",
    "![image](https://assets.leetcode.com/uploads/2021/07/15/lc-domino1.jpg)\n",
    "```\n",
    "Input: n = 3\n",
    "Output: 5\n",
    "Explanation: The five different ways are show above.\n",
    "```\n",
    "---\n",
    "**Example 2:**\n",
    "```\n",
    "Input: n = 1\n",
    "Output: 1\n",
    " ```\n",
    " ---\n",
    "\n",
    "**Constraints:**\n",
    "\n",
    "- `1 <= n <= 1000`"
   ]
  }
 ],
 "metadata": {
  "language_info": {
   "name": "python"
  },
  "orig_nbformat": 4
 },
 "nbformat": 4,
 "nbformat_minor": 2
}
