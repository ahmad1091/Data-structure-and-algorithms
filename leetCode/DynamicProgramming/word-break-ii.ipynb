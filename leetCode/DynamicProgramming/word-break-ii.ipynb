{
 "cells": [
  {
   "cell_type": "markdown",
   "metadata": {},
   "source": [
    "# 140. Word Break II\n",
    "\n",
    "Given a string `s` and a dictionary of strings `wordDict`, add spaces in `s` to construct a sentence where each word is a valid dictionary word. Return all such possible sentences in **any order**.\n",
    "\n",
    "Note that the same word in the dictionary may be reused multiple times in the segmentation.\n",
    "\n",
    "---\n",
    "\n",
    "**Example 1:**\n",
    "\n",
    "**Input:** `s = \"catsanddog\", wordDict = [\"cat\",\"cats\",\"and\",\"sand\",\"dog\"]`\n",
    "\n",
    "**Output:** `[\"cats and dog\",\"cat sand dog\"]`\n",
    "\n",
    "---\n",
    "\n",
    "**Example 2:**\n",
    "\n",
    "**Input:** `s = \"pineapplepenapple\", wordDict = [\"apple\",\"pen\",\"applepen\",\"pine\",\"pineapple\"]`\n",
    "\n",
    "**Output:** `[\"pine apple pen apple\",\"pineapple pen apple\",\"pine applepen apple\"]`\n",
    "\n",
    "**Explanation**: `Note that you are allowed to reuse a dictionary word.`\n",
    "\n",
    "---\n",
    "\n",
    "**Example 3:**\n",
    "\n",
    "**Input:** `s = \"catsandog\", wordDict = [\"cats\",\"dog\",\"sand\",\"and\",\"cat\"]`\n",
    "\n",
    "**Output:** `[]`\n",
    " \n",
    "---\n",
    "\n",
    "**Constraints:**\n",
    "\n",
    "- `1 <= s.length <= 20`\n",
    "- `1 <= wordDict.length <= 1000`\n",
    "- `1 <= wordDict[i].length <= 10`\n",
    "- `s and wordDict[i] consist of only lowercase English letters.`\n",
    "- `All the strings of wordDict are unique.`\n",
    "- `Input is generated in a way that the length of the answer doesn't exceed 105.`"
   ]
  },
  {
   "cell_type": "code",
   "execution_count": null,
   "metadata": {},
   "outputs": [],
   "source": [
    "class Solution:\n",
    "    def wordBreak(self, s: str, wordDict: List[str]) -> List[str]:\n",
    "        memo = {}\n",
    "    \n",
    "        def dfs(string):\n",
    "            if string in memo:\n",
    "                return memo[string]\n",
    "\n",
    "            if not string:\n",
    "                return ['']\n",
    "            local_res = []\n",
    "\n",
    "            for w in wordDict:\n",
    "                print(w , string[:len(w)])\n",
    "                if w == string[:len(w)]:\n",
    "                    words = dfs(string[len(w):])\n",
    "                    for word in words:\n",
    "                        local_res.append(w + (' ' if word else '') + word)\n",
    "            memo[string] = local_res\n",
    "\n",
    "            return local_res\n",
    "\n",
    "        return dfs(s)\n"
   ]
  }
 ],
 "metadata": {
  "kernelspec": {
   "display_name": "Python 3.8.10 64-bit",
   "language": "python",
   "name": "python3"
  },
  "language_info": {
   "name": "python",
   "version": "3.8.10"
  },
  "orig_nbformat": 4,
  "vscode": {
   "interpreter": {
    "hash": "916dbcbb3f70747c44a77c7bcd40155683ae19c65e1c03b4aa3499c5328201f1"
   }
  }
 },
 "nbformat": 4,
 "nbformat_minor": 2
}
