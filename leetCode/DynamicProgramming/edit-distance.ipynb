{
 "cells": [
  {
   "cell_type": "markdown",
   "metadata": {},
   "source": [
    "# 72. Edit Distance\n",
    "\n",
    "Given two strings `word1` and `word2`, return *the minimum number of operations required to convert `word1` to `word2`*.\n",
    "\n",
    "You have the following three operations permitted on a word:\n",
    "\n",
    "- Insert a character\n",
    "- Delete a character\n",
    "- Replace a character\n",
    " \n",
    "\n",
    "**Example 1:**\n",
    "```\n",
    "Input: word1 = \"horse\", word2 = \"ros\"\n",
    "Output: 3\n",
    "Explanation: \n",
    "horse -> rorse (replace 'h' with 'r')\n",
    "rorse -> rose (remove 'r')\n",
    "rose -> ros (remove 'e')\n",
    "```\n",
    "---\n",
    "**Example 2:**\n",
    "```\n",
    "Input: word1 = \"intention\", word2 = \"execution\"\n",
    "Output: 5\n",
    "Explanation: \n",
    "intention -> inention (remove 't')\n",
    "inention -> enention (replace 'i' with 'e')\n",
    "enention -> exention (replace 'n' with 'x')\n",
    "exention -> exection (replace 'n' with 'c')\n",
    "exection -> execution (insert 'u')\n",
    "```\n",
    "---\n",
    "\n",
    "**Constraints:**\n",
    "\n",
    "- `0 <= word1.length, word2.length <= 500`\n",
    "- `word1` and `word2` consist of lowercase English letters."
   ]
  },
  {
   "cell_type": "code",
   "execution_count": null,
   "metadata": {},
   "outputs": [],
   "source": [
    "class Solution:\n",
    "    def minDistance(self, word1: str, word2: str) -> int:\n",
    "        cache = [[float('-inf') for _ in range(len(word1) + 1)] for _ in range(len(word2) + 1)]\n",
    "\n",
    "        for i in range(len(word1) + 1):\n",
    "            cache[len(word2)][i] = len(word1) - i\n",
    "        for i in range(len(word2) + 1):\n",
    "            cache[i][len(word1)] = len(word2) - i\n",
    "\n",
    "        for i in range(len(word2) - 1, -1, -1):\n",
    "            for j in range(len(word1) - 1, -1, -1):\n",
    "                if word2[i] == word1[j]:\n",
    "                    cache[i][j] = cache[i + 1][j + 1]\n",
    "                else:\n",
    "                    cache[i][j] = 1 + min(cache[i + 1][j + 1], cache[i][j + 1], cache[i + 1][j])\n",
    "\n",
    "        return cache[0][0]"
   ]
  }
 ],
 "metadata": {
  "language_info": {
   "name": "python"
  },
  "orig_nbformat": 4
 },
 "nbformat": 4,
 "nbformat_minor": 2
}
