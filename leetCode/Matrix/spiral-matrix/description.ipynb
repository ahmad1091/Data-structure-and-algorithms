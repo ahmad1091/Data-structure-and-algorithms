{
 "cells": [
  {
   "cell_type": "markdown",
   "metadata": {},
   "source": [
    "# 54. Spiral Matrix\n",
    "\n",
    "Given an `m x n` matrix, return *all elements of the `matrix` in spiral order*.\n",
    "\n",
    " \n",
    "\n",
    "**Example 1:**\n",
    "\n",
    "![image](https://assets.leetcode.com/uploads/2020/11/13/spiral1.jpg)\n",
    "```\n",
    "Input: matrix = [[1,2,3],[4,5,6],[7,8,9]]\n",
    "Output: [1,2,3,6,9,8,7,4,5]\n",
    "```\n",
    "---\n",
    "**Example 2:**\n",
    "\n",
    "![image](https://assets.leetcode.com/uploads/2020/11/13/spiral.jpg)\n",
    "```\n",
    "Input: matrix = [[1,2,3,4],[5,6,7,8],[9,10,11,12]]\n",
    "Output: [1,2,3,4,8,12,11,10,9,5,6,7]\n",
    " ```\n",
    " ---\n",
    "\n",
    "**Constraints:**\n",
    "\n",
    "- `m == matrix.length`\n",
    "- `n == matrix[i].length`\n",
    "- `1 <= m, n <= 10`\n",
    "- `-100 <= matrix[i][j] <= 100`"
   ]
  },
  {
   "cell_type": "code",
   "execution_count": null,
   "metadata": {},
   "outputs": [],
   "source": [
    "class Solution:\n",
    "    def spiralOrder(self, matrix: List[List[int]]) -> List[int]:\n",
    "        top, bottom, left, right = 0, len(matrix), 0, len(matrix[0])\n",
    "        ordered = []\n",
    "        while left < right and top < bottom:\n",
    "            # get every index in the top row\n",
    "            for i in range(left, right):\n",
    "                ordered.append(matrix[top][i])\n",
    "            top += 1\n",
    "\n",
    "            # get every index in the right column\n",
    "            for i in range(top, bottom):\n",
    "                ordered.append(matrix[i][right - 1])\n",
    "            right -= 1\n",
    "\n",
    "            if not(left < right and top < bottom):\n",
    "                break\n",
    "                \n",
    "            # get every index in the bottom row\n",
    "            for i in range(right - 1, left - 1, -1):\n",
    "                ordered.append(matrix[bottom - 1][i])\n",
    "            bottom -= 1\n",
    "        \n",
    "            # get every index in the left column\n",
    "            for i in range(bottom - 1, top - 1, -1):\n",
    "                ordered.append(matrix[i][left])\n",
    "            left += 1\n",
    "        \n",
    "        return ordered"
   ]
  }
 ],
 "metadata": {
  "kernelspec": {
   "display_name": "Python 3.8.10 64-bit",
   "language": "python",
   "name": "python3"
  },
  "language_info": {
   "name": "python",
   "version": "3.8.10"
  },
  "orig_nbformat": 4,
  "vscode": {
   "interpreter": {
    "hash": "916dbcbb3f70747c44a77c7bcd40155683ae19c65e1c03b4aa3499c5328201f1"
   }
  }
 },
 "nbformat": 4,
 "nbformat_minor": 2
}
