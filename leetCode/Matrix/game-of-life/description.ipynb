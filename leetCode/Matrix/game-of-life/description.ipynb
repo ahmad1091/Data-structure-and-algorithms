{
 "cells": [
  {
   "cell_type": "markdown",
   "metadata": {},
   "source": [
    "# 289. Game of Life\n",
    "\n",
    "According to [Wikipedia's article](https://en.wikipedia.org/wiki/Conway%27s_Game_of_Life): \"The Game of Life, also known simply as Life, is a cellular automaton devised by the British mathematician John Horton Conway in 1970.\"\n",
    "\n",
    "The board is made up of an `m x n` grid of cells, where each cell has an initial state: live (represented by a `1`) or dead (represented by a `0`). Each cell interacts with its [eight neighbors](https://en.wikipedia.org/wiki/Moore_neighborhood) (horizontal, vertical, diagonal) using the following four rules (taken from the above Wikipedia article):\n",
    "\n",
    "1. Any live cell with fewer than two live neighbors dies as if caused by under-population.\n",
    "2. Any live cell with two or three live neighbors lives on to the next generation.\n",
    "3. Any live cell with more than three live neighbors dies, as if by over-population.\n",
    "4. Any dead cell with exactly three live neighbors becomes a live cell, as if by reproduction.\n",
    "\n",
    "The next state is created by applying the above rules simultaneously to every cell in the current state, where births and deaths occur simultaneously. Given the current state of the m x n grid board, return the next state.\n",
    "\n",
    " \n",
    "\n",
    "**Example 1:**\n",
    "\n",
    "![image](https://assets.leetcode.com/uploads/2020/12/26/grid1.jpg)\n",
    "```\n",
    "Input: board = [[0,1,0],[0,0,1],[1,1,1],[0,0,0]]\n",
    "Output: [[0,0,0],[1,0,1],[0,1,1],[0,1,0]]\n",
    "```\n",
    "---\n",
    "**Example 2:**\n",
    "\n",
    "![image](https://assets.leetcode.com/uploads/2020/12/26/grid2.jpg)\n",
    "```\n",
    "Input: board = [[1,1],[1,0]]\n",
    "Output: [[1,1],[1,1]]\n",
    " ```\n",
    " ---\n",
    "\n",
    "**Constraints:**\n",
    "\n",
    "- `m == board.length`\n",
    "- `n == board[i].length`\n",
    "- `1 <= m, n <= 25`\n",
    "- `board[i][j] is 0 or 1.`\n",
    " \n",
    "\n",
    "**Follow up:**\n",
    "\n",
    "- Could you solve it in-place? Remember that the board needs to be updated simultaneously: You cannot update some cells first and then use their updated values to update other cells.\n",
    "- In this question, we represent the board using a 2D array. In principle, the board is infinite, which would cause problems when the active area encroaches upon the border of the array (i.e., live cells reach the border). How would you address these problems?\n"
   ]
  },
  {
   "cell_type": "code",
   "execution_count": null,
   "metadata": {},
   "outputs": [],
   "source": [
    "class Solution:\n",
    "    def gameOfLife(self, board: List[List[int]]) -> None:\n",
    "        # |original|  new  |  code |\n",
    "        # |--------|-------|-------|\n",
    "        # |   0    |   0   |  0    |\n",
    "        # |   1    |   0   |  1    |\n",
    "        # |   0    |   1   |  2    |\n",
    "        # |   1    |   1   |  3    |\n",
    "        def count_ones(r, c):\n",
    "            ones = 0\n",
    "            for i in range(r - 1, r + 2):\n",
    "                for j in range(c - 1, c + 2):\n",
    "                    if ((c == j and r == i ) or\n",
    "                        j == len(board[0]) or\n",
    "                        i == len(board) or\n",
    "                        i < 0 or j < 0):\n",
    "                        continue\n",
    "                    if board[i][j] in [1, 3]:\n",
    "                        ones += 1\n",
    "            return ones\n",
    "\n",
    "        for r in range(len(board)):\n",
    "            for c in range(len(board[0])):\n",
    "                ones = count_ones(r, c)\n",
    "                if board[r][c]:\n",
    "                    if ones in [2, 3]:\n",
    "                        board[r][c] = 3\n",
    "                elif ones == 3:\n",
    "                    board[r][c] = 2\n",
    "\n",
    "        for r in range(len(board)):\n",
    "            for c in range(len(board[0])):\n",
    "                if board[r][c] == 1:\n",
    "                    board[r][c] = 0\n",
    "                elif board[r][c] in [2, 3]:\n",
    "                    board[r][c] = 1   "
   ]
  }
 ],
 "metadata": {
  "kernelspec": {
   "display_name": "Python 3.8.10 64-bit",
   "language": "python",
   "name": "python3"
  },
  "language_info": {
   "name": "python",
   "version": "3.8.10"
  },
  "orig_nbformat": 4,
  "vscode": {
   "interpreter": {
    "hash": "916dbcbb3f70747c44a77c7bcd40155683ae19c65e1c03b4aa3499c5328201f1"
   }
  }
 },
 "nbformat": 4,
 "nbformat_minor": 2
}
