{
 "cells": [
  {
   "cell_type": "markdown",
   "metadata": {},
   "source": [
    "# 48. Rotate Image\n",
    "\n",
    "You are given an `n x n` 2D `matrix` representing an image, rotate the image by **90** degrees (clockwise).\n",
    "\n",
    "You have to rotate the image [in-place](https://en.wikipedia.org/wiki/In-place_algorithm), which means you have to modify the input 2D matrix directly. **DO NOT** allocate another 2D matrix and do the rotation.\n",
    "\n",
    " \n",
    "\n",
    "**Example 1:**\n",
    "\n",
    "![image](https://assets.leetcode.com/uploads/2020/08/28/mat1.jpg)\n",
    "```\n",
    "Input: matrix = [[1,2,3],[4,5,6],[7,8,9]]\n",
    "Output: [[7,4,1],[8,5,2],[9,6,3]]\n",
    "```\n",
    "---\n",
    "**Example 2:**\n",
    "\n",
    "![image](https://assets.leetcode.com/uploads/2020/08/28/mat2.jpg)\n",
    "```\n",
    "Input: matrix = [[5,1,9,11],[2,4,8,10],[13,3,6,7],[15,14,12,16]]\n",
    "Output: [[15,13,2,5],[14,3,4,1],[12,6,8,9],[16,7,10,11]]\n",
    " ```\n",
    " ---\n",
    "\n",
    "**Constraints:**\n",
    "\n",
    "- `n == matrix.length == matrix[i].length`\n",
    "- `1 <= n <= 20`\n",
    "- `-1000 <= matrix[i][j] <= 1000`"
   ]
  },
  {
   "cell_type": "code",
   "execution_count": null,
   "metadata": {},
   "outputs": [],
   "source": [
    "class Solution:\n",
    "    def rotate(self, matrix: List[List[int]]) -> None:\n",
    "        \"\"\"\n",
    "        Do not return anything, modify matrix in-place instead.\n",
    "        \"\"\"\n",
    "        temp = [[0 for x in range(len(matrix))] for y in range(len(matrix))] \n",
    "    \n",
    "        p = 0\n",
    "\n",
    "        for i in range(len(matrix)-1,-1,-1):\n",
    "            for j in range(len(matrix)):\n",
    "                temp[j][i] = matrix[p][j]\n",
    "            p +=1\n",
    "                \n",
    "        for i in range(len(matrix)):\n",
    "            for j in range(len(matrix)):\n",
    "                matrix[i][j] = temp[i][j]\n",
    "        "
   ]
  },
  {
   "cell_type": "code",
   "execution_count": null,
   "metadata": {},
   "outputs": [],
   "source": [
    "class Solution:\n",
    "    def rotate(self, matrix: List[List[int]]) -> None:\n",
    "        l, r = 0, len(matrix) - 1\n",
    "\n",
    "        while l < r:\n",
    "            for i in range(r - l):\n",
    "                top, bottom = l, r\n",
    "                # save the top-left\n",
    "                top_left = matrix[top][l + i]\n",
    "                # move the bottom-left into top-left\n",
    "                matrix[top][l + i] = matrix[bottom - i][l]\n",
    "                # move bottom-right into the bottom-left\n",
    "                matrix[bottom - i][l] = matrix[bottom][r - i]\n",
    "                # move the top-right into the bottom-right\n",
    "                matrix[bottom][r - i] = matrix[top + i][r]\n",
    "                # move the top-left into the top-right\n",
    "                matrix[top + i][r] = top_left\n",
    "            \n",
    "            l += 1\n",
    "            r -= 1"
   ]
  }
 ],
 "metadata": {
  "kernelspec": {
   "display_name": "Python 3.8.10 64-bit",
   "language": "python",
   "name": "python3"
  },
  "language_info": {
   "name": "python",
   "version": "3.8.10"
  },
  "orig_nbformat": 4,
  "vscode": {
   "interpreter": {
    "hash": "916dbcbb3f70747c44a77c7bcd40155683ae19c65e1c03b4aa3499c5328201f1"
   }
  }
 },
 "nbformat": 4,
 "nbformat_minor": 2
}
