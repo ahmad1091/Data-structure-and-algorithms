{
 "cells": [
  {
   "cell_type": "markdown",
   "metadata": {},
   "source": [
    "# 73. Set Matrix Zeroes\n",
    "\n",
    "Given an `m x n` integer matrix `matrix`, if an element is `0`, set its entire row and column to `0`'s.\n",
    "\n",
    "You must do it in [place](https://en.wikipedia.org/wiki/In-place_algorithm).\n",
    "\n",
    " \n",
    "\n",
    "**Example 1:**\n",
    "\n",
    "![image](https://assets.leetcode.com/uploads/2020/08/17/mat1.jpg)\n",
    "```\n",
    "Input: matrix = [[1,1,1],[1,0,1],[1,1,1]]\n",
    "Output: [[1,0,1],[0,0,0],[1,0,1]]\n",
    "```\n",
    "---\n",
    "**Example 2:**\n",
    "\n",
    "![image](https://assets.leetcode.com/uploads/2020/08/17/mat2.jpg)\n",
    "```\n",
    "Input: matrix = [[0,1,2,0],[3,4,5,2],[1,3,1,5]]\n",
    "Output: [[0,0,0,0],[0,4,5,0],[0,3,1,0]]\n",
    " ```\n",
    " ---\n",
    "\n",
    "**Constraints:**\n",
    "\n",
    "- `m == matrix.length`\n",
    "- `n == matrix[0].length`\n",
    "- `1 <= m, n <= 200`\n",
    "- `-231 <= matrix[i][j] <= 231 - 1`\n",
    " \n",
    "\n",
    "**Follow up:**\n",
    "\n",
    "- A straightforward solution using `O(mn)` space is probably a bad idea.\n",
    "- A simple improvement uses `O(m + n)` space, but still not the best solution.\n",
    "- Could you devise a constant space solution?"
   ]
  },
  {
   "cell_type": "code",
   "execution_count": null,
   "metadata": {},
   "outputs": [],
   "source": [
    "class Solution:\n",
    "    def zerofiy_col(self, matrix, col):\n",
    "        for r in range(len(matrix)):\n",
    "            matrix[r][col] = 0\n",
    "\n",
    "    def zerofiy_row(self, matrix, row):\n",
    "        for c in range(len(matrix[0])):\n",
    "            matrix[row][c] = 0\n",
    "                \n",
    "    def setZeroes(self, matrix: List[List[int]]) -> None:\n",
    "        row = [False] * len(matrix)\n",
    "        col = [False] * len(matrix[0])\n",
    "\n",
    "        for r in range(len(matrix)):\n",
    "            for c in range(len(matrix[0])):\n",
    "                if not matrix[r][c]:\n",
    "                    row[r] = True\n",
    "                    col[c] = True\n",
    "\n",
    "        for i in range(len(matrix)):\n",
    "            if(row[i]):\n",
    "                self.zerofiy_row(matrix, i)\n",
    "\n",
    "        for j in range(len(matrix[0])):\n",
    "            if(col[j]):\n",
    "                self.zerofiy_col(matrix, j)"
   ]
  }
 ],
 "metadata": {
  "kernelspec": {
   "display_name": "Python 3.8.10 64-bit",
   "language": "python",
   "name": "python3"
  },
  "language_info": {
   "name": "python",
   "version": "3.8.10"
  },
  "orig_nbformat": 4,
  "vscode": {
   "interpreter": {
    "hash": "916dbcbb3f70747c44a77c7bcd40155683ae19c65e1c03b4aa3499c5328201f1"
   }
  }
 },
 "nbformat": 4,
 "nbformat_minor": 2
}
