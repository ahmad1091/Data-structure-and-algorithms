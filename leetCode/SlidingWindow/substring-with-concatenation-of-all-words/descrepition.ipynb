{
 "cells": [
  {
   "cell_type": "markdown",
   "metadata": {},
   "source": [
    "# 30. Substring with Concatenation of All Words\n",
    "\n",
    "You are given a string `s` and an array of strings `words`. All the strings of `words` are of **the same length**.\n",
    "\n",
    "A **concatenated substring** in `s` is a substring that contains all the strings of any permutation of `words` concatenated.\n",
    "\n",
    "- For example, if `words = [\"ab\",\"cd\",\"ef\"]`, then \"abcdef\", `\"abefcd\"`, `\"cdabef\"`, `\"cdefab\"`, `\"efabcd\"`, and `\"efcdab\"` are all concatenated strings. `\"acdbef\"` is not a concatenated substring because it is not the concatenation of any permutation of `words`.\n",
    "Return the starting indices of all the concatenated substrings in `s`. You can return the answer in **any order**.\n",
    "\n",
    " \n",
    "\n",
    "**Example 1:**\n",
    "```\n",
    "Input: s = \"barfoothefoobarman\", words = [\"foo\",\"bar\"]\n",
    "Output: [0,9]\n",
    "Explanation: Since words.length == 2 and words[i].length == 3, the concatenated substring has to be of length 6.\n",
    "The substring starting at 0 is \"barfoo\". It is the concatenation of [\"bar\",\"foo\"] which is a permutation of words.\n",
    "The substring starting at 9 is \"foobar\". It is the concatenation of [\"foo\",\"bar\"] which is a permutation of words.\n",
    "The output order does not matter. Returning [9,0] is fine too.\n",
    "```\n",
    "---\n",
    "**Example 2:**\n",
    "```\n",
    "Input: s = \"wordgoodgoodgoodbestword\", words = [\"word\",\"good\",\"best\",\"word\"]\n",
    "Output: []\n",
    "Explanation: Since words.length == 4 and words[i].length == 4, the concatenated substring has to be of length 16.\n",
    "There is no substring of length 16 is s that is equal to the concatenation of any permutation of words.\n",
    "We return an empty array.\n",
    "```\n",
    "---\n",
    "**Example 3:**\n",
    "```\n",
    "Input: s = \"barfoofoobarthefoobarman\", words = [\"bar\",\"foo\",\"the\"]\n",
    "Output: [6,9,12]\n",
    "Explanation: Since words.length == 3 and words[i].length == 3, the concatenated substring has to be of length 9.\n",
    "The substring starting at 6 is \"foobarthe\". It is the concatenation of [\"foo\",\"bar\",\"the\"] which is a permutation of words.\n",
    "The substring starting at 9 is \"barthefoo\". It is the concatenation of [\"bar\",\"the\",\"foo\"] which is a permutation of words.\n",
    "The substring starting at 12 is \"thefoobar\". It is the concatenation of [\"the\",\"foo\",\"bar\"] which is a permutation of words.\n",
    " ```\n",
    " ---\n",
    "\n",
    "**Constraints:**\n",
    "\n",
    "- `1 <= s.length <= 104`\n",
    "- `1 <= words.length <= 5000`\n",
    "- `1 <= words[i].length <= 30`\n",
    "- `s` and `words[i]` consist of lowercase English letters."
   ]
  },
  {
   "cell_type": "code",
   "execution_count": null,
   "metadata": {},
   "outputs": [],
   "source": [
    "class Solution:\n",
    "    def findSubstring(self, s: str, words: List[str]) -> List[int]:\n",
    "        cnt = Counter(words)\n",
    "        m, n = len(s), len(words)\n",
    "        word_length = len(words[0])\n",
    "        indices = []\n",
    "\n",
    "        for i in range(word_length):\n",
    "            sub_cnt = Counter()\n",
    "            l = r = i\n",
    "            cur_occur = 0\n",
    "\n",
    "            while r + word_length <= m:\n",
    "                word = s[r : r + word_length]\n",
    "                r += word_length\n",
    "                if word not in cnt:\n",
    "                    l = r\n",
    "                    sub_cnt.clear()\n",
    "                    cur_occur = 0\n",
    "                    continue\n",
    "\n",
    "                sub_cnt[word] += 1\n",
    "                cur_occur += 1\n",
    "                \n",
    "                while sub_cnt[word] > cnt[word]:\n",
    "                    intruder = s[l : l + word_length]\n",
    "                    l += word_length\n",
    "                    sub_cnt[intruder] -= 1\n",
    "                    cur_occur -= 1\n",
    "                \n",
    "                if cur_occur == n:\n",
    "                    indices.append(l)\n",
    "\n",
    "        return indices"
   ]
  }
 ],
 "metadata": {
  "kernelspec": {
   "display_name": "Python 3.8.10 64-bit",
   "language": "python",
   "name": "python3"
  },
  "language_info": {
   "name": "python",
   "version": "3.8.10"
  },
  "orig_nbformat": 4,
  "vscode": {
   "interpreter": {
    "hash": "916dbcbb3f70747c44a77c7bcd40155683ae19c65e1c03b4aa3499c5328201f1"
   }
  }
 },
 "nbformat": 4,
 "nbformat_minor": 2
}
