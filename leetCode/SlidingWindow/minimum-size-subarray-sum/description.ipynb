{
 "cells": [
  {
   "cell_type": "markdown",
   "metadata": {},
   "source": [
    "# 209. Minimum Size Subarray Sum\n",
    "\n",
    "Given an array of positive integers `nums` and a positive integer `target`, return ***the minimal length** of a \n",
    "subarray\n",
    " whose sum is greater than or equal to* `target`. If there is no such subarray, return `0` instead.\n",
    "\n",
    " \n",
    "\n",
    "**Example 1:**\n",
    "```\n",
    "Input: target = 7, nums = [2,3,1,2,4,3]\n",
    "Output: 2\n",
    "Explanation: The subarray [4,3] has the minimal length under the problem constraint.\n",
    "```\n",
    "---\n",
    "**Example 2:**\n",
    "```\n",
    "Input: target = 4, nums = [1,4,4]\n",
    "Output: 1\n",
    "```\n",
    "---\n",
    "**Example 3:**\n",
    "```\n",
    "Input: target = 11, nums = [1,1,1,1,1,1,1,1]\n",
    "Output: 0\n",
    "```\n",
    "---\n",
    "**Constraints:**\n",
    "\n",
    "- `1 <= target <= 109`\n",
    "- `1 <= nums.length <= 105`\n",
    "- `1 <= nums[i] <= 104`\n",
    " \n",
    "\n",
    "**Follow up:** If you have figured out the `O(n)` solution, try coding another solution of which the time complexity is `O(n log(n))`."
   ]
  },
  {
   "cell_type": "code",
   "execution_count": null,
   "metadata": {},
   "outputs": [],
   "source": [
    "class Solution:\n",
    "    def minSubArrayLen(self, target: int, nums: List[int]) -> int:\n",
    "        l, acc, min_length = 0, 0, float('inf')\n",
    "\n",
    "        for r in range(len(nums)):\n",
    "            acc += nums[r]\n",
    "            while acc >= target:\n",
    "                min_length = min(min_length, r - l + 1)\n",
    "                acc -= nums[l]\n",
    "                l += 1\n",
    "            \n",
    "        return min_length if min_length != float('inf') else 0"
   ]
  }
 ],
 "metadata": {
  "kernelspec": {
   "display_name": "Python 3.8.10 64-bit",
   "language": "python",
   "name": "python3"
  },
  "language_info": {
   "name": "python",
   "version": "3.8.10"
  },
  "orig_nbformat": 4,
  "vscode": {
   "interpreter": {
    "hash": "916dbcbb3f70747c44a77c7bcd40155683ae19c65e1c03b4aa3499c5328201f1"
   }
  }
 },
 "nbformat": 4,
 "nbformat_minor": 2
}
