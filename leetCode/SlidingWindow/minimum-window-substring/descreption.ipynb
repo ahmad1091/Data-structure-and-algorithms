{
 "cells": [
  {
   "cell_type": "markdown",
   "metadata": {},
   "source": [
    "# 76. Minimum Window Substring\n",
    "\n",
    "Given two strings `s` and `t` of lengths `m` and `n` respectively, return the***minimum window substring** of `s` such that every character in `t` (**including duplicates**) is included in the window*. If there is no such substring, return the empty string `\"\"`.\n",
    "\n",
    "The testcases will be generated such that the answer is **unique**.\n",
    "\n",
    " \n",
    "\n",
    "**Example 1:**\n",
    "```\n",
    "Input: s = \"ADOBECODEBANC\", t = \"ABC\"\n",
    "Output: \"BANC\"\n",
    "Explanation: The minimum window substring \"BANC\" includes 'A', 'B', and 'C' from string t.\n",
    "```\n",
    "---\n",
    "**Example 2:**\n",
    "```\n",
    "Input: s = \"a\", t = \"a\"\n",
    "Output: \"a\"\n",
    "Explanation: The entire string s is the minimum window.\n",
    "```\n",
    "---\n",
    "**Example 3:**\n",
    "```\n",
    "Input: s = \"a\", t = \"aa\"\n",
    "Output: \"\"\n",
    "Explanation: Both 'a's from t must be included in the window.\n",
    "Since the largest window of s only has one 'a', return empty string.\n",
    " ```\n",
    " ---\n",
    "\n",
    "**Constraints:**\n",
    "\n",
    "- `m == s.length`\n",
    "- `n == t.length`\n",
    "- `1 <= m, n <= 105`\n",
    "- `s` and `t` consist of uppercase and lowercase English letters.\n",
    " \n",
    "\n",
    "**Follow up:** Could you find an algorithm that runs in `O(m + n)` time?"
   ]
  },
  {
   "cell_type": "code",
   "execution_count": null,
   "metadata": {},
   "outputs": [],
   "source": [
    "class Solution:\n",
    "    def minWindow(self, s: str, t: str) -> str:\n",
    "        if t == '': return ''\n",
    "        window, count = Counter(), Counter(t)\n",
    "        have, need = 0, len(count)\n",
    "        indices, length = [-1, -1], 10 ** 5\n",
    "        l = 0\n",
    "        for r in range(len(s)):\n",
    "            char = s[r]\n",
    "            window[char] += 1\n",
    "\n",
    "            if char in count and count[char] == window[char]:\n",
    "                have += 1\n",
    "\n",
    "            while have == need:\n",
    "                if  (r - l + 1) < length:\n",
    "                    length = r - l + 1\n",
    "                    indices = [l, r]\n",
    "\n",
    "                window[s[l]] -= 1\n",
    "\n",
    "                if s[l] in count and count[s[l]] > window[s[l]]:\n",
    "                    have -= 1\n",
    "                l += 1\n",
    "        \n",
    "        return s[indices[0] : indices[1] + 1] if length != 10 ** 5 else ''"
   ]
  }
 ],
 "metadata": {
  "kernelspec": {
   "display_name": "Python 3.8.10 64-bit",
   "language": "python",
   "name": "python3"
  },
  "language_info": {
   "name": "python",
   "version": "3.8.10"
  },
  "orig_nbformat": 4,
  "vscode": {
   "interpreter": {
    "hash": "916dbcbb3f70747c44a77c7bcd40155683ae19c65e1c03b4aa3499c5328201f1"
   }
  }
 },
 "nbformat": 4,
 "nbformat_minor": 2
}
