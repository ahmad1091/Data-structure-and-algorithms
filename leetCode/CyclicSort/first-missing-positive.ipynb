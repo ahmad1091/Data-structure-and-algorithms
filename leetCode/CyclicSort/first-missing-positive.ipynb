{
 "cells": [
  {
   "cell_type": "markdown",
   "metadata": {},
   "source": [
    "# 41. First Missing Positive\n",
    "\n",
    "Given an unsorted integer array `nums`, return the smallest missing positive integer.\n",
    "\n",
    "You must implement an algorithm that runs in `O(n)` time and uses constant extra space.\n",
    "\n",
    " \n",
    "\n",
    "**Example 1:**\n",
    "\n",
    "**Input:**` nums = [1,2,0]`\n",
    "\n",
    "**Output:** `3`\n",
    "\n",
    "**Explanation:** `The numbers in the range [1,2] are all in the array.`\n",
    "\n",
    "---\n",
    "\n",
    "**Example 2:**\n",
    "\n",
    "**Input:**` nums = [3,4,-1,1]`\n",
    "\n",
    "**Output:** `2`\n",
    "\n",
    "**Explanation:** `1 is in the array but 2 is missing.`\n",
    "\n",
    "---\n",
    "\n",
    "**Example 3:**\n",
    "\n",
    "**Input:**` nums = [7,8,9,11,12]`\n",
    "\n",
    "**Output:** `1`\n",
    "\n",
    "**Explanation:** `The smallest positive integer 1 is missing.`\n",
    " \n",
    "---\n",
    "\n",
    "**Constraints:**\n",
    "\n",
    "- `1 <= nums.length <= 105`\n",
    "- `-231 <= nums[i] <= 231 - 1`"
   ]
  },
  {
   "cell_type": "code",
   "execution_count": null,
   "metadata": {},
   "outputs": [],
   "source": [
    "class Solution:\n",
    "    def firstMissingPositive(self, nums: List[int]) -> int:\n",
    "        if 1 not in nums: return 1\n",
    "        nums = list(set(nums))\n",
    "        nums.sort()\n",
    "        prev = 1\n",
    "        for n in nums:\n",
    "            if n <= 0:\n",
    "                continue\n",
    "            if n != prev:\n",
    "                return prev\n",
    "            \n",
    "            prev += 1\n",
    "\n",
    "        return prev"
   ]
  }
 ],
 "metadata": {
  "language_info": {
   "name": "python"
  },
  "orig_nbformat": 4
 },
 "nbformat": 4,
 "nbformat_minor": 2
}
