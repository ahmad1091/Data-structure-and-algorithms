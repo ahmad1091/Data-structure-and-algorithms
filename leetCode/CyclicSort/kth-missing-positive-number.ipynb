{
 "cells": [
  {
   "cell_type": "markdown",
   "metadata": {},
   "source": [
    "# 1539. Kth Missing Positive Number\n",
    "\n",
    "Given an array `arr` of positive integers sorted in a **strictly increasing order**, and an integer `k`.\n",
    "\n",
    "Return the `kth` **positive** integer that is **missing** from this array.\n",
    "\n",
    " \n",
    " \n",
    "\n",
    "**Example 1:**\n",
    "\n",
    "**Input:** `arr = [2,3,4,7,11], k = 5`\n",
    "\n",
    "**Output:** `9`\n",
    "\n",
    "**Explanation:** `The missing positive integers are [1,5,6,8,9,10,12,13,...]. The 5th missing positive integer is 9.`\n",
    "\n",
    "---\n",
    "\n",
    "**Example 2:**\n",
    "\n",
    "**Input:** `arr = [1,2,3,4], k = 2`\n",
    "\n",
    "**Output:** `6`\n",
    "\n",
    "**Explanation:** `The missing positive integers are [5,6,7,...]. The 2nd missing positive integer is 6.`\n",
    " \n",
    "---\n",
    "\n",
    "**Constraints:**\n",
    "\n",
    "- `1 <= arr.length <= 1000`\n",
    "- `1 <= arr[i] <= 1000`\n",
    "- `1 <= k <= 1000`\n",
    "- `arr[i] < arr[j] for 1 <= i < j <= arr.length`\n"
   ]
  },
  {
   "cell_type": "code",
   "execution_count": null,
   "metadata": {},
   "outputs": [],
   "source": [
    "class Solution:\n",
    "    def findKthPositive(self, arr: List[int], k: int) -> int:\n",
    "        n = len(arr)\n",
    "        j = 0\n",
    "        for i in range(n + k):\n",
    "            if j == len(arr):\n",
    "                break\n",
    "            if i + 1 == arr[j]:\n",
    "                j += 1\n",
    "            else:\n",
    "                k -= 1\n",
    "            if k == 0:\n",
    "                return i + 1\n",
    "            \n",
    "\n",
    "\n",
    "        return arr[n - 1] + k"
   ]
  }
 ],
 "metadata": {
  "language_info": {
   "name": "python"
  },
  "orig_nbformat": 4
 },
 "nbformat": 4,
 "nbformat_minor": 2
}
