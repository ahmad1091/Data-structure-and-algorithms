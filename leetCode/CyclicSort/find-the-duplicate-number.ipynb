{
 "cells": [
  {
   "cell_type": "markdown",
   "metadata": {},
   "source": [
    "# 287. Find the Duplicate Number\n",
    "\n",
    "Given an array of integers `nums` containing `n + 1` integers where each integer is in the range `[1, n]` inclusive.\n",
    "\n",
    "There is only one repeated number in `nums`, return this repeated number.\n",
    "\n",
    "You must solve the problem without modifying the array `nums` and uses only constant extra space.\n",
    "\n",
    " \n",
    "\n",
    "**Example 1:**\n",
    "\n",
    "**Input:** `nums = [1,3,4,2,2]`\n",
    "\n",
    "**Output:** `2`\n",
    "\n",
    "---\n",
    "\n",
    "**Example 2:**\n",
    "\n",
    "**Input:** `nums = [3,1,3,4,2]`\n",
    "\n",
    "**Output:** `3`\n",
    "\n",
    " ---\n",
    "\n",
    "**Constraints:**\n",
    "\n",
    "- `1 <= n <= 105`\n",
    "- `nums.length == n + 1`\n",
    "- `1 <= nums[i] <= n`\n",
    "- All the integers in `nums` appear only **once** except for **precisely one integer** which appears **two or more** times.\n",
    " \n",
    "---\n",
    "\n",
    "**Follow up:**\n",
    "\n",
    "`How can we prove that at least one duplicate number must exist in `nums`?`\n",
    "\n",
    "`Can you solve the problem in linear runtime complexity?`"
   ]
  },
  {
   "cell_type": "code",
   "execution_count": null,
   "metadata": {},
   "outputs": [],
   "source": [
    "class Solution:\n",
    "    # Hash method\n",
    "    def findDuplicate(self, nums: List[int]) -> int:\n",
    "        count = Counter(nums)\n",
    "\n",
    "        for k, v in count.items():\n",
    "            if v > 1:\n",
    "                return k"
   ]
  },
  {
   "cell_type": "code",
   "execution_count": null,
   "metadata": {},
   "outputs": [],
   "source": [
    "class Solution:\n",
    "    def findDuplicate(self, nums: List[int]) -> int:\n",
    "        fast = slow = nums[0]\n",
    "        while True:\n",
    "            slow = nums[slow]\n",
    "            fast = nums[nums[fast]]\n",
    "            if slow == fast:\n",
    "                break\n",
    "\n",
    "        slow = nums[0]\n",
    "        while slow != fast:\n",
    "            slow = nums[slow]\n",
    "            fast = nums[fast]\n",
    "\n",
    "        return fast\n",
    "\n",
    "\n",
    "def main():\n",
    "    nums = [\n",
    "        [1, 3, 2, 3, 5, 4], \n",
    "        [2, 4, 5, 4, 1, 3], \n",
    "        [1, 6, 3, 5, 1, 2, 7, 4], \n",
    "        [1, 2, 2, 4, 3], \n",
    "        [3, 1, 3, 5, 6, 4, 2]\n",
    "    ]\n",
    "    for i in range(len(nums)):\n",
    "        print(i + 1, \".\\tnums = \", nums[i], sep=\"\")\n",
    "        print(\"\\tDuplicate number = \", find_duplicate(nums[i]), sep=\"\")\n",
    "        print(\"-\" * 100)\n",
    "\n",
    "\n",
    "if __name__ == '__main__':\n",
    "    main()"
   ]
  }
 ],
 "metadata": {
  "kernelspec": {
   "display_name": "Python 3.8.10 64-bit",
   "language": "python",
   "name": "python3"
  },
  "language_info": {
   "name": "python",
   "version": "3.8.10"
  },
  "orig_nbformat": 4,
  "vscode": {
   "interpreter": {
    "hash": "916dbcbb3f70747c44a77c7bcd40155683ae19c65e1c03b4aa3499c5328201f1"
   }
  }
 },
 "nbformat": 4,
 "nbformat_minor": 2
}
