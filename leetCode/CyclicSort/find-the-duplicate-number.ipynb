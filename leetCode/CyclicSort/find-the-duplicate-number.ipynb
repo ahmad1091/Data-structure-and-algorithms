{
 "cells": [
  {
   "cell_type": "markdown",
   "metadata": {},
   "source": [
    "# 287. Find the Duplicate Number\n",
    "\n",
    "Given an array of integers `nums` containing `n + 1` integers where each integer is in the range `[1, n]` inclusive.\n",
    "\n",
    "There is only one repeated number in `nums`, return this repeated number.\n",
    "\n",
    "You must solve the problem without modifying the array `nums` and uses only constant extra space.\n",
    "\n",
    " \n",
    "\n",
    "**Example 1:**\n",
    "\n",
    "**Input:** `nums = [1,3,4,2,2]`\n",
    "\n",
    "**Output:** `2`\n",
    "\n",
    "---\n",
    "\n",
    "**Example 2:**\n",
    "\n",
    "**Input:** `nums = [3,1,3,4,2]`\n",
    "\n",
    "**Output:** `3`\n",
    "\n",
    " ---\n",
    "\n",
    "**Constraints:**\n",
    "\n",
    "- `1 <= n <= 105`\n",
    "- `nums.length == n + 1`\n",
    "- `1 <= nums[i] <= n`\n",
    "- All the integers in `nums` appear only **once** except for **precisely one integer** which appears **two or more** times.\n",
    " \n",
    "---\n",
    "\n",
    "**Follow up:**\n",
    "\n",
    "`How can we prove that at least one duplicate number must exist in `nums`?`\n",
    "\n",
    "`Can you solve the problem in linear runtime complexity?`"
   ]
  }
 ],
 "metadata": {
  "language_info": {
   "name": "python"
  },
  "orig_nbformat": 4
 },
 "nbformat": 4,
 "nbformat_minor": 2
}
