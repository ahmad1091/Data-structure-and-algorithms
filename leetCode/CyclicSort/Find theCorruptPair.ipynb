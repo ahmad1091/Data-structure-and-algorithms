{
 "cells": [
  {
   "cell_type": "markdown",
   "metadata": {},
   "source": [
    "# Find the Corrupt Pair\n",
    "\n",
    "**Statement**\n",
    "Given a non-empty **unsorted** array taken from a range of `1 to n`. Due to some data error, one of the numbers is duplicated, which results in another number missing. Create a function that returns the corrupt pair `(missing, duplicated)`.\n",
    "\n",
    "**Constraints:**\n",
    "- `1 <= n <= 10 ** 3`\n",
    "-  `0<= nums[i] <= n` where `nums` is the input array\n",
    "\n",
    "**Examples:**\n",
    "\n",
    "**input**: `[4, 1, 2, 1, 6, 3]`\n",
    "\n",
    "**output**: `(5, 1)`\n",
    "\n",
    "\n",
    "\n"
   ]
  },
  {
   "cell_type": "code",
   "execution_count": null,
   "metadata": {},
   "outputs": [],
   "source": [
    "def find_corrupt_pair(nums):\n",
    "    missing = None\n",
    "    duplicated = None\n",
    "\n",
    "    def swap(arr, first, second):\n",
    "        arr[first], arr[second] = arr[second], arr[first]\n",
    "\n",
    "    i = 0\n",
    "    while i < len(nums):\n",
    "        correct = nums[i] - 1\n",
    "        if nums[i] != nums[correct]:\n",
    "            swap(nums, i, correct)\n",
    "        else:\n",
    "            i += 1\n",
    "\n",
    "    for j in range(len(nums)):\n",
    "        if nums[j] != j + 1:\n",
    "            duplicated = nums[j]\n",
    "            missing = j + 1\n",
    "    return missing, duplicated\n",
    "\n",
    "\n",
    "def main():\n",
    "    array1 = [3, 1, 2, 5, 2]\n",
    "    array2 = [3, 1, 2, 3, 6, 4]\n",
    "    array3 = [4, 1, 2, 1, 6, 3]\n",
    "    array4 = [4, 3, 4, 5, 1]\n",
    "    array5 = [5, 3, 5, 6, 2, 1]\n",
    "    array6 = [1, 2, 3, 4, 5]\n",
    "    array7 = [5, 4, 3, 2, 1]\n",
    "    array = [array1, array2, array3, array4, array5, array6, array7]\n",
    "    for i in range(len(array)):\n",
    "        print(i + 1,  \".\\tGiven array: \", array[i], sep=\"\")\n",
    "        result = find_corrupt_pair(array[i])\n",
    "\n",
    "        if result[0]:\n",
    "            print(\"\\n\\tCorrupt pair: \", result[0], \", \", result[1], sep=\"\")\n",
    "        else:\n",
    "            print(\"\\n\\tNo corrupt pair found.\")\n",
    "        print(\"-\"*100)\n",
    "\n",
    "\n",
    "if __name__ == '__main__':\n",
    "    main()"
   ]
  }
 ],
 "metadata": {
  "kernelspec": {
   "display_name": "Python 3.8.10 64-bit",
   "language": "python",
   "name": "python3"
  },
  "language_info": {
   "name": "python",
   "version": "3.8.10"
  },
  "orig_nbformat": 4,
  "vscode": {
   "interpreter": {
    "hash": "916dbcbb3f70747c44a77c7bcd40155683ae19c65e1c03b4aa3499c5328201f1"
   }
  }
 },
 "nbformat": 4,
 "nbformat_minor": 2
}
