{
 "cells": [
  {
   "cell_type": "markdown",
   "metadata": {},
   "source": [
    "# 228. Summary Ranges\n",
    "\n",
    "You are given a **sorted unique** integer array `nums`.\n",
    "\n",
    "A range `[a,b]` is the set of all integers from `a` to `b` (inclusive).\n",
    "\n",
    "Return the **smallest sorted** list of ranges that **cover all the numbers in the array exactly**. That is, each element of `nums` is covered by exactly one of the ranges, and there is no integer `x` such that `x` is in one of the ranges but not in `nums`.\n",
    "\n",
    "Each range `[a,b]` in the list should be output as:\n",
    "\n",
    "- `\"a->b\"` if `a != b`\n",
    "- `\"a\"` if `a == b`\n",
    " \n",
    "\n",
    "**Example 1:**\n",
    "```\n",
    "Input: nums = [0,1,2,4,5,7]\n",
    "Output: [\"0->2\",\"4->5\",\"7\"]\n",
    "Explanation: The ranges are:\n",
    "[0,2] --> \"0->2\"\n",
    "[4,5] --> \"4->5\"\n",
    "[7,7] --> \"7\"\n",
    "```\n",
    "---\n",
    "**Example 2:**\n",
    "```\n",
    "Input: nums = [0,2,3,4,6,8,9]\n",
    "Output: [\"0\",\"2->4\",\"6\",\"8->9\"]\n",
    "Explanation: The ranges are:\n",
    "[0,0] --> \"0\"\n",
    "[2,4] --> \"2->4\"\n",
    "[6,6] --> \"6\"\n",
    "[8,9] --> \"8->9\"\n",
    " ```\n",
    " ---\n",
    "\n",
    "**Constraints:**\n",
    "\n",
    "- `0 <= nums.length <= 20`\n",
    "- `-231 <= nums[i] <= 231 - 1`\n",
    "- All the values of `nums` are **unique**.\n",
    "- `nums` is sorted in ascending order."
   ]
  },
  {
   "cell_type": "code",
   "execution_count": null,
   "metadata": {},
   "outputs": [],
   "source": [
    "class Solution:\n",
    "    def summaryRanges(self, nums: List[int]) -> List[str]:\n",
    "        def f(i: int, j: int) -> str:\n",
    "            return str(nums[i]) if i == j else f'{nums[i]}->{nums[j]}'\n",
    "\n",
    "        i = 0\n",
    "        n = len(nums)\n",
    "        ans = []\n",
    "        while i < n:\n",
    "            j = i\n",
    "            while j + 1 < n and nums[j + 1] == nums[j] + 1:\n",
    "                j += 1\n",
    "            ans.append(f(i, j))\n",
    "            i = j + 1\n",
    "        return ans"
   ]
  }
 ],
 "metadata": {
  "kernelspec": {
   "display_name": "Python 3.8.10 64-bit",
   "language": "python",
   "name": "python3"
  },
  "language_info": {
   "name": "python",
   "version": "3.8.10"
  },
  "orig_nbformat": 4,
  "vscode": {
   "interpreter": {
    "hash": "916dbcbb3f70747c44a77c7bcd40155683ae19c65e1c03b4aa3499c5328201f1"
   }
  }
 },
 "nbformat": 4,
 "nbformat_minor": 2
}
